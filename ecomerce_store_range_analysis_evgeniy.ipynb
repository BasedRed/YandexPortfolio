{
 "cells": [
  {
   "cell_type": "markdown",
   "metadata": {},
   "source": [
    "# Final Yandex Data Analyst Project by Evgeniy. "
   ]
  },
  {
   "cell_type": "markdown",
   "metadata": {},
   "source": [
    "The dataset contains the transaction history of an online store that sells household goods.\n",
    "\n",
    "**Task:**\n",
    "\n",
    "Analyze the store's product range.\n",
    "\n",
    "- Carry out exploratory data analysis\n",
    "- Analyze the product range\n",
    "- Formulate and test statistical hypotheses\n",
    "\n",
    "So our task is:  \n",
    "## To look at the items that were ordered, categorize them and then analyze which items (or categories) were selling better and when.\n",
    "\n",
    "______________  \n",
    "  \n",
    "______________\n",
    "______________\n",
    "  \n",
    "    "
   ]
  },
  {
   "cell_type": "markdown",
   "metadata": {},
   "source": [
    "Useful Sources:  \n",
    "* Lambda function - https://datascience.stackexchange.com/questions/17769/how-to-fill-missing-value-based-on-other-columns-in-pandas-dataframe \n",
    "* TextBlob https://stackabuse.com/python-for-nlp-introduction-to-the-textblob-library/\n",
    "* All the Pandas documentation https://pandas.pydata.org/pandas-docs/stable/reference/frame.html\n",
    "* https://www.notion.so/E-Commerce-Product-Range-Analysis-e986f443b6a14b8b9d64dff006451577 Heheh\n",
    "* https://www.machinelearningplus.com/plots/top-50-matplotlib-visualizations-the-master-plots-python/\n",
    "* https://www.geeksforgeeks.org/get-all-rows-in-a-pandas-dataframe-containing-given-substring/\n",
    "* https://datacarpentry.org/python-ecology-lesson/05-merging-data/index.html\n",
    "____"
   ]
  },
  {
   "cell_type": "markdown",
   "metadata": {},
   "source": [
    "PDF Presentation link: https://drive.google.com/file/d/1JRF0Pzq7MkMffvb6sKi60Q0FDyW9Zw5k/view?usp=sharing  \n",
    "Tableau link: https://public.tableau.com/profile/eugene.eugene#!/vizhome/E-CommerceTableauDash/Sheet1?publish=yes"
   ]
  },
  {
   "cell_type": "markdown",
   "metadata": {},
   "source": [
    "# Step 1. Import the data."
   ]
  },
  {
   "cell_type": "code",
   "execution_count": 62,
   "metadata": {},
   "outputs": [],
   "source": [
    "import pandas as pd\n",
    "import datetime as dt\n",
    "pd.options.mode.chained_assignment = None  # default='warn'\n",
    "import numpy as np\n",
    "import matplotlib.pyplot as plt\n",
    "import nltk\n",
    "import plotly.express as px \n",
    "import seaborn as sns"
   ]
  },
  {
   "cell_type": "code",
   "execution_count": 63,
   "metadata": {},
   "outputs": [
    {
     "name": "stdout",
     "output_type": "stream",
     "text": [
      "Defaulting to user installation because normal site-packages is not writeable\n",
      "Requirement already up-to-date: textblob in /home/jovyan/.local/lib/python3.7/site-packages (0.15.3)\n",
      "Requirement already satisfied, skipping upgrade: nltk>=3.1 in /opt/conda/lib/python3.7/site-packages (from textblob) (3.4.1)\n",
      "Requirement already satisfied, skipping upgrade: six in /opt/conda/lib/python3.7/site-packages (from nltk>=3.1->textblob) (1.15.0)\n",
      "[nltk_data] Downloading package brown to /home/jovyan/nltk_data...\n",
      "[nltk_data]   Package brown is already up-to-date!\n",
      "[nltk_data] Downloading package punkt to /home/jovyan/nltk_data...\n",
      "[nltk_data]   Package punkt is already up-to-date!\n",
      "[nltk_data] Downloading package wordnet to /home/jovyan/nltk_data...\n",
      "[nltk_data]   Package wordnet is already up-to-date!\n",
      "[nltk_data] Downloading package averaged_perceptron_tagger to\n",
      "[nltk_data]     /home/jovyan/nltk_data...\n",
      "[nltk_data]   Package averaged_perceptron_tagger is already up-to-\n",
      "[nltk_data]       date!\n",
      "[nltk_data] Downloading package conll2000 to /home/jovyan/nltk_data...\n",
      "[nltk_data]   Package conll2000 is already up-to-date!\n",
      "[nltk_data] Downloading package movie_reviews to\n",
      "[nltk_data]     /home/jovyan/nltk_data...\n",
      "[nltk_data]   Package movie_reviews is already up-to-date!\n",
      "Finished.\n"
     ]
    }
   ],
   "source": [
    "!pip install -U textblob\n",
    "!python -m textblob.download_corpora\n",
    "from textblob import TextBlob"
   ]
  },
  {
   "cell_type": "code",
   "execution_count": null,
   "metadata": {},
   "outputs": [],
   "source": []
  },
  {
   "cell_type": "code",
   "execution_count": 64,
   "metadata": {},
   "outputs": [],
   "source": [
    "# nltk.download('brown')"
   ]
  },
  {
   "cell_type": "code",
   "execution_count": 65,
   "metadata": {},
   "outputs": [],
   "source": [
    "df = pd.read_csv('/datasets/ecommerce_dataset_us.csv', sep='\\t')"
   ]
  },
  {
   "cell_type": "code",
   "execution_count": 66,
   "metadata": {},
   "outputs": [
    {
     "name": "stdout",
     "output_type": "stream",
     "text": [
      "<class 'pandas.core.frame.DataFrame'>\n",
      "RangeIndex: 541909 entries, 0 to 541908\n",
      "Data columns (total 7 columns):\n",
      "InvoiceNo      541909 non-null object\n",
      "StockCode      541909 non-null object\n",
      "Description    540455 non-null object\n",
      "Quantity       541909 non-null int64\n",
      "InvoiceDate    541909 non-null object\n",
      "UnitPrice      541909 non-null float64\n",
      "CustomerID     406829 non-null float64\n",
      "dtypes: float64(2), int64(1), object(4)\n",
      "memory usage: 28.9+ MB\n"
     ]
    }
   ],
   "source": [
    "df.info()"
   ]
  },
  {
   "cell_type": "code",
   "execution_count": 67,
   "metadata": {},
   "outputs": [
    {
     "data": {
      "text/html": [
       "<div>\n",
       "<style scoped>\n",
       "    .dataframe tbody tr th:only-of-type {\n",
       "        vertical-align: middle;\n",
       "    }\n",
       "\n",
       "    .dataframe tbody tr th {\n",
       "        vertical-align: top;\n",
       "    }\n",
       "\n",
       "    .dataframe thead th {\n",
       "        text-align: right;\n",
       "    }\n",
       "</style>\n",
       "<table border=\"1\" class=\"dataframe\">\n",
       "  <thead>\n",
       "    <tr style=\"text-align: right;\">\n",
       "      <th></th>\n",
       "      <th>InvoiceNo</th>\n",
       "      <th>StockCode</th>\n",
       "      <th>Description</th>\n",
       "      <th>Quantity</th>\n",
       "      <th>InvoiceDate</th>\n",
       "      <th>UnitPrice</th>\n",
       "      <th>CustomerID</th>\n",
       "    </tr>\n",
       "  </thead>\n",
       "  <tbody>\n",
       "    <tr>\n",
       "      <td>0</td>\n",
       "      <td>536365</td>\n",
       "      <td>85123A</td>\n",
       "      <td>WHITE HANGING HEART T-LIGHT HOLDER</td>\n",
       "      <td>6</td>\n",
       "      <td>11/29/2018 08:26</td>\n",
       "      <td>2.55</td>\n",
       "      <td>17850.0</td>\n",
       "    </tr>\n",
       "    <tr>\n",
       "      <td>1</td>\n",
       "      <td>536365</td>\n",
       "      <td>71053</td>\n",
       "      <td>WHITE METAL LANTERN</td>\n",
       "      <td>6</td>\n",
       "      <td>11/29/2018 08:26</td>\n",
       "      <td>3.39</td>\n",
       "      <td>17850.0</td>\n",
       "    </tr>\n",
       "    <tr>\n",
       "      <td>2</td>\n",
       "      <td>536365</td>\n",
       "      <td>84406B</td>\n",
       "      <td>CREAM CUPID HEARTS COAT HANGER</td>\n",
       "      <td>8</td>\n",
       "      <td>11/29/2018 08:26</td>\n",
       "      <td>2.75</td>\n",
       "      <td>17850.0</td>\n",
       "    </tr>\n",
       "    <tr>\n",
       "      <td>3</td>\n",
       "      <td>536365</td>\n",
       "      <td>84029G</td>\n",
       "      <td>KNITTED UNION FLAG HOT WATER BOTTLE</td>\n",
       "      <td>6</td>\n",
       "      <td>11/29/2018 08:26</td>\n",
       "      <td>3.39</td>\n",
       "      <td>17850.0</td>\n",
       "    </tr>\n",
       "    <tr>\n",
       "      <td>4</td>\n",
       "      <td>536365</td>\n",
       "      <td>84029E</td>\n",
       "      <td>RED WOOLLY HOTTIE WHITE HEART.</td>\n",
       "      <td>6</td>\n",
       "      <td>11/29/2018 08:26</td>\n",
       "      <td>3.39</td>\n",
       "      <td>17850.0</td>\n",
       "    </tr>\n",
       "  </tbody>\n",
       "</table>\n",
       "</div>"
      ],
      "text/plain": [
       "  InvoiceNo StockCode                          Description  Quantity  \\\n",
       "0    536365    85123A   WHITE HANGING HEART T-LIGHT HOLDER         6   \n",
       "1    536365     71053                  WHITE METAL LANTERN         6   \n",
       "2    536365    84406B       CREAM CUPID HEARTS COAT HANGER         8   \n",
       "3    536365    84029G  KNITTED UNION FLAG HOT WATER BOTTLE         6   \n",
       "4    536365    84029E       RED WOOLLY HOTTIE WHITE HEART.         6   \n",
       "\n",
       "        InvoiceDate  UnitPrice  CustomerID  \n",
       "0  11/29/2018 08:26       2.55     17850.0  \n",
       "1  11/29/2018 08:26       3.39     17850.0  \n",
       "2  11/29/2018 08:26       2.75     17850.0  \n",
       "3  11/29/2018 08:26       3.39     17850.0  \n",
       "4  11/29/2018 08:26       3.39     17850.0  "
      ]
     },
     "execution_count": 67,
     "metadata": {},
     "output_type": "execute_result"
    }
   ],
   "source": [
    "df.head()"
   ]
  },
  {
   "cell_type": "markdown",
   "metadata": {},
   "source": [
    "## Conclusion.\n",
    "We've imported the data :)"
   ]
  },
  {
   "cell_type": "markdown",
   "metadata": {},
   "source": [
    "# Step 2. Data preprocessing."
   ]
  },
  {
   "cell_type": "markdown",
   "metadata": {},
   "source": [
    "### Study type correspondence"
   ]
  },
  {
   "cell_type": "markdown",
   "metadata": {},
   "source": [
    "First let's convert InvoiceTable to datetime object."
   ]
  },
  {
   "cell_type": "code",
   "execution_count": 68,
   "metadata": {},
   "outputs": [],
   "source": [
    "df['InvoiceDate'] = df['InvoiceDate'].map(lambda x: dt.datetime.strptime(x, '%m/%d/%Y %H:%M'))"
   ]
  },
  {
   "cell_type": "markdown",
   "metadata": {},
   "source": [
    "### Study missing values"
   ]
  },
  {
   "cell_type": "code",
   "execution_count": 69,
   "metadata": {},
   "outputs": [
    {
     "name": "stdout",
     "output_type": "stream",
     "text": [
      "<class 'pandas.core.frame.DataFrame'>\n",
      "RangeIndex: 541909 entries, 0 to 541908\n",
      "Data columns (total 7 columns):\n",
      "InvoiceNo      541909 non-null object\n",
      "StockCode      541909 non-null object\n",
      "Description    540455 non-null object\n",
      "Quantity       541909 non-null int64\n",
      "InvoiceDate    541909 non-null datetime64[ns]\n",
      "UnitPrice      541909 non-null float64\n",
      "CustomerID     406829 non-null float64\n",
      "dtypes: datetime64[ns](1), float64(2), int64(1), object(3)\n",
      "memory usage: 28.9+ MB\n"
     ]
    }
   ],
   "source": [
    "df.info()"
   ]
  },
  {
   "cell_type": "markdown",
   "metadata": {},
   "source": [
    "We can see that there are missing values in columns:\n",
    "* Description    \n",
    "* CustomerID  \n",
    "  \n",
    "    \n",
    "Let's look into it"
   ]
  },
  {
   "cell_type": "code",
   "execution_count": 70,
   "metadata": {},
   "outputs": [
    {
     "data": {
      "text/html": [
       "<div>\n",
       "<style scoped>\n",
       "    .dataframe tbody tr th:only-of-type {\n",
       "        vertical-align: middle;\n",
       "    }\n",
       "\n",
       "    .dataframe tbody tr th {\n",
       "        vertical-align: top;\n",
       "    }\n",
       "\n",
       "    .dataframe thead th {\n",
       "        text-align: right;\n",
       "    }\n",
       "</style>\n",
       "<table border=\"1\" class=\"dataframe\">\n",
       "  <thead>\n",
       "    <tr style=\"text-align: right;\">\n",
       "      <th></th>\n",
       "      <th>InvoiceNo</th>\n",
       "      <th>StockCode</th>\n",
       "      <th>Description</th>\n",
       "      <th>Quantity</th>\n",
       "      <th>InvoiceDate</th>\n",
       "      <th>UnitPrice</th>\n",
       "      <th>CustomerID</th>\n",
       "    </tr>\n",
       "  </thead>\n",
       "  <tbody>\n",
       "    <tr>\n",
       "      <td>622</td>\n",
       "      <td>536414</td>\n",
       "      <td>22139</td>\n",
       "      <td>NaN</td>\n",
       "      <td>56</td>\n",
       "      <td>2018-11-29 11:52:00</td>\n",
       "      <td>0.0</td>\n",
       "      <td>NaN</td>\n",
       "    </tr>\n",
       "    <tr>\n",
       "      <td>1970</td>\n",
       "      <td>536545</td>\n",
       "      <td>21134</td>\n",
       "      <td>NaN</td>\n",
       "      <td>1</td>\n",
       "      <td>2018-11-29 14:32:00</td>\n",
       "      <td>0.0</td>\n",
       "      <td>NaN</td>\n",
       "    </tr>\n",
       "    <tr>\n",
       "      <td>1971</td>\n",
       "      <td>536546</td>\n",
       "      <td>22145</td>\n",
       "      <td>NaN</td>\n",
       "      <td>1</td>\n",
       "      <td>2018-11-29 14:33:00</td>\n",
       "      <td>0.0</td>\n",
       "      <td>NaN</td>\n",
       "    </tr>\n",
       "    <tr>\n",
       "      <td>1972</td>\n",
       "      <td>536547</td>\n",
       "      <td>37509</td>\n",
       "      <td>NaN</td>\n",
       "      <td>1</td>\n",
       "      <td>2018-11-29 14:33:00</td>\n",
       "      <td>0.0</td>\n",
       "      <td>NaN</td>\n",
       "    </tr>\n",
       "    <tr>\n",
       "      <td>1987</td>\n",
       "      <td>536549</td>\n",
       "      <td>85226A</td>\n",
       "      <td>NaN</td>\n",
       "      <td>1</td>\n",
       "      <td>2018-11-29 14:34:00</td>\n",
       "      <td>0.0</td>\n",
       "      <td>NaN</td>\n",
       "    </tr>\n",
       "    <tr>\n",
       "      <td>...</td>\n",
       "      <td>...</td>\n",
       "      <td>...</td>\n",
       "      <td>...</td>\n",
       "      <td>...</td>\n",
       "      <td>...</td>\n",
       "      <td>...</td>\n",
       "      <td>...</td>\n",
       "    </tr>\n",
       "    <tr>\n",
       "      <td>535322</td>\n",
       "      <td>581199</td>\n",
       "      <td>84581</td>\n",
       "      <td>NaN</td>\n",
       "      <td>-2</td>\n",
       "      <td>2019-12-05 18:26:00</td>\n",
       "      <td>0.0</td>\n",
       "      <td>NaN</td>\n",
       "    </tr>\n",
       "    <tr>\n",
       "      <td>535326</td>\n",
       "      <td>581203</td>\n",
       "      <td>23406</td>\n",
       "      <td>NaN</td>\n",
       "      <td>15</td>\n",
       "      <td>2019-12-05 18:31:00</td>\n",
       "      <td>0.0</td>\n",
       "      <td>NaN</td>\n",
       "    </tr>\n",
       "    <tr>\n",
       "      <td>535332</td>\n",
       "      <td>581209</td>\n",
       "      <td>21620</td>\n",
       "      <td>NaN</td>\n",
       "      <td>6</td>\n",
       "      <td>2019-12-05 18:35:00</td>\n",
       "      <td>0.0</td>\n",
       "      <td>NaN</td>\n",
       "    </tr>\n",
       "    <tr>\n",
       "      <td>536981</td>\n",
       "      <td>581234</td>\n",
       "      <td>72817</td>\n",
       "      <td>NaN</td>\n",
       "      <td>27</td>\n",
       "      <td>2019-12-06 10:33:00</td>\n",
       "      <td>0.0</td>\n",
       "      <td>NaN</td>\n",
       "    </tr>\n",
       "    <tr>\n",
       "      <td>538554</td>\n",
       "      <td>581408</td>\n",
       "      <td>85175</td>\n",
       "      <td>NaN</td>\n",
       "      <td>20</td>\n",
       "      <td>2019-12-06 14:06:00</td>\n",
       "      <td>0.0</td>\n",
       "      <td>NaN</td>\n",
       "    </tr>\n",
       "  </tbody>\n",
       "</table>\n",
       "<p>1454 rows × 7 columns</p>\n",
       "</div>"
      ],
      "text/plain": [
       "       InvoiceNo StockCode Description  Quantity         InvoiceDate  \\\n",
       "622       536414     22139         NaN        56 2018-11-29 11:52:00   \n",
       "1970      536545     21134         NaN         1 2018-11-29 14:32:00   \n",
       "1971      536546     22145         NaN         1 2018-11-29 14:33:00   \n",
       "1972      536547     37509         NaN         1 2018-11-29 14:33:00   \n",
       "1987      536549    85226A         NaN         1 2018-11-29 14:34:00   \n",
       "...          ...       ...         ...       ...                 ...   \n",
       "535322    581199     84581         NaN        -2 2019-12-05 18:26:00   \n",
       "535326    581203     23406         NaN        15 2019-12-05 18:31:00   \n",
       "535332    581209     21620         NaN         6 2019-12-05 18:35:00   \n",
       "536981    581234     72817         NaN        27 2019-12-06 10:33:00   \n",
       "538554    581408     85175         NaN        20 2019-12-06 14:06:00   \n",
       "\n",
       "        UnitPrice  CustomerID  \n",
       "622           0.0         NaN  \n",
       "1970          0.0         NaN  \n",
       "1971          0.0         NaN  \n",
       "1972          0.0         NaN  \n",
       "1987          0.0         NaN  \n",
       "...           ...         ...  \n",
       "535322        0.0         NaN  \n",
       "535326        0.0         NaN  \n",
       "535332        0.0         NaN  \n",
       "536981        0.0         NaN  \n",
       "538554        0.0         NaN  \n",
       "\n",
       "[1454 rows x 7 columns]"
      ]
     },
     "execution_count": 70,
     "metadata": {},
     "output_type": "execute_result"
    }
   ],
   "source": [
    "df[df.Description.isnull()]"
   ]
  },
  {
   "cell_type": "markdown",
   "metadata": {},
   "source": [
    "Hmm, we can see that both description and CutomerID are missing. Are there any rows where there **is no** Description but **there is** CustomerId?"
   ]
  },
  {
   "cell_type": "code",
   "execution_count": 71,
   "metadata": {},
   "outputs": [
    {
     "data": {
      "text/html": [
       "<div>\n",
       "<style scoped>\n",
       "    .dataframe tbody tr th:only-of-type {\n",
       "        vertical-align: middle;\n",
       "    }\n",
       "\n",
       "    .dataframe tbody tr th {\n",
       "        vertical-align: top;\n",
       "    }\n",
       "\n",
       "    .dataframe thead th {\n",
       "        text-align: right;\n",
       "    }\n",
       "</style>\n",
       "<table border=\"1\" class=\"dataframe\">\n",
       "  <thead>\n",
       "    <tr style=\"text-align: right;\">\n",
       "      <th></th>\n",
       "      <th>InvoiceNo</th>\n",
       "      <th>StockCode</th>\n",
       "      <th>Description</th>\n",
       "      <th>Quantity</th>\n",
       "      <th>InvoiceDate</th>\n",
       "      <th>UnitPrice</th>\n",
       "      <th>CustomerID</th>\n",
       "    </tr>\n",
       "  </thead>\n",
       "  <tbody>\n",
       "  </tbody>\n",
       "</table>\n",
       "</div>"
      ],
      "text/plain": [
       "Empty DataFrame\n",
       "Columns: [InvoiceNo, StockCode, Description, Quantity, InvoiceDate, UnitPrice, CustomerID]\n",
       "Index: []"
      ]
     },
     "execution_count": 71,
     "metadata": {},
     "output_type": "execute_result"
    }
   ],
   "source": [
    "df[(df.Description.isnull()) & (df.CustomerID.notnull())]"
   ]
  },
  {
   "cell_type": "markdown",
   "metadata": {},
   "source": [
    "And opposite?"
   ]
  },
  {
   "cell_type": "code",
   "execution_count": 72,
   "metadata": {},
   "outputs": [
    {
     "data": {
      "text/html": [
       "<div>\n",
       "<style scoped>\n",
       "    .dataframe tbody tr th:only-of-type {\n",
       "        vertical-align: middle;\n",
       "    }\n",
       "\n",
       "    .dataframe tbody tr th {\n",
       "        vertical-align: top;\n",
       "    }\n",
       "\n",
       "    .dataframe thead th {\n",
       "        text-align: right;\n",
       "    }\n",
       "</style>\n",
       "<table border=\"1\" class=\"dataframe\">\n",
       "  <thead>\n",
       "    <tr style=\"text-align: right;\">\n",
       "      <th></th>\n",
       "      <th>InvoiceNo</th>\n",
       "      <th>StockCode</th>\n",
       "      <th>Description</th>\n",
       "      <th>Quantity</th>\n",
       "      <th>InvoiceDate</th>\n",
       "      <th>UnitPrice</th>\n",
       "      <th>CustomerID</th>\n",
       "    </tr>\n",
       "  </thead>\n",
       "  <tbody>\n",
       "    <tr>\n",
       "      <td>1443</td>\n",
       "      <td>536544</td>\n",
       "      <td>21773</td>\n",
       "      <td>DECORATIVE ROSE BATHROOM BOTTLE</td>\n",
       "      <td>1</td>\n",
       "      <td>2018-11-29 14:32:00</td>\n",
       "      <td>2.51</td>\n",
       "      <td>NaN</td>\n",
       "    </tr>\n",
       "    <tr>\n",
       "      <td>1444</td>\n",
       "      <td>536544</td>\n",
       "      <td>21774</td>\n",
       "      <td>DECORATIVE CATS BATHROOM BOTTLE</td>\n",
       "      <td>2</td>\n",
       "      <td>2018-11-29 14:32:00</td>\n",
       "      <td>2.51</td>\n",
       "      <td>NaN</td>\n",
       "    </tr>\n",
       "    <tr>\n",
       "      <td>1445</td>\n",
       "      <td>536544</td>\n",
       "      <td>21786</td>\n",
       "      <td>POLKADOT RAIN HAT</td>\n",
       "      <td>4</td>\n",
       "      <td>2018-11-29 14:32:00</td>\n",
       "      <td>0.85</td>\n",
       "      <td>NaN</td>\n",
       "    </tr>\n",
       "    <tr>\n",
       "      <td>1446</td>\n",
       "      <td>536544</td>\n",
       "      <td>21787</td>\n",
       "      <td>RAIN PONCHO RETROSPOT</td>\n",
       "      <td>2</td>\n",
       "      <td>2018-11-29 14:32:00</td>\n",
       "      <td>1.66</td>\n",
       "      <td>NaN</td>\n",
       "    </tr>\n",
       "    <tr>\n",
       "      <td>1447</td>\n",
       "      <td>536544</td>\n",
       "      <td>21790</td>\n",
       "      <td>VINTAGE SNAP CARDS</td>\n",
       "      <td>9</td>\n",
       "      <td>2018-11-29 14:32:00</td>\n",
       "      <td>1.66</td>\n",
       "      <td>NaN</td>\n",
       "    </tr>\n",
       "    <tr>\n",
       "      <td>...</td>\n",
       "      <td>...</td>\n",
       "      <td>...</td>\n",
       "      <td>...</td>\n",
       "      <td>...</td>\n",
       "      <td>...</td>\n",
       "      <td>...</td>\n",
       "      <td>...</td>\n",
       "    </tr>\n",
       "    <tr>\n",
       "      <td>541536</td>\n",
       "      <td>581498</td>\n",
       "      <td>85099B</td>\n",
       "      <td>JUMBO BAG RED RETROSPOT</td>\n",
       "      <td>5</td>\n",
       "      <td>2019-12-07 10:26:00</td>\n",
       "      <td>4.13</td>\n",
       "      <td>NaN</td>\n",
       "    </tr>\n",
       "    <tr>\n",
       "      <td>541537</td>\n",
       "      <td>581498</td>\n",
       "      <td>85099C</td>\n",
       "      <td>JUMBO  BAG BAROQUE BLACK WHITE</td>\n",
       "      <td>4</td>\n",
       "      <td>2019-12-07 10:26:00</td>\n",
       "      <td>4.13</td>\n",
       "      <td>NaN</td>\n",
       "    </tr>\n",
       "    <tr>\n",
       "      <td>541538</td>\n",
       "      <td>581498</td>\n",
       "      <td>85150</td>\n",
       "      <td>LADIES &amp; GENTLEMEN METAL SIGN</td>\n",
       "      <td>1</td>\n",
       "      <td>2019-12-07 10:26:00</td>\n",
       "      <td>4.96</td>\n",
       "      <td>NaN</td>\n",
       "    </tr>\n",
       "    <tr>\n",
       "      <td>541539</td>\n",
       "      <td>581498</td>\n",
       "      <td>85174</td>\n",
       "      <td>S/4 CACTI CANDLES</td>\n",
       "      <td>1</td>\n",
       "      <td>2019-12-07 10:26:00</td>\n",
       "      <td>10.79</td>\n",
       "      <td>NaN</td>\n",
       "    </tr>\n",
       "    <tr>\n",
       "      <td>541540</td>\n",
       "      <td>581498</td>\n",
       "      <td>DOT</td>\n",
       "      <td>DOTCOM POSTAGE</td>\n",
       "      <td>1</td>\n",
       "      <td>2019-12-07 10:26:00</td>\n",
       "      <td>1714.17</td>\n",
       "      <td>NaN</td>\n",
       "    </tr>\n",
       "  </tbody>\n",
       "</table>\n",
       "<p>133626 rows × 7 columns</p>\n",
       "</div>"
      ],
      "text/plain": [
       "       InvoiceNo StockCode                      Description  Quantity  \\\n",
       "1443      536544     21773  DECORATIVE ROSE BATHROOM BOTTLE         1   \n",
       "1444      536544     21774  DECORATIVE CATS BATHROOM BOTTLE         2   \n",
       "1445      536544     21786               POLKADOT RAIN HAT          4   \n",
       "1446      536544     21787            RAIN PONCHO RETROSPOT         2   \n",
       "1447      536544     21790               VINTAGE SNAP CARDS         9   \n",
       "...          ...       ...                              ...       ...   \n",
       "541536    581498    85099B          JUMBO BAG RED RETROSPOT         5   \n",
       "541537    581498    85099C   JUMBO  BAG BAROQUE BLACK WHITE         4   \n",
       "541538    581498     85150    LADIES & GENTLEMEN METAL SIGN         1   \n",
       "541539    581498     85174                S/4 CACTI CANDLES         1   \n",
       "541540    581498       DOT                   DOTCOM POSTAGE         1   \n",
       "\n",
       "               InvoiceDate  UnitPrice  CustomerID  \n",
       "1443   2018-11-29 14:32:00       2.51         NaN  \n",
       "1444   2018-11-29 14:32:00       2.51         NaN  \n",
       "1445   2018-11-29 14:32:00       0.85         NaN  \n",
       "1446   2018-11-29 14:32:00       1.66         NaN  \n",
       "1447   2018-11-29 14:32:00       1.66         NaN  \n",
       "...                    ...        ...         ...  \n",
       "541536 2019-12-07 10:26:00       4.13         NaN  \n",
       "541537 2019-12-07 10:26:00       4.13         NaN  \n",
       "541538 2019-12-07 10:26:00       4.96         NaN  \n",
       "541539 2019-12-07 10:26:00      10.79         NaN  \n",
       "541540 2019-12-07 10:26:00    1714.17         NaN  \n",
       "\n",
       "[133626 rows x 7 columns]"
      ]
     },
     "execution_count": 72,
     "metadata": {},
     "output_type": "execute_result"
    }
   ],
   "source": [
    "df[(df.Description.notnull()) & (df.CustomerID.isnull())]"
   ]
  },
  {
   "cell_type": "markdown",
   "metadata": {},
   "source": [
    "This means that all the missing descriptions **also have a missing** CustomerID, but not all missing CustomerID also have a missing description.  \n",
    "Let's look at the amount of items missing description by their **StockCode**."
   ]
  },
  {
   "cell_type": "code",
   "execution_count": 73,
   "metadata": {},
   "outputs": [
    {
     "data": {
      "text/plain": [
       "960"
      ]
     },
     "execution_count": 73,
     "metadata": {},
     "output_type": "execute_result"
    }
   ],
   "source": [
    "df[df.Description.isnull()].StockCode.nunique()"
   ]
  },
  {
   "cell_type": "markdown",
   "metadata": {},
   "source": [
    "Okay, so there are 960 items missing description. Let's try looking if there are rows with same StockCodes **with description**."
   ]
  },
  {
   "cell_type": "code",
   "execution_count": 74,
   "metadata": {},
   "outputs": [],
   "source": [
    "CodeList = df[df.Description.isnull()].StockCode.to_list()"
   ]
  },
  {
   "cell_type": "code",
   "execution_count": 75,
   "metadata": {},
   "outputs": [
    {
     "data": {
      "text/html": [
       "<div>\n",
       "<style scoped>\n",
       "    .dataframe tbody tr th:only-of-type {\n",
       "        vertical-align: middle;\n",
       "    }\n",
       "\n",
       "    .dataframe tbody tr th {\n",
       "        vertical-align: top;\n",
       "    }\n",
       "\n",
       "    .dataframe thead th {\n",
       "        text-align: right;\n",
       "    }\n",
       "</style>\n",
       "<table border=\"1\" class=\"dataframe\">\n",
       "  <thead>\n",
       "    <tr style=\"text-align: right;\">\n",
       "      <th></th>\n",
       "      <th>StockCode</th>\n",
       "      <th>Description</th>\n",
       "    </tr>\n",
       "  </thead>\n",
       "  <tbody>\n",
       "    <tr>\n",
       "      <td>2</td>\n",
       "      <td>84406B</td>\n",
       "      <td>CREAM CUPID HEARTS COAT HANGER</td>\n",
       "    </tr>\n",
       "    <tr>\n",
       "      <td>3</td>\n",
       "      <td>84029G</td>\n",
       "      <td>KNITTED UNION FLAG HOT WATER BOTTLE</td>\n",
       "    </tr>\n",
       "    <tr>\n",
       "      <td>4</td>\n",
       "      <td>84029E</td>\n",
       "      <td>RED WOOLLY HOTTIE WHITE HEART.</td>\n",
       "    </tr>\n",
       "    <tr>\n",
       "      <td>7</td>\n",
       "      <td>22633</td>\n",
       "      <td>HAND WARMER UNION JACK</td>\n",
       "    </tr>\n",
       "    <tr>\n",
       "      <td>8</td>\n",
       "      <td>22632</td>\n",
       "      <td>HAND WARMER RED POLKA DOT</td>\n",
       "    </tr>\n",
       "  </tbody>\n",
       "</table>\n",
       "</div>"
      ],
      "text/plain": [
       "  StockCode                          Description\n",
       "2    84406B       CREAM CUPID HEARTS COAT HANGER\n",
       "3    84029G  KNITTED UNION FLAG HOT WATER BOTTLE\n",
       "4    84029E       RED WOOLLY HOTTIE WHITE HEART.\n",
       "7     22633               HAND WARMER UNION JACK\n",
       "8     22632            HAND WARMER RED POLKA DOT"
      ]
     },
     "execution_count": 75,
     "metadata": {},
     "output_type": "execute_result"
    }
   ],
   "source": [
    "CodeTable = df.query('Description.notnull() and StockCode in @CodeList')[['StockCode', 'Description']]\n",
    "CodeTable.head()"
   ]
  },
  {
   "cell_type": "markdown",
   "metadata": {},
   "source": [
    "Nice! We got a dataframe with descriptions to all the missing StockCode. Now we got to find a way to replace missing values with these."
   ]
  },
  {
   "cell_type": "code",
   "execution_count": 76,
   "metadata": {},
   "outputs": [],
   "source": [
    " CodeTable = CodeTable.drop_duplicates()"
   ]
  },
  {
   "cell_type": "code",
   "execution_count": 77,
   "metadata": {},
   "outputs": [
    {
     "data": {
      "text/html": [
       "<div>\n",
       "<style scoped>\n",
       "    .dataframe tbody tr th:only-of-type {\n",
       "        vertical-align: middle;\n",
       "    }\n",
       "\n",
       "    .dataframe tbody tr th {\n",
       "        vertical-align: top;\n",
       "    }\n",
       "\n",
       "    .dataframe thead th {\n",
       "        text-align: right;\n",
       "    }\n",
       "</style>\n",
       "<table border=\"1\" class=\"dataframe\">\n",
       "  <thead>\n",
       "    <tr style=\"text-align: right;\">\n",
       "      <th></th>\n",
       "      <th>StockCode</th>\n",
       "      <th>Description</th>\n",
       "    </tr>\n",
       "  </thead>\n",
       "  <tbody>\n",
       "    <tr>\n",
       "      <td>2605</td>\n",
       "      <td>21868</td>\n",
       "      <td>POTTING SHED TEA MUG</td>\n",
       "    </tr>\n",
       "    <tr>\n",
       "      <td>514183</td>\n",
       "      <td>21868</td>\n",
       "      <td>check</td>\n",
       "    </tr>\n",
       "    <tr>\n",
       "      <td>522246</td>\n",
       "      <td>21868</td>\n",
       "      <td>Amazon</td>\n",
       "    </tr>\n",
       "  </tbody>\n",
       "</table>\n",
       "</div>"
      ],
      "text/plain": [
       "       StockCode           Description\n",
       "2605       21868  POTTING SHED TEA MUG\n",
       "514183     21868                 check\n",
       "522246     21868                Amazon"
      ]
     },
     "execution_count": 77,
     "metadata": {},
     "output_type": "execute_result"
    }
   ],
   "source": [
    "CodeTable[CodeTable.StockCode == '21868']"
   ]
  },
  {
   "cell_type": "markdown",
   "metadata": {},
   "source": [
    "We can also see that a lot of items have processing remarks instead of description."
   ]
  },
  {
   "cell_type": "code",
   "execution_count": 78,
   "metadata": {},
   "outputs": [
    {
     "data": {
      "text/plain": [
       "check                               43\n",
       "?                                   28\n",
       "damaged                             17\n",
       "found                               14\n",
       "damages                              9\n",
       "adjustment                           7\n",
       "had been put aside                   5\n",
       "dotcom                               5\n",
       "Found                                5\n",
       "Amazon                               4\n",
       "amazon                               3\n",
       "Damaged                              3\n",
       "PINK FLOCK GLASS CANDLEHOLDER        2\n",
       "CHECK                                2\n",
       "AMAZON                               2\n",
       "reverse 21/5/10 adjustment           2\n",
       "damages?                             2\n",
       "sold as set on dotcom                2\n",
       "ROUND BLUE CLOCK WITH SUCKER         2\n",
       "returned                             2\n",
       "PICNIC BASKET WICKER SMALL           1\n",
       "ASS COL LARGE SAND FROG P'WEIGHT     1\n",
       "SCALLOP SHELL SOAP DISH              1\n",
       "BLUE PAISLEY NOTEBOOK                1\n",
       "WOODEN SKITTLES GARDEN SET           1\n",
       "LA PALMIERA WALL THERMOMETER         1\n",
       "S/12 VANILLA  BOTANICAL T-LIGHTS     1\n",
       "BLUE CUSHION COVER WITH FLOWER       1\n",
       "PINK FELT HANGING HEART W FLOWER     1\n",
       "PINK MONTE CARLO HANDBAG             1\n",
       "Name: Description, dtype: int64"
      ]
     },
     "execution_count": 78,
     "metadata": {},
     "output_type": "execute_result"
    }
   ],
   "source": [
    "CodeTable.Description.value_counts().head(30)"
   ]
  },
  {
   "cell_type": "markdown",
   "metadata": {},
   "source": [
    "We can see that all that were present more than 1 time are not actual description but remarks.\n",
    "We can drop those."
   ]
  },
  {
   "cell_type": "code",
   "execution_count": 79,
   "metadata": {},
   "outputs": [],
   "source": [
    "CodeTable = CodeTable.drop_duplicates(subset='Description')"
   ]
  },
  {
   "cell_type": "code",
   "execution_count": 80,
   "metadata": {},
   "outputs": [],
   "source": [
    "CodeTable = CodeTable.drop_duplicates(subset='StockCode')"
   ]
  },
  {
   "cell_type": "code",
   "execution_count": 81,
   "metadata": {},
   "outputs": [],
   "source": [
    "CodeTable.reset_index(drop=True, inplace=True)"
   ]
  },
  {
   "cell_type": "code",
   "execution_count": 82,
   "metadata": {},
   "outputs": [
    {
     "data": {
      "text/html": [
       "<div>\n",
       "<style scoped>\n",
       "    .dataframe tbody tr th:only-of-type {\n",
       "        vertical-align: middle;\n",
       "    }\n",
       "\n",
       "    .dataframe tbody tr th {\n",
       "        vertical-align: top;\n",
       "    }\n",
       "\n",
       "    .dataframe thead th {\n",
       "        text-align: right;\n",
       "    }\n",
       "</style>\n",
       "<table border=\"1\" class=\"dataframe\">\n",
       "  <thead>\n",
       "    <tr style=\"text-align: right;\">\n",
       "      <th></th>\n",
       "      <th>StockCode</th>\n",
       "      <th>Description</th>\n",
       "    </tr>\n",
       "  </thead>\n",
       "  <tbody>\n",
       "    <tr>\n",
       "      <td>0</td>\n",
       "      <td>84406B</td>\n",
       "      <td>CREAM CUPID HEARTS COAT HANGER</td>\n",
       "    </tr>\n",
       "    <tr>\n",
       "      <td>1</td>\n",
       "      <td>84029G</td>\n",
       "      <td>KNITTED UNION FLAG HOT WATER BOTTLE</td>\n",
       "    </tr>\n",
       "    <tr>\n",
       "      <td>2</td>\n",
       "      <td>84029E</td>\n",
       "      <td>RED WOOLLY HOTTIE WHITE HEART.</td>\n",
       "    </tr>\n",
       "    <tr>\n",
       "      <td>3</td>\n",
       "      <td>22633</td>\n",
       "      <td>HAND WARMER UNION JACK</td>\n",
       "    </tr>\n",
       "    <tr>\n",
       "      <td>4</td>\n",
       "      <td>22632</td>\n",
       "      <td>HAND WARMER RED POLKA DOT</td>\n",
       "    </tr>\n",
       "  </tbody>\n",
       "</table>\n",
       "</div>"
      ],
      "text/plain": [
       "  StockCode                          Description\n",
       "0    84406B       CREAM CUPID HEARTS COAT HANGER\n",
       "1    84029G  KNITTED UNION FLAG HOT WATER BOTTLE\n",
       "2    84029E       RED WOOLLY HOTTIE WHITE HEART.\n",
       "3     22633               HAND WARMER UNION JACK\n",
       "4     22632            HAND WARMER RED POLKA DOT"
      ]
     },
     "execution_count": 82,
     "metadata": {},
     "output_type": "execute_result"
    }
   ],
   "source": [
    "CodeTable.head()"
   ]
  },
  {
   "cell_type": "markdown",
   "metadata": {},
   "source": [
    "Now we got a table with mostly item descriptions that we need.\n",
    "Now we need to apply these to the missing values in out original df.  \n",
    "For that we will merge two tables and then perform **lambda** function to copy description to missing values."
   ]
  },
  {
   "cell_type": "code",
   "execution_count": 83,
   "metadata": {},
   "outputs": [],
   "source": [
    "df_right = pd.merge(df, CodeTable, on='StockCode', how='left')"
   ]
  },
  {
   "cell_type": "code",
   "execution_count": 84,
   "metadata": {},
   "outputs": [
    {
     "data": {
      "text/html": [
       "<div>\n",
       "<style scoped>\n",
       "    .dataframe tbody tr th:only-of-type {\n",
       "        vertical-align: middle;\n",
       "    }\n",
       "\n",
       "    .dataframe tbody tr th {\n",
       "        vertical-align: top;\n",
       "    }\n",
       "\n",
       "    .dataframe thead th {\n",
       "        text-align: right;\n",
       "    }\n",
       "</style>\n",
       "<table border=\"1\" class=\"dataframe\">\n",
       "  <thead>\n",
       "    <tr style=\"text-align: right;\">\n",
       "      <th></th>\n",
       "      <th>InvoiceNo</th>\n",
       "      <th>StockCode</th>\n",
       "      <th>Description_x</th>\n",
       "      <th>Quantity</th>\n",
       "      <th>InvoiceDate</th>\n",
       "      <th>UnitPrice</th>\n",
       "      <th>CustomerID</th>\n",
       "      <th>Description_y</th>\n",
       "    </tr>\n",
       "  </thead>\n",
       "  <tbody>\n",
       "    <tr>\n",
       "      <td>0</td>\n",
       "      <td>536365</td>\n",
       "      <td>85123A</td>\n",
       "      <td>WHITE HANGING HEART T-LIGHT HOLDER</td>\n",
       "      <td>6</td>\n",
       "      <td>2018-11-29 08:26:00</td>\n",
       "      <td>2.55</td>\n",
       "      <td>17850.0</td>\n",
       "      <td>NaN</td>\n",
       "    </tr>\n",
       "    <tr>\n",
       "      <td>1</td>\n",
       "      <td>536365</td>\n",
       "      <td>71053</td>\n",
       "      <td>WHITE METAL LANTERN</td>\n",
       "      <td>6</td>\n",
       "      <td>2018-11-29 08:26:00</td>\n",
       "      <td>3.39</td>\n",
       "      <td>17850.0</td>\n",
       "      <td>NaN</td>\n",
       "    </tr>\n",
       "    <tr>\n",
       "      <td>2</td>\n",
       "      <td>536365</td>\n",
       "      <td>84406B</td>\n",
       "      <td>CREAM CUPID HEARTS COAT HANGER</td>\n",
       "      <td>8</td>\n",
       "      <td>2018-11-29 08:26:00</td>\n",
       "      <td>2.75</td>\n",
       "      <td>17850.0</td>\n",
       "      <td>CREAM CUPID HEARTS COAT HANGER</td>\n",
       "    </tr>\n",
       "    <tr>\n",
       "      <td>3</td>\n",
       "      <td>536365</td>\n",
       "      <td>84029G</td>\n",
       "      <td>KNITTED UNION FLAG HOT WATER BOTTLE</td>\n",
       "      <td>6</td>\n",
       "      <td>2018-11-29 08:26:00</td>\n",
       "      <td>3.39</td>\n",
       "      <td>17850.0</td>\n",
       "      <td>KNITTED UNION FLAG HOT WATER BOTTLE</td>\n",
       "    </tr>\n",
       "    <tr>\n",
       "      <td>4</td>\n",
       "      <td>536365</td>\n",
       "      <td>84029E</td>\n",
       "      <td>RED WOOLLY HOTTIE WHITE HEART.</td>\n",
       "      <td>6</td>\n",
       "      <td>2018-11-29 08:26:00</td>\n",
       "      <td>3.39</td>\n",
       "      <td>17850.0</td>\n",
       "      <td>RED WOOLLY HOTTIE WHITE HEART.</td>\n",
       "    </tr>\n",
       "  </tbody>\n",
       "</table>\n",
       "</div>"
      ],
      "text/plain": [
       "  InvoiceNo StockCode                        Description_x  Quantity  \\\n",
       "0    536365    85123A   WHITE HANGING HEART T-LIGHT HOLDER         6   \n",
       "1    536365     71053                  WHITE METAL LANTERN         6   \n",
       "2    536365    84406B       CREAM CUPID HEARTS COAT HANGER         8   \n",
       "3    536365    84029G  KNITTED UNION FLAG HOT WATER BOTTLE         6   \n",
       "4    536365    84029E       RED WOOLLY HOTTIE WHITE HEART.         6   \n",
       "\n",
       "          InvoiceDate  UnitPrice  CustomerID  \\\n",
       "0 2018-11-29 08:26:00       2.55     17850.0   \n",
       "1 2018-11-29 08:26:00       3.39     17850.0   \n",
       "2 2018-11-29 08:26:00       2.75     17850.0   \n",
       "3 2018-11-29 08:26:00       3.39     17850.0   \n",
       "4 2018-11-29 08:26:00       3.39     17850.0   \n",
       "\n",
       "                         Description_y  \n",
       "0                                  NaN  \n",
       "1                                  NaN  \n",
       "2       CREAM CUPID HEARTS COAT HANGER  \n",
       "3  KNITTED UNION FLAG HOT WATER BOTTLE  \n",
       "4       RED WOOLLY HOTTIE WHITE HEART.  "
      ]
     },
     "execution_count": 84,
     "metadata": {},
     "output_type": "execute_result"
    }
   ],
   "source": [
    "df_right.head()"
   ]
  },
  {
   "cell_type": "code",
   "execution_count": 85,
   "metadata": {},
   "outputs": [
    {
     "data": {
      "text/plain": [
       "1454"
      ]
     },
     "execution_count": 85,
     "metadata": {},
     "output_type": "execute_result"
    }
   ],
   "source": [
    "len(df_right[df_right.Description_x.isnull()])"
   ]
  },
  {
   "cell_type": "code",
   "execution_count": 86,
   "metadata": {},
   "outputs": [],
   "source": [
    "#df_right[df_right.Description_x.isnull()]['Description_x'] = df_right[df_right.Description_x.isnull()]['Description_y']\n",
    "\n",
    "df_right['Description_x'] = df_right.apply(\n",
    "lambda row: row['Description_y'] if pd.isnull(row['Description_x']) else row['Description_x'], axis=1\n",
    ")\n"
   ]
  },
  {
   "cell_type": "code",
   "execution_count": 87,
   "metadata": {},
   "outputs": [
    {
     "data": {
      "text/plain": [
       "114"
      ]
     },
     "execution_count": 87,
     "metadata": {},
     "output_type": "execute_result"
    }
   ],
   "source": [
    "len(df_right[df_right.Description_x.isnull()])"
   ]
  },
  {
   "cell_type": "code",
   "execution_count": 88,
   "metadata": {},
   "outputs": [],
   "source": [
    "df_right.drop('Description_y', axis=1, inplace=True)"
   ]
  },
  {
   "cell_type": "code",
   "execution_count": 89,
   "metadata": {},
   "outputs": [],
   "source": [
    "df_right.rename(columns={\"Description_x\": \"Description\"}, inplace=True)"
   ]
  },
  {
   "cell_type": "code",
   "execution_count": 90,
   "metadata": {},
   "outputs": [],
   "source": [
    "df = df_right"
   ]
  },
  {
   "cell_type": "code",
   "execution_count": 91,
   "metadata": {},
   "outputs": [
    {
     "name": "stdout",
     "output_type": "stream",
     "text": [
      "<class 'pandas.core.frame.DataFrame'>\n",
      "Int64Index: 541909 entries, 0 to 541908\n",
      "Data columns (total 7 columns):\n",
      "InvoiceNo      541909 non-null object\n",
      "StockCode      541909 non-null object\n",
      "Description    541795 non-null object\n",
      "Quantity       541909 non-null int64\n",
      "InvoiceDate    541909 non-null datetime64[ns]\n",
      "UnitPrice      541909 non-null float64\n",
      "CustomerID     406829 non-null float64\n",
      "dtypes: datetime64[ns](1), float64(2), int64(1), object(3)\n",
      "memory usage: 33.1+ MB\n"
     ]
    }
   ],
   "source": [
    "df.info()"
   ]
  },
  {
   "cell_type": "markdown",
   "metadata": {},
   "source": [
    "Now we got only ~100 rows with missing description. That amount we can simply drop.  \n",
    "Let's proceed to the CustomerID\n",
    "____\n",
    "____"
   ]
  },
  {
   "cell_type": "code",
   "execution_count": 92,
   "metadata": {},
   "outputs": [
    {
     "data": {
      "text/html": [
       "<div>\n",
       "<style scoped>\n",
       "    .dataframe tbody tr th:only-of-type {\n",
       "        vertical-align: middle;\n",
       "    }\n",
       "\n",
       "    .dataframe tbody tr th {\n",
       "        vertical-align: top;\n",
       "    }\n",
       "\n",
       "    .dataframe thead th {\n",
       "        text-align: right;\n",
       "    }\n",
       "</style>\n",
       "<table border=\"1\" class=\"dataframe\">\n",
       "  <thead>\n",
       "    <tr style=\"text-align: right;\">\n",
       "      <th></th>\n",
       "      <th>InvoiceNo</th>\n",
       "      <th>StockCode</th>\n",
       "      <th>Description</th>\n",
       "      <th>Quantity</th>\n",
       "      <th>InvoiceDate</th>\n",
       "      <th>UnitPrice</th>\n",
       "      <th>CustomerID</th>\n",
       "    </tr>\n",
       "  </thead>\n",
       "  <tbody>\n",
       "    <tr>\n",
       "      <td>622</td>\n",
       "      <td>536414</td>\n",
       "      <td>22139</td>\n",
       "      <td>RETROSPOT TEA SET CERAMIC 11 PC</td>\n",
       "      <td>56</td>\n",
       "      <td>2018-11-29 11:52:00</td>\n",
       "      <td>0.00</td>\n",
       "      <td>NaN</td>\n",
       "    </tr>\n",
       "    <tr>\n",
       "      <td>1443</td>\n",
       "      <td>536544</td>\n",
       "      <td>21773</td>\n",
       "      <td>DECORATIVE ROSE BATHROOM BOTTLE</td>\n",
       "      <td>1</td>\n",
       "      <td>2018-11-29 14:32:00</td>\n",
       "      <td>2.51</td>\n",
       "      <td>NaN</td>\n",
       "    </tr>\n",
       "    <tr>\n",
       "      <td>1444</td>\n",
       "      <td>536544</td>\n",
       "      <td>21774</td>\n",
       "      <td>DECORATIVE CATS BATHROOM BOTTLE</td>\n",
       "      <td>2</td>\n",
       "      <td>2018-11-29 14:32:00</td>\n",
       "      <td>2.51</td>\n",
       "      <td>NaN</td>\n",
       "    </tr>\n",
       "    <tr>\n",
       "      <td>1445</td>\n",
       "      <td>536544</td>\n",
       "      <td>21786</td>\n",
       "      <td>POLKADOT RAIN HAT</td>\n",
       "      <td>4</td>\n",
       "      <td>2018-11-29 14:32:00</td>\n",
       "      <td>0.85</td>\n",
       "      <td>NaN</td>\n",
       "    </tr>\n",
       "    <tr>\n",
       "      <td>1446</td>\n",
       "      <td>536544</td>\n",
       "      <td>21787</td>\n",
       "      <td>RAIN PONCHO RETROSPOT</td>\n",
       "      <td>2</td>\n",
       "      <td>2018-11-29 14:32:00</td>\n",
       "      <td>1.66</td>\n",
       "      <td>NaN</td>\n",
       "    </tr>\n",
       "    <tr>\n",
       "      <td>...</td>\n",
       "      <td>...</td>\n",
       "      <td>...</td>\n",
       "      <td>...</td>\n",
       "      <td>...</td>\n",
       "      <td>...</td>\n",
       "      <td>...</td>\n",
       "      <td>...</td>\n",
       "    </tr>\n",
       "    <tr>\n",
       "      <td>541536</td>\n",
       "      <td>581498</td>\n",
       "      <td>85099B</td>\n",
       "      <td>JUMBO BAG RED RETROSPOT</td>\n",
       "      <td>5</td>\n",
       "      <td>2019-12-07 10:26:00</td>\n",
       "      <td>4.13</td>\n",
       "      <td>NaN</td>\n",
       "    </tr>\n",
       "    <tr>\n",
       "      <td>541537</td>\n",
       "      <td>581498</td>\n",
       "      <td>85099C</td>\n",
       "      <td>JUMBO  BAG BAROQUE BLACK WHITE</td>\n",
       "      <td>4</td>\n",
       "      <td>2019-12-07 10:26:00</td>\n",
       "      <td>4.13</td>\n",
       "      <td>NaN</td>\n",
       "    </tr>\n",
       "    <tr>\n",
       "      <td>541538</td>\n",
       "      <td>581498</td>\n",
       "      <td>85150</td>\n",
       "      <td>LADIES &amp; GENTLEMEN METAL SIGN</td>\n",
       "      <td>1</td>\n",
       "      <td>2019-12-07 10:26:00</td>\n",
       "      <td>4.96</td>\n",
       "      <td>NaN</td>\n",
       "    </tr>\n",
       "    <tr>\n",
       "      <td>541539</td>\n",
       "      <td>581498</td>\n",
       "      <td>85174</td>\n",
       "      <td>S/4 CACTI CANDLES</td>\n",
       "      <td>1</td>\n",
       "      <td>2019-12-07 10:26:00</td>\n",
       "      <td>10.79</td>\n",
       "      <td>NaN</td>\n",
       "    </tr>\n",
       "    <tr>\n",
       "      <td>541540</td>\n",
       "      <td>581498</td>\n",
       "      <td>DOT</td>\n",
       "      <td>DOTCOM POSTAGE</td>\n",
       "      <td>1</td>\n",
       "      <td>2019-12-07 10:26:00</td>\n",
       "      <td>1714.17</td>\n",
       "      <td>NaN</td>\n",
       "    </tr>\n",
       "  </tbody>\n",
       "</table>\n",
       "<p>135080 rows × 7 columns</p>\n",
       "</div>"
      ],
      "text/plain": [
       "       InvoiceNo StockCode                       Description  Quantity  \\\n",
       "622       536414     22139  RETROSPOT TEA SET CERAMIC 11 PC         56   \n",
       "1443      536544     21773   DECORATIVE ROSE BATHROOM BOTTLE         1   \n",
       "1444      536544     21774   DECORATIVE CATS BATHROOM BOTTLE         2   \n",
       "1445      536544     21786                POLKADOT RAIN HAT          4   \n",
       "1446      536544     21787             RAIN PONCHO RETROSPOT         2   \n",
       "...          ...       ...                               ...       ...   \n",
       "541536    581498    85099B           JUMBO BAG RED RETROSPOT         5   \n",
       "541537    581498    85099C    JUMBO  BAG BAROQUE BLACK WHITE         4   \n",
       "541538    581498     85150     LADIES & GENTLEMEN METAL SIGN         1   \n",
       "541539    581498     85174                 S/4 CACTI CANDLES         1   \n",
       "541540    581498       DOT                    DOTCOM POSTAGE         1   \n",
       "\n",
       "               InvoiceDate  UnitPrice  CustomerID  \n",
       "622    2018-11-29 11:52:00       0.00         NaN  \n",
       "1443   2018-11-29 14:32:00       2.51         NaN  \n",
       "1444   2018-11-29 14:32:00       2.51         NaN  \n",
       "1445   2018-11-29 14:32:00       0.85         NaN  \n",
       "1446   2018-11-29 14:32:00       1.66         NaN  \n",
       "...                    ...        ...         ...  \n",
       "541536 2019-12-07 10:26:00       4.13         NaN  \n",
       "541537 2019-12-07 10:26:00       4.13         NaN  \n",
       "541538 2019-12-07 10:26:00       4.96         NaN  \n",
       "541539 2019-12-07 10:26:00      10.79         NaN  \n",
       "541540 2019-12-07 10:26:00    1714.17         NaN  \n",
       "\n",
       "[135080 rows x 7 columns]"
      ]
     },
     "execution_count": 92,
     "metadata": {},
     "output_type": "execute_result"
    }
   ],
   "source": [
    "df[df.CustomerID.isnull()]"
   ]
  },
  {
   "cell_type": "markdown",
   "metadata": {},
   "source": [
    "Awful, about 135k missing values. However something tells me that we can retrieve most of those using **InvoiceNo**, since each customer had same Invoice while purchasing."
   ]
  },
  {
   "cell_type": "code",
   "execution_count": 93,
   "metadata": {},
   "outputs": [
    {
     "data": {
      "text/html": [
       "<div>\n",
       "<style scoped>\n",
       "    .dataframe tbody tr th:only-of-type {\n",
       "        vertical-align: middle;\n",
       "    }\n",
       "\n",
       "    .dataframe tbody tr th {\n",
       "        vertical-align: top;\n",
       "    }\n",
       "\n",
       "    .dataframe thead th {\n",
       "        text-align: right;\n",
       "    }\n",
       "</style>\n",
       "<table border=\"1\" class=\"dataframe\">\n",
       "  <thead>\n",
       "    <tr style=\"text-align: right;\">\n",
       "      <th></th>\n",
       "      <th>InvoiceNo</th>\n",
       "      <th>StockCode</th>\n",
       "      <th>Description</th>\n",
       "      <th>Quantity</th>\n",
       "      <th>InvoiceDate</th>\n",
       "      <th>UnitPrice</th>\n",
       "      <th>CustomerID</th>\n",
       "    </tr>\n",
       "  </thead>\n",
       "  <tbody>\n",
       "    <tr>\n",
       "      <td>541899</td>\n",
       "      <td>581587</td>\n",
       "      <td>22726</td>\n",
       "      <td>ALARM CLOCK BAKELIKE GREEN</td>\n",
       "      <td>4</td>\n",
       "      <td>2019-12-07 12:50:00</td>\n",
       "      <td>3.75</td>\n",
       "      <td>12680.0</td>\n",
       "    </tr>\n",
       "    <tr>\n",
       "      <td>541900</td>\n",
       "      <td>581587</td>\n",
       "      <td>22730</td>\n",
       "      <td>ALARM CLOCK BAKELIKE IVORY</td>\n",
       "      <td>4</td>\n",
       "      <td>2019-12-07 12:50:00</td>\n",
       "      <td>3.75</td>\n",
       "      <td>12680.0</td>\n",
       "    </tr>\n",
       "    <tr>\n",
       "      <td>541901</td>\n",
       "      <td>581587</td>\n",
       "      <td>22367</td>\n",
       "      <td>CHILDRENS APRON SPACEBOY DESIGN</td>\n",
       "      <td>8</td>\n",
       "      <td>2019-12-07 12:50:00</td>\n",
       "      <td>1.95</td>\n",
       "      <td>12680.0</td>\n",
       "    </tr>\n",
       "    <tr>\n",
       "      <td>541902</td>\n",
       "      <td>581587</td>\n",
       "      <td>22629</td>\n",
       "      <td>SPACEBOY LUNCH BOX</td>\n",
       "      <td>12</td>\n",
       "      <td>2019-12-07 12:50:00</td>\n",
       "      <td>1.95</td>\n",
       "      <td>12680.0</td>\n",
       "    </tr>\n",
       "    <tr>\n",
       "      <td>541903</td>\n",
       "      <td>581587</td>\n",
       "      <td>23256</td>\n",
       "      <td>CHILDRENS CUTLERY SPACEBOY</td>\n",
       "      <td>4</td>\n",
       "      <td>2019-12-07 12:50:00</td>\n",
       "      <td>4.15</td>\n",
       "      <td>12680.0</td>\n",
       "    </tr>\n",
       "    <tr>\n",
       "      <td>541904</td>\n",
       "      <td>581587</td>\n",
       "      <td>22613</td>\n",
       "      <td>PACK OF 20 SPACEBOY NAPKINS</td>\n",
       "      <td>12</td>\n",
       "      <td>2019-12-07 12:50:00</td>\n",
       "      <td>0.85</td>\n",
       "      <td>12680.0</td>\n",
       "    </tr>\n",
       "    <tr>\n",
       "      <td>541905</td>\n",
       "      <td>581587</td>\n",
       "      <td>22899</td>\n",
       "      <td>CHILDREN'S APRON DOLLY GIRL</td>\n",
       "      <td>6</td>\n",
       "      <td>2019-12-07 12:50:00</td>\n",
       "      <td>2.10</td>\n",
       "      <td>12680.0</td>\n",
       "    </tr>\n",
       "    <tr>\n",
       "      <td>541906</td>\n",
       "      <td>581587</td>\n",
       "      <td>23254</td>\n",
       "      <td>CHILDRENS CUTLERY DOLLY GIRL</td>\n",
       "      <td>4</td>\n",
       "      <td>2019-12-07 12:50:00</td>\n",
       "      <td>4.15</td>\n",
       "      <td>12680.0</td>\n",
       "    </tr>\n",
       "    <tr>\n",
       "      <td>541907</td>\n",
       "      <td>581587</td>\n",
       "      <td>23255</td>\n",
       "      <td>CHILDRENS CUTLERY CIRCUS PARADE</td>\n",
       "      <td>4</td>\n",
       "      <td>2019-12-07 12:50:00</td>\n",
       "      <td>4.15</td>\n",
       "      <td>12680.0</td>\n",
       "    </tr>\n",
       "    <tr>\n",
       "      <td>541908</td>\n",
       "      <td>581587</td>\n",
       "      <td>22138</td>\n",
       "      <td>BAKING SET 9 PIECE RETROSPOT</td>\n",
       "      <td>3</td>\n",
       "      <td>2019-12-07 12:50:00</td>\n",
       "      <td>4.95</td>\n",
       "      <td>12680.0</td>\n",
       "    </tr>\n",
       "  </tbody>\n",
       "</table>\n",
       "</div>"
      ],
      "text/plain": [
       "       InvoiceNo StockCode                      Description  Quantity  \\\n",
       "541899    581587     22726       ALARM CLOCK BAKELIKE GREEN         4   \n",
       "541900    581587     22730       ALARM CLOCK BAKELIKE IVORY         4   \n",
       "541901    581587     22367  CHILDRENS APRON SPACEBOY DESIGN         8   \n",
       "541902    581587     22629              SPACEBOY LUNCH BOX         12   \n",
       "541903    581587     23256      CHILDRENS CUTLERY SPACEBOY          4   \n",
       "541904    581587     22613      PACK OF 20 SPACEBOY NAPKINS        12   \n",
       "541905    581587     22899     CHILDREN'S APRON DOLLY GIRL          6   \n",
       "541906    581587     23254    CHILDRENS CUTLERY DOLLY GIRL          4   \n",
       "541907    581587     23255  CHILDRENS CUTLERY CIRCUS PARADE         4   \n",
       "541908    581587     22138    BAKING SET 9 PIECE RETROSPOT          3   \n",
       "\n",
       "               InvoiceDate  UnitPrice  CustomerID  \n",
       "541899 2019-12-07 12:50:00       3.75     12680.0  \n",
       "541900 2019-12-07 12:50:00       3.75     12680.0  \n",
       "541901 2019-12-07 12:50:00       1.95     12680.0  \n",
       "541902 2019-12-07 12:50:00       1.95     12680.0  \n",
       "541903 2019-12-07 12:50:00       4.15     12680.0  \n",
       "541904 2019-12-07 12:50:00       0.85     12680.0  \n",
       "541905 2019-12-07 12:50:00       2.10     12680.0  \n",
       "541906 2019-12-07 12:50:00       4.15     12680.0  \n",
       "541907 2019-12-07 12:50:00       4.15     12680.0  \n",
       "541908 2019-12-07 12:50:00       4.95     12680.0  "
      ]
     },
     "execution_count": 93,
     "metadata": {},
     "output_type": "execute_result"
    }
   ],
   "source": [
    "df.tail(10)"
   ]
  },
  {
   "cell_type": "code",
   "execution_count": 94,
   "metadata": {},
   "outputs": [],
   "source": [
    "NullInvoice = df.query('CustomerID.isnull()')['InvoiceNo'].to_list()"
   ]
  },
  {
   "cell_type": "code",
   "execution_count": 95,
   "metadata": {},
   "outputs": [
    {
     "data": {
      "text/html": [
       "<div>\n",
       "<style scoped>\n",
       "    .dataframe tbody tr th:only-of-type {\n",
       "        vertical-align: middle;\n",
       "    }\n",
       "\n",
       "    .dataframe tbody tr th {\n",
       "        vertical-align: top;\n",
       "    }\n",
       "\n",
       "    .dataframe thead th {\n",
       "        text-align: right;\n",
       "    }\n",
       "</style>\n",
       "<table border=\"1\" class=\"dataframe\">\n",
       "  <thead>\n",
       "    <tr style=\"text-align: right;\">\n",
       "      <th></th>\n",
       "      <th>InvoiceNo</th>\n",
       "      <th>StockCode</th>\n",
       "      <th>Description</th>\n",
       "      <th>Quantity</th>\n",
       "      <th>InvoiceDate</th>\n",
       "      <th>UnitPrice</th>\n",
       "      <th>CustomerID</th>\n",
       "    </tr>\n",
       "  </thead>\n",
       "  <tbody>\n",
       "  </tbody>\n",
       "</table>\n",
       "</div>"
      ],
      "text/plain": [
       "Empty DataFrame\n",
       "Columns: [InvoiceNo, StockCode, Description, Quantity, InvoiceDate, UnitPrice, CustomerID]\n",
       "Index: []"
      ]
     },
     "execution_count": 95,
     "metadata": {},
     "output_type": "execute_result"
    }
   ],
   "source": [
    "df.query('CustomerID.notnull() and InvoiceNo in @NullInvoice')"
   ]
  },
  {
   "cell_type": "markdown",
   "metadata": {},
   "source": [
    "Oops. Turns out my hypothesis was kind of wrong. We can not retreive the users from the Invoices. :(\n",
    "Then let's just mark them as \"Unidentified\" and look at them separately."
   ]
  },
  {
   "cell_type": "code",
   "execution_count": 96,
   "metadata": {},
   "outputs": [],
   "source": [
    "df['CustomerID'].fillna('unidentified', inplace=True)"
   ]
  },
  {
   "cell_type": "markdown",
   "metadata": {},
   "source": [
    "And get rid of a 100 rows with missing description left."
   ]
  },
  {
   "cell_type": "code",
   "execution_count": 97,
   "metadata": {},
   "outputs": [],
   "source": [
    "df.dropna(inplace=True)"
   ]
  },
  {
   "cell_type": "markdown",
   "metadata": {},
   "source": [
    "Now, let's remove the duplicates and we're done!"
   ]
  },
  {
   "cell_type": "code",
   "execution_count": 98,
   "metadata": {},
   "outputs": [],
   "source": [
    "df.drop_duplicates(inplace=True)"
   ]
  },
  {
   "cell_type": "code",
   "execution_count": 99,
   "metadata": {},
   "outputs": [
    {
     "name": "stdout",
     "output_type": "stream",
     "text": [
      "<class 'pandas.core.frame.DataFrame'>\n",
      "Int64Index: 536527 entries, 0 to 541908\n",
      "Data columns (total 7 columns):\n",
      "InvoiceNo      536527 non-null object\n",
      "StockCode      536527 non-null object\n",
      "Description    536527 non-null object\n",
      "Quantity       536527 non-null int64\n",
      "InvoiceDate    536527 non-null datetime64[ns]\n",
      "UnitPrice      536527 non-null float64\n",
      "CustomerID     536527 non-null object\n",
      "dtypes: datetime64[ns](1), float64(1), int64(1), object(4)\n",
      "memory usage: 32.7+ MB\n"
     ]
    }
   ],
   "source": [
    "df.info()"
   ]
  },
  {
   "cell_type": "markdown",
   "metadata": {},
   "source": [
    "Let's have a look at the **weird** values."
   ]
  },
  {
   "cell_type": "code",
   "execution_count": 100,
   "metadata": {},
   "outputs": [
    {
     "data": {
      "text/html": [
       "<div>\n",
       "<style scoped>\n",
       "    .dataframe tbody tr th:only-of-type {\n",
       "        vertical-align: middle;\n",
       "    }\n",
       "\n",
       "    .dataframe tbody tr th {\n",
       "        vertical-align: top;\n",
       "    }\n",
       "\n",
       "    .dataframe thead th {\n",
       "        text-align: right;\n",
       "    }\n",
       "</style>\n",
       "<table border=\"1\" class=\"dataframe\">\n",
       "  <thead>\n",
       "    <tr style=\"text-align: right;\">\n",
       "      <th></th>\n",
       "      <th>InvoiceNo</th>\n",
       "      <th>StockCode</th>\n",
       "      <th>Description</th>\n",
       "      <th>Quantity</th>\n",
       "      <th>InvoiceDate</th>\n",
       "      <th>UnitPrice</th>\n",
       "      <th>CustomerID</th>\n",
       "    </tr>\n",
       "  </thead>\n",
       "  <tbody>\n",
       "    <tr>\n",
       "      <td>141</td>\n",
       "      <td>C536379</td>\n",
       "      <td>D</td>\n",
       "      <td>Discount</td>\n",
       "      <td>-1</td>\n",
       "      <td>2018-11-29 09:41:00</td>\n",
       "      <td>27.50</td>\n",
       "      <td>14527</td>\n",
       "    </tr>\n",
       "    <tr>\n",
       "      <td>154</td>\n",
       "      <td>C536383</td>\n",
       "      <td>35004C</td>\n",
       "      <td>SET OF 3 COLOURED  FLYING DUCKS</td>\n",
       "      <td>-1</td>\n",
       "      <td>2018-11-29 09:49:00</td>\n",
       "      <td>4.65</td>\n",
       "      <td>15311</td>\n",
       "    </tr>\n",
       "    <tr>\n",
       "      <td>235</td>\n",
       "      <td>C536391</td>\n",
       "      <td>22556</td>\n",
       "      <td>PLASTERS IN TIN CIRCUS PARADE</td>\n",
       "      <td>-12</td>\n",
       "      <td>2018-11-29 10:24:00</td>\n",
       "      <td>1.65</td>\n",
       "      <td>17548</td>\n",
       "    </tr>\n",
       "    <tr>\n",
       "      <td>236</td>\n",
       "      <td>C536391</td>\n",
       "      <td>21984</td>\n",
       "      <td>PACK OF 12 PINK PAISLEY TISSUES</td>\n",
       "      <td>-24</td>\n",
       "      <td>2018-11-29 10:24:00</td>\n",
       "      <td>0.29</td>\n",
       "      <td>17548</td>\n",
       "    </tr>\n",
       "    <tr>\n",
       "      <td>237</td>\n",
       "      <td>C536391</td>\n",
       "      <td>21983</td>\n",
       "      <td>PACK OF 12 BLUE PAISLEY TISSUES</td>\n",
       "      <td>-24</td>\n",
       "      <td>2018-11-29 10:24:00</td>\n",
       "      <td>0.29</td>\n",
       "      <td>17548</td>\n",
       "    </tr>\n",
       "    <tr>\n",
       "      <td>...</td>\n",
       "      <td>...</td>\n",
       "      <td>...</td>\n",
       "      <td>...</td>\n",
       "      <td>...</td>\n",
       "      <td>...</td>\n",
       "      <td>...</td>\n",
       "      <td>...</td>\n",
       "    </tr>\n",
       "    <tr>\n",
       "      <td>540449</td>\n",
       "      <td>C581490</td>\n",
       "      <td>23144</td>\n",
       "      <td>ZINC T-LIGHT HOLDER STARS SMALL</td>\n",
       "      <td>-11</td>\n",
       "      <td>2019-12-07 09:57:00</td>\n",
       "      <td>0.83</td>\n",
       "      <td>14397</td>\n",
       "    </tr>\n",
       "    <tr>\n",
       "      <td>541541</td>\n",
       "      <td>C581499</td>\n",
       "      <td>M</td>\n",
       "      <td>Manual</td>\n",
       "      <td>-1</td>\n",
       "      <td>2019-12-07 10:28:00</td>\n",
       "      <td>224.69</td>\n",
       "      <td>15498</td>\n",
       "    </tr>\n",
       "    <tr>\n",
       "      <td>541715</td>\n",
       "      <td>C581568</td>\n",
       "      <td>21258</td>\n",
       "      <td>VICTORIAN SEWING BOX LARGE</td>\n",
       "      <td>-5</td>\n",
       "      <td>2019-12-07 11:57:00</td>\n",
       "      <td>10.95</td>\n",
       "      <td>15311</td>\n",
       "    </tr>\n",
       "    <tr>\n",
       "      <td>541716</td>\n",
       "      <td>C581569</td>\n",
       "      <td>84978</td>\n",
       "      <td>HANGING HEART JAR T-LIGHT HOLDER</td>\n",
       "      <td>-1</td>\n",
       "      <td>2019-12-07 11:58:00</td>\n",
       "      <td>1.25</td>\n",
       "      <td>17315</td>\n",
       "    </tr>\n",
       "    <tr>\n",
       "      <td>541717</td>\n",
       "      <td>C581569</td>\n",
       "      <td>20979</td>\n",
       "      <td>36 PENCILS TUBE RED RETROSPOT</td>\n",
       "      <td>-5</td>\n",
       "      <td>2019-12-07 11:58:00</td>\n",
       "      <td>1.25</td>\n",
       "      <td>17315</td>\n",
       "    </tr>\n",
       "  </tbody>\n",
       "</table>\n",
       "<p>10488 rows × 7 columns</p>\n",
       "</div>"
      ],
      "text/plain": [
       "       InvoiceNo StockCode                       Description  Quantity  \\\n",
       "141      C536379         D                          Discount        -1   \n",
       "154      C536383    35004C   SET OF 3 COLOURED  FLYING DUCKS        -1   \n",
       "235      C536391     22556    PLASTERS IN TIN CIRCUS PARADE        -12   \n",
       "236      C536391     21984  PACK OF 12 PINK PAISLEY TISSUES        -24   \n",
       "237      C536391     21983  PACK OF 12 BLUE PAISLEY TISSUES        -24   \n",
       "...          ...       ...                               ...       ...   \n",
       "540449   C581490     23144   ZINC T-LIGHT HOLDER STARS SMALL       -11   \n",
       "541541   C581499         M                            Manual        -1   \n",
       "541715   C581568     21258        VICTORIAN SEWING BOX LARGE        -5   \n",
       "541716   C581569     84978  HANGING HEART JAR T-LIGHT HOLDER        -1   \n",
       "541717   C581569     20979     36 PENCILS TUBE RED RETROSPOT        -5   \n",
       "\n",
       "               InvoiceDate  UnitPrice CustomerID  \n",
       "141    2018-11-29 09:41:00      27.50      14527  \n",
       "154    2018-11-29 09:49:00       4.65      15311  \n",
       "235    2018-11-29 10:24:00       1.65      17548  \n",
       "236    2018-11-29 10:24:00       0.29      17548  \n",
       "237    2018-11-29 10:24:00       0.29      17548  \n",
       "...                    ...        ...        ...  \n",
       "540449 2019-12-07 09:57:00       0.83      14397  \n",
       "541541 2019-12-07 10:28:00     224.69      15498  \n",
       "541715 2019-12-07 11:57:00      10.95      15311  \n",
       "541716 2019-12-07 11:58:00       1.25      17315  \n",
       "541717 2019-12-07 11:58:00       1.25      17315  \n",
       "\n",
       "[10488 rows x 7 columns]"
      ]
     },
     "execution_count": 100,
     "metadata": {},
     "output_type": "execute_result"
    }
   ],
   "source": [
    "df.query('Quantity < 0')\n"
   ]
  },
  {
   "cell_type": "markdown",
   "metadata": {},
   "source": [
    "Items with negative quantity. About 9000 rows. Those may be returns. We will have to analyze them separately."
   ]
  },
  {
   "cell_type": "code",
   "execution_count": 101,
   "metadata": {},
   "outputs": [
    {
     "data": {
      "text/html": [
       "<div>\n",
       "<style scoped>\n",
       "    .dataframe tbody tr th:only-of-type {\n",
       "        vertical-align: middle;\n",
       "    }\n",
       "\n",
       "    .dataframe tbody tr th {\n",
       "        vertical-align: top;\n",
       "    }\n",
       "\n",
       "    .dataframe thead th {\n",
       "        text-align: right;\n",
       "    }\n",
       "</style>\n",
       "<table border=\"1\" class=\"dataframe\">\n",
       "  <thead>\n",
       "    <tr style=\"text-align: right;\">\n",
       "      <th></th>\n",
       "      <th>InvoiceNo</th>\n",
       "      <th>StockCode</th>\n",
       "      <th>Description</th>\n",
       "      <th>Quantity</th>\n",
       "      <th>InvoiceDate</th>\n",
       "      <th>UnitPrice</th>\n",
       "      <th>CustomerID</th>\n",
       "    </tr>\n",
       "  </thead>\n",
       "  <tbody>\n",
       "    <tr>\n",
       "      <td>299983</td>\n",
       "      <td>A563186</td>\n",
       "      <td>B</td>\n",
       "      <td>Adjust bad debt</td>\n",
       "      <td>1</td>\n",
       "      <td>2019-08-10 14:51:00</td>\n",
       "      <td>-11062.06</td>\n",
       "      <td>unidentified</td>\n",
       "    </tr>\n",
       "    <tr>\n",
       "      <td>299984</td>\n",
       "      <td>A563187</td>\n",
       "      <td>B</td>\n",
       "      <td>Adjust bad debt</td>\n",
       "      <td>1</td>\n",
       "      <td>2019-08-10 14:52:00</td>\n",
       "      <td>-11062.06</td>\n",
       "      <td>unidentified</td>\n",
       "    </tr>\n",
       "  </tbody>\n",
       "</table>\n",
       "</div>"
      ],
      "text/plain": [
       "       InvoiceNo StockCode      Description  Quantity         InvoiceDate  \\\n",
       "299983   A563186         B  Adjust bad debt         1 2019-08-10 14:51:00   \n",
       "299984   A563187         B  Adjust bad debt         1 2019-08-10 14:52:00   \n",
       "\n",
       "        UnitPrice    CustomerID  \n",
       "299983  -11062.06  unidentified  \n",
       "299984  -11062.06  unidentified  "
      ]
     },
     "execution_count": 101,
     "metadata": {},
     "output_type": "execute_result"
    }
   ],
   "source": [
    "df.query('UnitPrice < 0')"
   ]
  },
  {
   "cell_type": "markdown",
   "metadata": {},
   "source": [
    "'Adjust bad debt' Hmm interesting, but im pretty sure we can get rid of those."
   ]
  },
  {
   "cell_type": "code",
   "execution_count": 102,
   "metadata": {},
   "outputs": [],
   "source": [
    "df = df.query('UnitPrice > 0').reset_index(drop=True)"
   ]
  },
  {
   "cell_type": "code",
   "execution_count": 103,
   "metadata": {},
   "outputs": [
    {
     "data": {
      "text/html": [
       "<div>\n",
       "<style scoped>\n",
       "    .dataframe tbody tr th:only-of-type {\n",
       "        vertical-align: middle;\n",
       "    }\n",
       "\n",
       "    .dataframe tbody tr th {\n",
       "        vertical-align: top;\n",
       "    }\n",
       "\n",
       "    .dataframe thead th {\n",
       "        text-align: right;\n",
       "    }\n",
       "</style>\n",
       "<table border=\"1\" class=\"dataframe\">\n",
       "  <thead>\n",
       "    <tr style=\"text-align: right;\">\n",
       "      <th></th>\n",
       "      <th>InvoiceNo</th>\n",
       "      <th>StockCode</th>\n",
       "      <th>Description</th>\n",
       "      <th>Quantity</th>\n",
       "      <th>InvoiceDate</th>\n",
       "      <th>UnitPrice</th>\n",
       "      <th>CustomerID</th>\n",
       "    </tr>\n",
       "  </thead>\n",
       "  <tbody>\n",
       "  </tbody>\n",
       "</table>\n",
       "</div>"
      ],
      "text/plain": [
       "Empty DataFrame\n",
       "Columns: [InvoiceNo, StockCode, Description, Quantity, InvoiceDate, UnitPrice, CustomerID]\n",
       "Index: []"
      ]
     },
     "execution_count": 103,
     "metadata": {},
     "output_type": "execute_result"
    }
   ],
   "source": [
    "df.query(\"UnitPrice == 0 and CustomerID == 'unidentified'\")"
   ]
  },
  {
   "cell_type": "markdown",
   "metadata": {},
   "source": [
    "We got 2300 rows without unit price and customer ID. It's better to get rid of them"
   ]
  },
  {
   "cell_type": "code",
   "execution_count": 104,
   "metadata": {},
   "outputs": [],
   "source": [
    "df_remove = df.query(\"UnitPrice == 0 and CustomerID == 'unidentified'\").index.to_list()\n",
    "\n",
    "df = df.query('index not in @df_remove').reset_index(drop=True)\n"
   ]
  },
  {
   "cell_type": "code",
   "execution_count": 105,
   "metadata": {},
   "outputs": [
    {
     "name": "stdout",
     "output_type": "stream",
     "text": [
      "<class 'pandas.core.frame.DataFrame'>\n",
      "RangeIndex: 534129 entries, 0 to 534128\n",
      "Data columns (total 7 columns):\n",
      "InvoiceNo      534129 non-null object\n",
      "StockCode      534129 non-null object\n",
      "Description    534129 non-null object\n",
      "Quantity       534129 non-null int64\n",
      "InvoiceDate    534129 non-null datetime64[ns]\n",
      "UnitPrice      534129 non-null float64\n",
      "CustomerID     534129 non-null object\n",
      "dtypes: datetime64[ns](1), float64(1), int64(1), object(4)\n",
      "memory usage: 28.5+ MB\n"
     ]
    }
   ],
   "source": [
    "df.info()"
   ]
  },
  {
   "cell_type": "markdown",
   "metadata": {},
   "source": [
    "## Concluison.\n",
    "In this stage we've closely looked at our data, cleaned and fixed it, and now it's completley ready for a thorough analysis!"
   ]
  },
  {
   "cell_type": "markdown",
   "metadata": {},
   "source": [
    "# Step 3. EDA."
   ]
  },
  {
   "cell_type": "markdown",
   "metadata": {},
   "source": [
    "As we've concluded in the previous chapter there are many abnormalities in our data and we will have to analyze them separately.  \n",
    "Let's create a table **without unidentified** customers."
   ]
  },
  {
   "cell_type": "code",
   "execution_count": 106,
   "metadata": {},
   "outputs": [],
   "source": [
    "df_user_filtered = df.query(\"CustomerID != 'unidentified'\").reset_index(drop=True)"
   ]
  },
  {
   "cell_type": "markdown",
   "metadata": {},
   "source": [
    "### Price"
   ]
  },
  {
   "cell_type": "code",
   "execution_count": 107,
   "metadata": {},
   "outputs": [
    {
     "data": {
      "text/plain": [
       "count    534129.000000\n",
       "mean          4.695864\n",
       "std          95.079189\n",
       "min           0.001000\n",
       "25%           1.250000\n",
       "50%           2.100000\n",
       "75%           4.130000\n",
       "max       38970.000000\n",
       "Name: UnitPrice, dtype: float64"
      ]
     },
     "execution_count": 107,
     "metadata": {},
     "output_type": "execute_result"
    },
    {
     "data": {
      "image/png": "[encoded data removed]",
      "text/plain": [
       "<Figure size 432x288 with 1 Axes>"
      ]
     },
     "metadata": {
      "needs_background": "light"
     },
     "output_type": "display_data"
    }
   ],
   "source": [
    "df.UnitPrice.hist(bins = 50, range =(0, 5))\n",
    "df.UnitPrice.describe()"
   ]
  },
  {
   "cell_type": "markdown",
   "metadata": {},
   "source": [
    "By looking at the describe method results I've separated the range between 0 and 5 dollars, since orders of more than 55 dollars are a minority.  \n",
    "We can see that the majority of the items are priced **between 0.80 and 1.8$**"
   ]
  },
  {
   "cell_type": "markdown",
   "metadata": {},
   "source": [
    "### Quantity"
   ]
  },
  {
   "cell_type": "code",
   "execution_count": 108,
   "metadata": {},
   "outputs": [
    {
     "data": {
      "text/plain": [
       "count    534129.000000\n",
       "mean          9.916818\n",
       "std         216.452113\n",
       "min      -80995.000000\n",
       "25%           1.000000\n",
       "50%           3.000000\n",
       "75%          10.000000\n",
       "max       80995.000000\n",
       "Name: Quantity, dtype: float64"
      ]
     },
     "execution_count": 108,
     "metadata": {},
     "output_type": "execute_result"
    },
    {
     "data": {
      "image/png": "[encoded data removed]",
      "text/plain": [
       "<Figure size 432x288 with 1 Axes>"
      ]
     },
     "metadata": {
      "needs_background": "light"
     },
     "output_type": "display_data"
    }
   ],
   "source": [
    "df.Quantity.hist(bins = 10, range =(1, 10))\n",
    "df.Quantity.describe()"
   ]
  },
  {
   "cell_type": "markdown",
   "metadata": {},
   "source": [
    "By looking at the describe method we may conclude that most of the purcahses were made with 1 piece of an item, however about 50% of them had 2 or 3.\\"
   ]
  },
  {
   "cell_type": "markdown",
   "metadata": {},
   "source": [
    "### Date."
   ]
  },
  {
   "cell_type": "code",
   "execution_count": 109,
   "metadata": {},
   "outputs": [],
   "source": [
    "df['date'] = df.InvoiceDate.dt.date"
   ]
  },
  {
   "cell_type": "code",
   "execution_count": 110,
   "metadata": {},
   "outputs": [
    {
     "data": {
      "text/plain": [
       "count         534129\n",
       "unique           305\n",
       "top       2019-12-03\n",
       "freq            5284\n",
       "Name: date, dtype: object"
      ]
     },
     "execution_count": 110,
     "metadata": {},
     "output_type": "execute_result"
    },
    {
     "data": {
      "image/png": "[encoded data removed]",
      "text/plain": [
       "<Figure size 432x288 with 1 Axes>"
      ]
     },
     "metadata": {
      "needs_background": "light"
     },
     "output_type": "display_data"
    }
   ],
   "source": [
    "df['date'].hist(bins=61)\n",
    "df.date.describe()"
   ]
  },
  {
   "cell_type": "markdown",
   "metadata": {},
   "source": [
    "### Revenue."
   ]
  },
  {
   "cell_type": "code",
   "execution_count": null,
   "metadata": {},
   "outputs": [],
   "source": []
  },
  {
   "cell_type": "code",
   "execution_count": 111,
   "metadata": {},
   "outputs": [],
   "source": [
    "df['Revenue'] = df['Quantity'] * df['UnitPrice']"
   ]
  },
  {
   "cell_type": "code",
   "execution_count": 112,
   "metadata": {},
   "outputs": [
    {
     "data": {
      "text/html": [
       "<div>\n",
       "<style scoped>\n",
       "    .dataframe tbody tr th:only-of-type {\n",
       "        vertical-align: middle;\n",
       "    }\n",
       "\n",
       "    .dataframe tbody tr th {\n",
       "        vertical-align: top;\n",
       "    }\n",
       "\n",
       "    .dataframe thead th {\n",
       "        text-align: right;\n",
       "    }\n",
       "</style>\n",
       "<table border=\"1\" class=\"dataframe\">\n",
       "  <thead>\n",
       "    <tr style=\"text-align: right;\">\n",
       "      <th></th>\n",
       "      <th>InvoiceNo</th>\n",
       "      <th>StockCode</th>\n",
       "      <th>Description</th>\n",
       "      <th>Quantity</th>\n",
       "      <th>InvoiceDate</th>\n",
       "      <th>UnitPrice</th>\n",
       "      <th>CustomerID</th>\n",
       "      <th>date</th>\n",
       "      <th>Revenue</th>\n",
       "    </tr>\n",
       "  </thead>\n",
       "  <tbody>\n",
       "    <tr>\n",
       "      <td>0</td>\n",
       "      <td>536365</td>\n",
       "      <td>85123A</td>\n",
       "      <td>WHITE HANGING HEART T-LIGHT HOLDER</td>\n",
       "      <td>6</td>\n",
       "      <td>2018-11-29 08:26:00</td>\n",
       "      <td>2.55</td>\n",
       "      <td>17850</td>\n",
       "      <td>2018-11-29</td>\n",
       "      <td>15.30</td>\n",
       "    </tr>\n",
       "    <tr>\n",
       "      <td>1</td>\n",
       "      <td>536365</td>\n",
       "      <td>71053</td>\n",
       "      <td>WHITE METAL LANTERN</td>\n",
       "      <td>6</td>\n",
       "      <td>2018-11-29 08:26:00</td>\n",
       "      <td>3.39</td>\n",
       "      <td>17850</td>\n",
       "      <td>2018-11-29</td>\n",
       "      <td>20.34</td>\n",
       "    </tr>\n",
       "    <tr>\n",
       "      <td>2</td>\n",
       "      <td>536365</td>\n",
       "      <td>84406B</td>\n",
       "      <td>CREAM CUPID HEARTS COAT HANGER</td>\n",
       "      <td>8</td>\n",
       "      <td>2018-11-29 08:26:00</td>\n",
       "      <td>2.75</td>\n",
       "      <td>17850</td>\n",
       "      <td>2018-11-29</td>\n",
       "      <td>22.00</td>\n",
       "    </tr>\n",
       "    <tr>\n",
       "      <td>3</td>\n",
       "      <td>536365</td>\n",
       "      <td>84029G</td>\n",
       "      <td>KNITTED UNION FLAG HOT WATER BOTTLE</td>\n",
       "      <td>6</td>\n",
       "      <td>2018-11-29 08:26:00</td>\n",
       "      <td>3.39</td>\n",
       "      <td>17850</td>\n",
       "      <td>2018-11-29</td>\n",
       "      <td>20.34</td>\n",
       "    </tr>\n",
       "    <tr>\n",
       "      <td>4</td>\n",
       "      <td>536365</td>\n",
       "      <td>84029E</td>\n",
       "      <td>RED WOOLLY HOTTIE WHITE HEART.</td>\n",
       "      <td>6</td>\n",
       "      <td>2018-11-29 08:26:00</td>\n",
       "      <td>3.39</td>\n",
       "      <td>17850</td>\n",
       "      <td>2018-11-29</td>\n",
       "      <td>20.34</td>\n",
       "    </tr>\n",
       "  </tbody>\n",
       "</table>\n",
       "</div>"
      ],
      "text/plain": [
       "  InvoiceNo StockCode                          Description  Quantity  \\\n",
       "0    536365    85123A   WHITE HANGING HEART T-LIGHT HOLDER         6   \n",
       "1    536365     71053                  WHITE METAL LANTERN         6   \n",
       "2    536365    84406B       CREAM CUPID HEARTS COAT HANGER         8   \n",
       "3    536365    84029G  KNITTED UNION FLAG HOT WATER BOTTLE         6   \n",
       "4    536365    84029E       RED WOOLLY HOTTIE WHITE HEART.         6   \n",
       "\n",
       "          InvoiceDate  UnitPrice CustomerID        date  Revenue  \n",
       "0 2018-11-29 08:26:00       2.55      17850  2018-11-29    15.30  \n",
       "1 2018-11-29 08:26:00       3.39      17850  2018-11-29    20.34  \n",
       "2 2018-11-29 08:26:00       2.75      17850  2018-11-29    22.00  \n",
       "3 2018-11-29 08:26:00       3.39      17850  2018-11-29    20.34  \n",
       "4 2018-11-29 08:26:00       3.39      17850  2018-11-29    20.34  "
      ]
     },
     "execution_count": 112,
     "metadata": {},
     "output_type": "execute_result"
    }
   ],
   "source": [
    "df.head()"
   ]
  },
  {
   "cell_type": "code",
   "execution_count": 113,
   "metadata": {},
   "outputs": [],
   "source": [
    "revenue_chart = df.groupby('date')['Revenue'].sum().reset_index()"
   ]
  },
  {
   "cell_type": "code",
   "execution_count": 114,
   "metadata": {},
   "outputs": [
    {
     "data": {
      "text/html": [
       "<div>\n",
       "<style scoped>\n",
       "    .dataframe tbody tr th:only-of-type {\n",
       "        vertical-align: middle;\n",
       "    }\n",
       "\n",
       "    .dataframe tbody tr th {\n",
       "        vertical-align: top;\n",
       "    }\n",
       "\n",
       "    .dataframe thead th {\n",
       "        text-align: right;\n",
       "    }\n",
       "</style>\n",
       "<table border=\"1\" class=\"dataframe\">\n",
       "  <thead>\n",
       "    <tr style=\"text-align: right;\">\n",
       "      <th></th>\n",
       "      <th>date</th>\n",
       "      <th>Revenue</th>\n",
       "    </tr>\n",
       "  </thead>\n",
       "  <tbody>\n",
       "    <tr>\n",
       "      <td>0</td>\n",
       "      <td>2018-11-29</td>\n",
       "      <td>58451.56</td>\n",
       "    </tr>\n",
       "    <tr>\n",
       "      <td>1</td>\n",
       "      <td>2018-11-30</td>\n",
       "      <td>46088.32</td>\n",
       "    </tr>\n",
       "    <tr>\n",
       "      <td>2</td>\n",
       "      <td>2018-12-01</td>\n",
       "      <td>45575.38</td>\n",
       "    </tr>\n",
       "    <tr>\n",
       "      <td>3</td>\n",
       "      <td>2018-12-03</td>\n",
       "      <td>30973.63</td>\n",
       "    </tr>\n",
       "    <tr>\n",
       "      <td>4</td>\n",
       "      <td>2018-12-04</td>\n",
       "      <td>53653.87</td>\n",
       "    </tr>\n",
       "    <tr>\n",
       "      <td>...</td>\n",
       "      <td>...</td>\n",
       "      <td>...</td>\n",
       "    </tr>\n",
       "    <tr>\n",
       "      <td>300</td>\n",
       "      <td>2019-12-03</td>\n",
       "      <td>57630.20</td>\n",
       "    </tr>\n",
       "    <tr>\n",
       "      <td>301</td>\n",
       "      <td>2019-12-04</td>\n",
       "      <td>54109.39</td>\n",
       "    </tr>\n",
       "    <tr>\n",
       "      <td>302</td>\n",
       "      <td>2019-12-05</td>\n",
       "      <td>74952.61</td>\n",
       "    </tr>\n",
       "    <tr>\n",
       "      <td>303</td>\n",
       "      <td>2019-12-06</td>\n",
       "      <td>81294.33</td>\n",
       "    </tr>\n",
       "    <tr>\n",
       "      <td>304</td>\n",
       "      <td>2019-12-07</td>\n",
       "      <td>32111.91</td>\n",
       "    </tr>\n",
       "  </tbody>\n",
       "</table>\n",
       "<p>305 rows × 2 columns</p>\n",
       "</div>"
      ],
      "text/plain": [
       "           date   Revenue\n",
       "0    2018-11-29  58451.56\n",
       "1    2018-11-30  46088.32\n",
       "2    2018-12-01  45575.38\n",
       "3    2018-12-03  30973.63\n",
       "4    2018-12-04  53653.87\n",
       "..          ...       ...\n",
       "300  2019-12-03  57630.20\n",
       "301  2019-12-04  54109.39\n",
       "302  2019-12-05  74952.61\n",
       "303  2019-12-06  81294.33\n",
       "304  2019-12-07  32111.91\n",
       "\n",
       "[305 rows x 2 columns]"
      ]
     },
     "execution_count": 114,
     "metadata": {},
     "output_type": "execute_result"
    }
   ],
   "source": [
    "revenue_chart"
   ]
  },
  {
   "cell_type": "code",
   "execution_count": 115,
   "metadata": {},
   "outputs": [
    {
     "data": {
      "image/png": "[encoded data removed]",
      "text/plain": [
       "<Figure size 1280x800 with 1 Axes>"
      ]
     },
     "metadata": {
      "needs_background": "light"
     },
     "output_type": "display_data"
    }
   ],
   "source": [
    "plt.figure(figsize=(16,10), dpi= 80)\n",
    "plt.plot('date', 'Revenue', data=revenue_chart, color='tab:blue')\n",
    "\n",
    "#plt.ylim(50, 750)\n",
    "xtick_location = revenue_chart.index.tolist()[::61]\n",
    "#xtick_labels = revenue_chart.date.tolist()\n",
    "#plt.xticks(ticks=xtick_location, labels=xtick_labels, rotation=0, fontsize=12, horizontalalignment='center', alpha=.7)\n",
    "plt.yticks(fontsize=12, alpha=.7)\n",
    "plt.title(\"Revenue per date\", fontsize=22)\n",
    "plt.grid(axis='both', alpha=.3)"
   ]
  },
  {
   "cell_type": "markdown",
   "metadata": {},
   "source": [
    "Hmm, it's a little bit difficult to say with this graph.\n",
    "Let's have a look at the Revenue per month."
   ]
  },
  {
   "cell_type": "code",
   "execution_count": 116,
   "metadata": {},
   "outputs": [],
   "source": [
    "df['month'] = df.InvoiceDate.dt.month"
   ]
  },
  {
   "cell_type": "code",
   "execution_count": 117,
   "metadata": {},
   "outputs": [
    {
     "data": {
      "image/png": "[encoded data removed]",
      "text/plain": [
       "<Figure size 1280x800 with 1 Axes>"
      ]
     },
     "metadata": {
      "needs_background": "light"
     },
     "output_type": "display_data"
    }
   ],
   "source": [
    "plt.figure(figsize=(16,10), dpi= 80)\n",
    "plt.plot('month', 'Revenue', data=df.groupby('month')['Revenue'].sum().reset_index(), color='tab:blue')\n",
    "\n",
    "#plt.ylim(50, 750)\n",
    "#xtick_location = revenue_chart.index.tolist()[::61]\n",
    "#xtick_labels = revenue_chart.date.tolist()\n",
    "#plt.xticks(ticks=xtick_location, labels=xtick_labels, rotation=0, fontsize=12, horizontalalignment='center', alpha=.7)\n",
    "plt.yticks(fontsize=12, alpha=.7)\n",
    "plt.title(\"Revenue per month\", fontsize=22)\n",
    "plt.grid(axis='both', alpha=.3)\n"
   ]
  },
  {
   "cell_type": "markdown",
   "metadata": {},
   "source": [
    "Here we can see that the shop has an **increase** in revenue towards the end of the year. \n",
    "This may be due to people buying more stuff towards the holidays.\n",
    "\n",
    "We're **not taking into** account December since only 1 week of it is in our data."
   ]
  },
  {
   "cell_type": "markdown",
   "metadata": {},
   "source": [
    "## Conclusion.\n",
    "During this stage we've performed EDA and came to several conclusion:\n",
    "* We can see that the majority of the items are priced **between 0.80 and 1.8$**\n",
    "* By looking at the describe method we may conclude that most of the purcahses were made with 1 piece of an item, however about 50% of them had 2 or 3.\n",
    "* we can see that the shop has an **increase in revenue** towards the end of the year.  "
   ]
  },
  {
   "cell_type": "markdown",
   "metadata": {},
   "source": [
    "# Step 4. Product range analysis."
   ]
  },
  {
   "cell_type": "markdown",
   "metadata": {},
   "source": [
    "Let's prepare our data for lemmatization. "
   ]
  },
  {
   "cell_type": "code",
   "execution_count": 118,
   "metadata": {},
   "outputs": [],
   "source": [
    "df['Description'] = df['Description'].str.lower()"
   ]
  },
  {
   "cell_type": "code",
   "execution_count": 119,
   "metadata": {},
   "outputs": [
    {
     "data": {
      "text/plain": [
       "white hanging heart t-light holder    2353\n",
       "regency cakestand 3 tier              2187\n",
       "jumbo bag red retrospot               2153\n",
       "party bunting                         1719\n",
       "lunch bag red retrospot               1625\n",
       "assorted colour bird ornament         1488\n",
       "set of 3 cake tins pantry design      1465\n",
       "pack of 72 retrospot cake cases       1367\n",
       "lunch bag  black skull.               1323\n",
       "natural slate heart chalkboard        1272\n",
       "postage                               1252\n",
       "jumbo bag pink polkadot               1245\n",
       "heart of wicker small                 1230\n",
       "jam making set with jars              1220\n",
       "jumbo storage bag suki                1211\n",
       "paper chain kit 50's christmas        1194\n",
       "jumbo shopper vintage red paisley     1192\n",
       "lunch bag cars blue                   1185\n",
       "lunch bag spaceboy design             1177\n",
       "jam making set printed                1177\n",
       "Name: Description, dtype: int64"
      ]
     },
     "execution_count": 119,
     "metadata": {},
     "output_type": "execute_result"
    }
   ],
   "source": [
    "df['Description'].value_counts().head(20)"
   ]
  },
  {
   "cell_type": "markdown",
   "metadata": {},
   "source": [
    "Now let's use TextBlob for taking out the nouns, it will help us categorizing data."
   ]
  },
  {
   "cell_type": "code",
   "execution_count": 120,
   "metadata": {},
   "outputs": [],
   "source": [
    "df['lemmatized'] = df['Description'].apply(lambda words: TextBlob(words).noun_phrases)"
   ]
  },
  {
   "cell_type": "code",
   "execution_count": 121,
   "metadata": {},
   "outputs": [
    {
     "data": {
      "text/plain": [
       "[]                                      45253\n",
       "[heart t-light holder]                   3235\n",
       "[hot water bottle]                       2554\n",
       "[jam making]                             2397\n",
       "[alarm clock bakelike]                   2370\n",
       "[regency cakestand]                      2187\n",
       "[jumbo bag, red retrospot]               2153\n",
       "[lunch bag, red retrospot]               1625\n",
       "[blue metal door]                        1597\n",
       "[colour bird ornament]                   1488\n",
       "[cake tins pantry design]                1465\n",
       "[edwardian parasol]                      1441\n",
       "[retrospot tea]                          1424\n",
       "[retrospot cake cases]                   1367\n",
       "[lunch bag suki design]                  1327\n",
       "[lunch bag, black skull]                 1323\n",
       "[ceramic trinket box]                    1304\n",
       "[natural slate heart chalkboard]         1272\n",
       "[jumbo bag, pink polkadot]               1245\n",
       "[jumbo storage bag suki]                 1211\n",
       "[paper chain kit, 's christmas]          1194\n",
       "[jumbo shopper vintage, red paisley]     1192\n",
       "[lunch bag cars]                         1185\n",
       "[lunch bag spaceboy design]              1177\n",
       "[recipe box pantry, yellow design]       1166\n",
       "[roses regency teacup]                   1127\n",
       "[wooden picture frame, white finish]     1124\n",
       "[lunch bag, pink polkadot]               1121\n",
       "[heart zinc t-light holder]              1118\n",
       "[victorian glass]                        1066\n",
       "[lunch bag apple design]                 1066\n",
       "[green regency teacup]                   1064\n",
       "[red retrospot charlotte bag]            1060\n",
       "[lunch bag woodland]                     1049\n",
       "[red retrospot]                          1032\n",
       "[rabbit night]                           1032\n",
       "[alarm clock bakelike green]             1012\n",
       "[red retrospot paper napkins]            1007\n",
       "[jumbo bag apples]                       1007\n",
       "[wooden frame antique]                    995\n",
       "[ribbons rustic charm]                    976\n",
       "[piece retrospot]                         965\n",
       "[jumbo bag baroque]                       957\n",
       "[vintage snap cards]                      939\n",
       "[picnic basket wicker]                    937\n",
       "[red retrospot lid glass bowls]           926\n",
       "[jumbo bag alphabet]                      925\n",
       "[spaceboy lunch box]                      913\n",
       "[regency cake tins]                       913\n",
       "[rex cash+carry jumbo shopper]            912\n",
       "Name: lemmatized, dtype: int64"
      ]
     },
     "execution_count": 121,
     "metadata": {},
     "output_type": "execute_result"
    }
   ],
   "source": [
    "df['lemmatized'].value_counts().head(50)"
   ]
  },
  {
   "cell_type": "markdown",
   "metadata": {},
   "source": [
    "Now we will have to pick out manually the most recurring objects. Let's look:\n",
    "* holder\n",
    "* bottle\n",
    "* cakestand\n",
    "* jam\n",
    "* bag\n",
    "* door\n",
    "* ornament\n",
    "* cake\n",
    "* jumbo\n",
    "* regency\n",
    "* retrospot\n",
    "* clock\n",
    "* glass\n",
    "* party\n",
    "* teacup\n",
    "* christmas\n",
    "* knob\n",
    "* skull\n",
    "* box\n",
    "* kit\n",
    "* frame"
   ]
  },
  {
   "cell_type": "markdown",
   "metadata": {},
   "source": [
    "Or we can try doing this with a Counter"
   ]
  },
  {
   "cell_type": "code",
   "execution_count": 122,
   "metadata": {},
   "outputs": [
    {
     "name": "stdout",
     "output_type": "stream",
     "text": [
      "red retrospot 7553\n",
      "hot water bottle 6382\n",
      "jumbo bag 5729\n",
      "lunch bag 4901\n",
      "pink polkadot 3922\n",
      "'s christmas 3286\n",
      "heart t-light holder 3235\n",
      "white finish 2829\n",
      "jam making 2397\n",
      "alarm clock bakelike 2370\n",
      "regency cakestand 2187\n",
      "girl design 2186\n",
      "ceramic drawer knob 1661\n",
      "round snack boxes 1647\n",
      "blue metal door 1597\n",
      "colour bird ornament 1488\n",
      "cake tins pantry design 1465\n",
      "edwardian parasol 1441\n",
      "retrospot tea 1424\n",
      "retrospot cake cases 1367\n",
      "lunch bag suki design 1327\n",
      "black skull 1323\n",
      "ceramic trinket box 1304\n",
      "natural slate heart chalkboard 1272\n",
      "jumbo storage bag suki 1211\n",
      "charlotte bag 1195\n",
      "paper chain kit 1194\n",
      "jumbo shopper vintage 1192\n",
      "red paisley 1192\n",
      "lunch bag cars 1185\n",
      "lunch bag spaceboy design 1177\n",
      "blue metal 1168\n",
      "recipe box pantry 1166\n",
      "yellow design 1166\n",
      "craft trinket box 1154\n",
      "roses regency teacup 1127\n",
      "wooden picture frame 1124\n",
      "heart zinc t-light holder 1118\n",
      "victorian glass 1066\n",
      "lunch bag apple design 1066\n",
      "green regency teacup 1064\n",
      "red retrospot charlotte bag 1060\n",
      "lunch bag woodland 1049\n",
      "key fob 1043\n",
      "rabbit night 1032\n",
      "alarm clock bakelike green 1012\n",
      "red retrospot paper napkins 1007\n",
      "jumbo bag apples 1007\n",
      "wooden frame antique 995\n",
      "ribbons rustic charm 976\n"
     ]
    }
   ],
   "source": [
    "from collections import Counter\n",
    "frequencies = Counter(word for sentence in df['lemmatized'] for word in sentence)\n",
    "for word, frequency in frequencies.most_common(50):  # get the 10 most frequent words\n",
    "    print(word, frequency)"
   ]
  },
  {
   "cell_type": "markdown",
   "metadata": {},
   "source": [
    "Now let's try a function"
   ]
  },
  {
   "cell_type": "code",
   "execution_count": 123,
   "metadata": {},
   "outputs": [],
   "source": [
    "# df_right['Description_x'] = df_right.apply(\n",
    "# lambda row: row['Description_y'] if pd.isnull(row['Description_x']) else row['Description_x'], axis=1\n",
    "# )\n"
   ]
  },
  {
   "cell_type": "code",
   "execution_count": 124,
   "metadata": {},
   "outputs": [],
   "source": [
    "# df['Category'] = df.apply(lambda col: 'Bag' if col['Description'].str.contains('bag') else '', axis=1)"
   ]
  },
  {
   "cell_type": "code",
   "execution_count": 125,
   "metadata": {},
   "outputs": [],
   "source": [
    "# for idx, row in df.iterrows():\n",
    "#       if 'bag' in row['Description']:\n",
    "#             row['Category'] = 'Bag'"
   ]
  },
  {
   "cell_type": "code",
   "execution_count": 126,
   "metadata": {},
   "outputs": [],
   "source": [
    "categories = ['holder'\n",
    ", 'bottle'\n",
    ", 'cakestand'\n",
    ", 'jam'\n",
    ", 'bag'\n",
    ", 'door'\n",
    ", 'ornament'\n",
    ", 'cake'\n",
    ", 'jumbo'\n",
    ", 'regency'\n",
    ", 'retrospot'\n",
    ", 'clock'\n",
    ", 'glass'\n",
    ", 'party'\n",
    ", 'teacup'\n",
    ", 'christmas'\n",
    ", 'knob'\n",
    ", 'skull'\n",
    ", 'box'\n",
    ", 'kit'\n",
    ", 'frame',\n",
    "             'chalkboard',\n",
    "             'lantern',\n",
    "             'hanger',\n",
    "             'children',\n",
    "             'napkins',\n",
    "             'light']"
   ]
  },
  {
   "cell_type": "code",
   "execution_count": 127,
   "metadata": {},
   "outputs": [],
   "source": [
    "# df[df['Description'].str.contains(categories[0])]\n",
    "\n",
    "def categorize(row):\n",
    "    description = row['Description']\n",
    "    for i in categories:\n",
    "        if i in description:\n",
    "            return i\n",
    "            \n",
    "        "
   ]
  },
  {
   "cell_type": "code",
   "execution_count": 128,
   "metadata": {},
   "outputs": [],
   "source": [
    "df['category'] = df.apply(categorize, axis=1) # Apply the function to the table"
   ]
  },
  {
   "cell_type": "code",
   "execution_count": 129,
   "metadata": {},
   "outputs": [],
   "source": [
    "df.category.fillna('other', inplace=True)"
   ]
  },
  {
   "cell_type": "code",
   "execution_count": 130,
   "metadata": {},
   "outputs": [
    {
     "data": {
      "text/plain": [
       "other         261631\n",
       "bag            52426\n",
       "box            24719\n",
       "cake           22647\n",
       "retrospot      22238\n",
       "christmas      20680\n",
       "holder         17530\n",
       "door           13202\n",
       "bottle         12114\n",
       "light           9117\n",
       "glass           8498\n",
       "kit             8263\n",
       "clock           7156\n",
       "frame           6841\n",
       "party           6236\n",
       "regency         5742\n",
       "children        5715\n",
       "skull           5576\n",
       "knob            4978\n",
       "jam             4453\n",
       "cakestand       2594\n",
       "lantern         2537\n",
       "chalkboard      2207\n",
       "jumbo           2104\n",
       "hanger          1761\n",
       "napkins         1676\n",
       "ornament        1488\n",
       "Name: category, dtype: int64"
      ]
     },
     "execution_count": 130,
     "metadata": {},
     "output_type": "execute_result"
    }
   ],
   "source": [
    "df.category.value_counts()"
   ]
  },
  {
   "cell_type": "markdown",
   "metadata": {},
   "source": [
    "Great! Now we've assigned some categorization to the shop's variety of items."
   ]
  },
  {
   "cell_type": "markdown",
   "metadata": {},
   "source": [
    "### Which products are more often sold by themselves, and which ones are more often combined with others (main and additional assortment)?"
   ]
  },
  {
   "cell_type": "markdown",
   "metadata": {},
   "source": [
    "Now, let's check which products were sold by themselves and which were sold in bundles."
   ]
  },
  {
   "cell_type": "code",
   "execution_count": 131,
   "metadata": {},
   "outputs": [
    {
     "data": {
      "text/html": [
       "<div>\n",
       "<style scoped>\n",
       "    .dataframe tbody tr th:only-of-type {\n",
       "        vertical-align: middle;\n",
       "    }\n",
       "\n",
       "    .dataframe tbody tr th {\n",
       "        vertical-align: top;\n",
       "    }\n",
       "\n",
       "    .dataframe thead th {\n",
       "        text-align: right;\n",
       "    }\n",
       "</style>\n",
       "<table border=\"1\" class=\"dataframe\">\n",
       "  <thead>\n",
       "    <tr style=\"text-align: right;\">\n",
       "      <th></th>\n",
       "      <th>InvoiceNo</th>\n",
       "      <th>StockCode</th>\n",
       "      <th>Description</th>\n",
       "      <th>Quantity</th>\n",
       "      <th>InvoiceDate</th>\n",
       "      <th>UnitPrice</th>\n",
       "      <th>CustomerID</th>\n",
       "      <th>date</th>\n",
       "      <th>Revenue</th>\n",
       "      <th>month</th>\n",
       "      <th>lemmatized</th>\n",
       "      <th>category</th>\n",
       "    </tr>\n",
       "  </thead>\n",
       "  <tbody>\n",
       "    <tr>\n",
       "      <td>0</td>\n",
       "      <td>536365</td>\n",
       "      <td>85123A</td>\n",
       "      <td>white hanging heart t-light holder</td>\n",
       "      <td>6</td>\n",
       "      <td>2018-11-29 08:26:00</td>\n",
       "      <td>2.55</td>\n",
       "      <td>17850</td>\n",
       "      <td>2018-11-29</td>\n",
       "      <td>15.30</td>\n",
       "      <td>11</td>\n",
       "      <td>[heart t-light holder]</td>\n",
       "      <td>holder</td>\n",
       "    </tr>\n",
       "    <tr>\n",
       "      <td>1</td>\n",
       "      <td>536365</td>\n",
       "      <td>71053</td>\n",
       "      <td>white metal lantern</td>\n",
       "      <td>6</td>\n",
       "      <td>2018-11-29 08:26:00</td>\n",
       "      <td>3.39</td>\n",
       "      <td>17850</td>\n",
       "      <td>2018-11-29</td>\n",
       "      <td>20.34</td>\n",
       "      <td>11</td>\n",
       "      <td>[white metal lantern]</td>\n",
       "      <td>lantern</td>\n",
       "    </tr>\n",
       "  </tbody>\n",
       "</table>\n",
       "</div>"
      ],
      "text/plain": [
       "  InvoiceNo StockCode                         Description  Quantity  \\\n",
       "0    536365    85123A  white hanging heart t-light holder         6   \n",
       "1    536365     71053                 white metal lantern         6   \n",
       "\n",
       "          InvoiceDate  UnitPrice CustomerID        date  Revenue  month  \\\n",
       "0 2018-11-29 08:26:00       2.55      17850  2018-11-29    15.30     11   \n",
       "1 2018-11-29 08:26:00       3.39      17850  2018-11-29    20.34     11   \n",
       "\n",
       "               lemmatized category  \n",
       "0  [heart t-light holder]   holder  \n",
       "1   [white metal lantern]  lantern  "
      ]
     },
     "execution_count": 131,
     "metadata": {},
     "output_type": "execute_result"
    }
   ],
   "source": [
    "df.head(2)"
   ]
  },
  {
   "cell_type": "code",
   "execution_count": 132,
   "metadata": {},
   "outputs": [],
   "source": [
    "singles_list = df.groupby('InvoiceNo')['UnitPrice'].count().reset_index().query('UnitPrice == 1')['InvoiceNo'].to_list()"
   ]
  },
  {
   "cell_type": "markdown",
   "metadata": {},
   "source": [
    "We got 3763 items that were bought separatly, not that much.."
   ]
  },
  {
   "cell_type": "code",
   "execution_count": 133,
   "metadata": {},
   "outputs": [],
   "source": [
    "bundles_list = df.groupby('InvoiceNo')['UnitPrice'].count().reset_index().query('UnitPrice > 1')['InvoiceNo'].to_list()"
   ]
  },
  {
   "cell_type": "code",
   "execution_count": 134,
   "metadata": {},
   "outputs": [],
   "source": [
    "single_assortment = df.query('InvoiceNo in @singles_list')"
   ]
  },
  {
   "cell_type": "code",
   "execution_count": 135,
   "metadata": {},
   "outputs": [],
   "source": [
    "bundle_assortment = df.query('InvoiceNo in @bundles_list')"
   ]
  },
  {
   "cell_type": "code",
   "execution_count": 136,
   "metadata": {},
   "outputs": [
    {
     "data": {
      "text/html": [
       "<div>\n",
       "<style scoped>\n",
       "    .dataframe tbody tr th:only-of-type {\n",
       "        vertical-align: middle;\n",
       "    }\n",
       "\n",
       "    .dataframe tbody tr th {\n",
       "        vertical-align: top;\n",
       "    }\n",
       "\n",
       "    .dataframe thead th {\n",
       "        text-align: right;\n",
       "    }\n",
       "</style>\n",
       "<table border=\"1\" class=\"dataframe\">\n",
       "  <thead>\n",
       "    <tr style=\"text-align: right;\">\n",
       "      <th></th>\n",
       "      <th>InvoiceNo</th>\n",
       "      <th>StockCode</th>\n",
       "      <th>Description</th>\n",
       "      <th>Quantity</th>\n",
       "      <th>InvoiceDate</th>\n",
       "      <th>UnitPrice</th>\n",
       "      <th>CustomerID</th>\n",
       "      <th>date</th>\n",
       "      <th>Revenue</th>\n",
       "      <th>month</th>\n",
       "      <th>lemmatized</th>\n",
       "      <th>category</th>\n",
       "    </tr>\n",
       "  </thead>\n",
       "  <tbody>\n",
       "    <tr>\n",
       "      <td>0</td>\n",
       "      <td>536365</td>\n",
       "      <td>85123A</td>\n",
       "      <td>white hanging heart t-light holder</td>\n",
       "      <td>6</td>\n",
       "      <td>2018-11-29 08:26:00</td>\n",
       "      <td>2.55</td>\n",
       "      <td>17850</td>\n",
       "      <td>2018-11-29</td>\n",
       "      <td>15.30</td>\n",
       "      <td>11</td>\n",
       "      <td>[heart t-light holder]</td>\n",
       "      <td>holder</td>\n",
       "    </tr>\n",
       "    <tr>\n",
       "      <td>1</td>\n",
       "      <td>536365</td>\n",
       "      <td>71053</td>\n",
       "      <td>white metal lantern</td>\n",
       "      <td>6</td>\n",
       "      <td>2018-11-29 08:26:00</td>\n",
       "      <td>3.39</td>\n",
       "      <td>17850</td>\n",
       "      <td>2018-11-29</td>\n",
       "      <td>20.34</td>\n",
       "      <td>11</td>\n",
       "      <td>[white metal lantern]</td>\n",
       "      <td>lantern</td>\n",
       "    </tr>\n",
       "    <tr>\n",
       "      <td>2</td>\n",
       "      <td>536365</td>\n",
       "      <td>84406B</td>\n",
       "      <td>cream cupid hearts coat hanger</td>\n",
       "      <td>8</td>\n",
       "      <td>2018-11-29 08:26:00</td>\n",
       "      <td>2.75</td>\n",
       "      <td>17850</td>\n",
       "      <td>2018-11-29</td>\n",
       "      <td>22.00</td>\n",
       "      <td>11</td>\n",
       "      <td>[cream cupid hearts coat hanger]</td>\n",
       "      <td>hanger</td>\n",
       "    </tr>\n",
       "    <tr>\n",
       "      <td>3</td>\n",
       "      <td>536365</td>\n",
       "      <td>84029G</td>\n",
       "      <td>knitted union flag hot water bottle</td>\n",
       "      <td>6</td>\n",
       "      <td>2018-11-29 08:26:00</td>\n",
       "      <td>3.39</td>\n",
       "      <td>17850</td>\n",
       "      <td>2018-11-29</td>\n",
       "      <td>20.34</td>\n",
       "      <td>11</td>\n",
       "      <td>[union flag, hot water bottle]</td>\n",
       "      <td>bottle</td>\n",
       "    </tr>\n",
       "    <tr>\n",
       "      <td>4</td>\n",
       "      <td>536365</td>\n",
       "      <td>84029E</td>\n",
       "      <td>red woolly hottie white heart.</td>\n",
       "      <td>6</td>\n",
       "      <td>2018-11-29 08:26:00</td>\n",
       "      <td>3.39</td>\n",
       "      <td>17850</td>\n",
       "      <td>2018-11-29</td>\n",
       "      <td>20.34</td>\n",
       "      <td>11</td>\n",
       "      <td>[white heart]</td>\n",
       "      <td>other</td>\n",
       "    </tr>\n",
       "    <tr>\n",
       "      <td>...</td>\n",
       "      <td>...</td>\n",
       "      <td>...</td>\n",
       "      <td>...</td>\n",
       "      <td>...</td>\n",
       "      <td>...</td>\n",
       "      <td>...</td>\n",
       "      <td>...</td>\n",
       "      <td>...</td>\n",
       "      <td>...</td>\n",
       "      <td>...</td>\n",
       "      <td>...</td>\n",
       "      <td>...</td>\n",
       "    </tr>\n",
       "    <tr>\n",
       "      <td>534124</td>\n",
       "      <td>581587</td>\n",
       "      <td>22613</td>\n",
       "      <td>pack of 20 spaceboy napkins</td>\n",
       "      <td>12</td>\n",
       "      <td>2019-12-07 12:50:00</td>\n",
       "      <td>0.85</td>\n",
       "      <td>12680</td>\n",
       "      <td>2019-12-07</td>\n",
       "      <td>10.20</td>\n",
       "      <td>12</td>\n",
       "      <td>[spaceboy napkins]</td>\n",
       "      <td>napkins</td>\n",
       "    </tr>\n",
       "    <tr>\n",
       "      <td>534125</td>\n",
       "      <td>581587</td>\n",
       "      <td>22899</td>\n",
       "      <td>children's apron dolly girl</td>\n",
       "      <td>6</td>\n",
       "      <td>2019-12-07 12:50:00</td>\n",
       "      <td>2.10</td>\n",
       "      <td>12680</td>\n",
       "      <td>2019-12-07</td>\n",
       "      <td>12.60</td>\n",
       "      <td>12</td>\n",
       "      <td>[children 's apron]</td>\n",
       "      <td>children</td>\n",
       "    </tr>\n",
       "    <tr>\n",
       "      <td>534126</td>\n",
       "      <td>581587</td>\n",
       "      <td>23254</td>\n",
       "      <td>childrens cutlery dolly girl</td>\n",
       "      <td>4</td>\n",
       "      <td>2019-12-07 12:50:00</td>\n",
       "      <td>4.15</td>\n",
       "      <td>12680</td>\n",
       "      <td>2019-12-07</td>\n",
       "      <td>16.60</td>\n",
       "      <td>12</td>\n",
       "      <td>[childrens cutlery]</td>\n",
       "      <td>children</td>\n",
       "    </tr>\n",
       "    <tr>\n",
       "      <td>534127</td>\n",
       "      <td>581587</td>\n",
       "      <td>23255</td>\n",
       "      <td>childrens cutlery circus parade</td>\n",
       "      <td>4</td>\n",
       "      <td>2019-12-07 12:50:00</td>\n",
       "      <td>4.15</td>\n",
       "      <td>12680</td>\n",
       "      <td>2019-12-07</td>\n",
       "      <td>16.60</td>\n",
       "      <td>12</td>\n",
       "      <td>[childrens cutlery circus parade]</td>\n",
       "      <td>children</td>\n",
       "    </tr>\n",
       "    <tr>\n",
       "      <td>534128</td>\n",
       "      <td>581587</td>\n",
       "      <td>22138</td>\n",
       "      <td>baking set 9 piece retrospot</td>\n",
       "      <td>3</td>\n",
       "      <td>2019-12-07 12:50:00</td>\n",
       "      <td>4.95</td>\n",
       "      <td>12680</td>\n",
       "      <td>2019-12-07</td>\n",
       "      <td>14.85</td>\n",
       "      <td>12</td>\n",
       "      <td>[piece retrospot]</td>\n",
       "      <td>retrospot</td>\n",
       "    </tr>\n",
       "  </tbody>\n",
       "</table>\n",
       "<p>530366 rows × 12 columns</p>\n",
       "</div>"
      ],
      "text/plain": [
       "       InvoiceNo StockCode                          Description  Quantity  \\\n",
       "0         536365    85123A   white hanging heart t-light holder         6   \n",
       "1         536365     71053                  white metal lantern         6   \n",
       "2         536365    84406B       cream cupid hearts coat hanger         8   \n",
       "3         536365    84029G  knitted union flag hot water bottle         6   \n",
       "4         536365    84029E       red woolly hottie white heart.         6   \n",
       "...          ...       ...                                  ...       ...   \n",
       "534124    581587     22613          pack of 20 spaceboy napkins        12   \n",
       "534125    581587     22899         children's apron dolly girl          6   \n",
       "534126    581587     23254        childrens cutlery dolly girl          4   \n",
       "534127    581587     23255      childrens cutlery circus parade         4   \n",
       "534128    581587     22138        baking set 9 piece retrospot          3   \n",
       "\n",
       "               InvoiceDate  UnitPrice CustomerID        date  Revenue  month  \\\n",
       "0      2018-11-29 08:26:00       2.55      17850  2018-11-29    15.30     11   \n",
       "1      2018-11-29 08:26:00       3.39      17850  2018-11-29    20.34     11   \n",
       "2      2018-11-29 08:26:00       2.75      17850  2018-11-29    22.00     11   \n",
       "3      2018-11-29 08:26:00       3.39      17850  2018-11-29    20.34     11   \n",
       "4      2018-11-29 08:26:00       3.39      17850  2018-11-29    20.34     11   \n",
       "...                    ...        ...        ...         ...      ...    ...   \n",
       "534124 2019-12-07 12:50:00       0.85      12680  2019-12-07    10.20     12   \n",
       "534125 2019-12-07 12:50:00       2.10      12680  2019-12-07    12.60     12   \n",
       "534126 2019-12-07 12:50:00       4.15      12680  2019-12-07    16.60     12   \n",
       "534127 2019-12-07 12:50:00       4.15      12680  2019-12-07    16.60     12   \n",
       "534128 2019-12-07 12:50:00       4.95      12680  2019-12-07    14.85     12   \n",
       "\n",
       "                               lemmatized   category  \n",
       "0                  [heart t-light holder]     holder  \n",
       "1                   [white metal lantern]    lantern  \n",
       "2        [cream cupid hearts coat hanger]     hanger  \n",
       "3          [union flag, hot water bottle]     bottle  \n",
       "4                           [white heart]      other  \n",
       "...                                   ...        ...  \n",
       "534124                 [spaceboy napkins]    napkins  \n",
       "534125                [children 's apron]   children  \n",
       "534126                [childrens cutlery]   children  \n",
       "534127  [childrens cutlery circus parade]   children  \n",
       "534128                  [piece retrospot]  retrospot  \n",
       "\n",
       "[530366 rows x 12 columns]"
      ]
     },
     "execution_count": 136,
     "metadata": {},
     "output_type": "execute_result"
    }
   ],
   "source": [
    "bundle_assortment"
   ]
  },
  {
   "cell_type": "markdown",
   "metadata": {},
   "source": [
    "Great! Now we've got 2 separate tables. One has items that were bought separately and another one has items that were bought in bundles. Let's look which categories are more sold separately."
   ]
  },
  {
   "cell_type": "code",
   "execution_count": 137,
   "metadata": {},
   "outputs": [],
   "source": [
    "single_df = single_assortment.category.value_counts().reset_index().sort_values(by='index')"
   ]
  },
  {
   "cell_type": "code",
   "execution_count": 138,
   "metadata": {},
   "outputs": [],
   "source": [
    "bundle_df = bundle_assortment.category.value_counts().reset_index().sort_values(by='index')"
   ]
  },
  {
   "cell_type": "markdown",
   "metadata": {},
   "source": [
    "We can now see which categories were mostly sold as single."
   ]
  },
  {
   "cell_type": "code",
   "execution_count": 139,
   "metadata": {},
   "outputs": [
    {
     "data": {
      "text/html": [
       "<div>\n",
       "<style scoped>\n",
       "    .dataframe tbody tr th:only-of-type {\n",
       "        vertical-align: middle;\n",
       "    }\n",
       "\n",
       "    .dataframe tbody tr th {\n",
       "        vertical-align: top;\n",
       "    }\n",
       "\n",
       "    .dataframe thead th {\n",
       "        text-align: right;\n",
       "    }\n",
       "</style>\n",
       "<table border=\"1\" class=\"dataframe\">\n",
       "  <thead>\n",
       "    <tr style=\"text-align: right;\">\n",
       "      <th></th>\n",
       "      <th>index</th>\n",
       "      <th>category</th>\n",
       "    </tr>\n",
       "  </thead>\n",
       "  <tbody>\n",
       "    <tr>\n",
       "      <td>0</td>\n",
       "      <td>other</td>\n",
       "      <td>1895</td>\n",
       "    </tr>\n",
       "    <tr>\n",
       "      <td>1</td>\n",
       "      <td>bag</td>\n",
       "      <td>206</td>\n",
       "    </tr>\n",
       "    <tr>\n",
       "      <td>2</td>\n",
       "      <td>holder</td>\n",
       "      <td>188</td>\n",
       "    </tr>\n",
       "    <tr>\n",
       "      <td>4</td>\n",
       "      <td>glass</td>\n",
       "      <td>148</td>\n",
       "    </tr>\n",
       "    <tr>\n",
       "      <td>3</td>\n",
       "      <td>box</td>\n",
       "      <td>148</td>\n",
       "    </tr>\n",
       "    <tr>\n",
       "      <td>5</td>\n",
       "      <td>cake</td>\n",
       "      <td>142</td>\n",
       "    </tr>\n",
       "    <tr>\n",
       "      <td>6</td>\n",
       "      <td>retrospot</td>\n",
       "      <td>131</td>\n",
       "    </tr>\n",
       "    <tr>\n",
       "      <td>7</td>\n",
       "      <td>light</td>\n",
       "      <td>125</td>\n",
       "    </tr>\n",
       "    <tr>\n",
       "      <td>8</td>\n",
       "      <td>cakestand</td>\n",
       "      <td>88</td>\n",
       "    </tr>\n",
       "    <tr>\n",
       "      <td>9</td>\n",
       "      <td>christmas</td>\n",
       "      <td>82</td>\n",
       "    </tr>\n",
       "    <tr>\n",
       "      <td>10</td>\n",
       "      <td>clock</td>\n",
       "      <td>78</td>\n",
       "    </tr>\n",
       "    <tr>\n",
       "      <td>11</td>\n",
       "      <td>kit</td>\n",
       "      <td>76</td>\n",
       "    </tr>\n",
       "    <tr>\n",
       "      <td>12</td>\n",
       "      <td>door</td>\n",
       "      <td>70</td>\n",
       "    </tr>\n",
       "    <tr>\n",
       "      <td>13</td>\n",
       "      <td>frame</td>\n",
       "      <td>66</td>\n",
       "    </tr>\n",
       "    <tr>\n",
       "      <td>14</td>\n",
       "      <td>jam</td>\n",
       "      <td>64</td>\n",
       "    </tr>\n",
       "    <tr>\n",
       "      <td>15</td>\n",
       "      <td>regency</td>\n",
       "      <td>49</td>\n",
       "    </tr>\n",
       "    <tr>\n",
       "      <td>16</td>\n",
       "      <td>bottle</td>\n",
       "      <td>43</td>\n",
       "    </tr>\n",
       "    <tr>\n",
       "      <td>17</td>\n",
       "      <td>party</td>\n",
       "      <td>33</td>\n",
       "    </tr>\n",
       "    <tr>\n",
       "      <td>18</td>\n",
       "      <td>lantern</td>\n",
       "      <td>31</td>\n",
       "    </tr>\n",
       "    <tr>\n",
       "      <td>19</td>\n",
       "      <td>chalkboard</td>\n",
       "      <td>25</td>\n",
       "    </tr>\n",
       "    <tr>\n",
       "      <td>20</td>\n",
       "      <td>children</td>\n",
       "      <td>24</td>\n",
       "    </tr>\n",
       "    <tr>\n",
       "      <td>21</td>\n",
       "      <td>jumbo</td>\n",
       "      <td>15</td>\n",
       "    </tr>\n",
       "    <tr>\n",
       "      <td>22</td>\n",
       "      <td>knob</td>\n",
       "      <td>11</td>\n",
       "    </tr>\n",
       "    <tr>\n",
       "      <td>23</td>\n",
       "      <td>hanger</td>\n",
       "      <td>10</td>\n",
       "    </tr>\n",
       "    <tr>\n",
       "      <td>24</td>\n",
       "      <td>skull</td>\n",
       "      <td>10</td>\n",
       "    </tr>\n",
       "    <tr>\n",
       "      <td>25</td>\n",
       "      <td>ornament</td>\n",
       "      <td>3</td>\n",
       "    </tr>\n",
       "    <tr>\n",
       "      <td>26</td>\n",
       "      <td>napkins</td>\n",
       "      <td>2</td>\n",
       "    </tr>\n",
       "  </tbody>\n",
       "</table>\n",
       "</div>"
      ],
      "text/plain": [
       "         index  category\n",
       "0        other      1895\n",
       "1          bag       206\n",
       "2       holder       188\n",
       "4        glass       148\n",
       "3          box       148\n",
       "5         cake       142\n",
       "6    retrospot       131\n",
       "7        light       125\n",
       "8    cakestand        88\n",
       "9    christmas        82\n",
       "10       clock        78\n",
       "11         kit        76\n",
       "12        door        70\n",
       "13       frame        66\n",
       "14         jam        64\n",
       "15     regency        49\n",
       "16      bottle        43\n",
       "17       party        33\n",
       "18     lantern        31\n",
       "19  chalkboard        25\n",
       "20    children        24\n",
       "21       jumbo        15\n",
       "22        knob        11\n",
       "23      hanger        10\n",
       "24       skull        10\n",
       "25    ornament         3\n",
       "26     napkins         2"
      ]
     },
     "execution_count": 139,
     "metadata": {},
     "output_type": "execute_result"
    }
   ],
   "source": [
    "single_df.sort_values(by='category', ascending=False)"
   ]
  },
  {
   "cell_type": "code",
   "execution_count": 140,
   "metadata": {},
   "outputs": [
    {
     "data": {
      "image/png": "[encoded data removed]",
      "text/plain": [
       "<Figure size 1080x576 with 1 Axes>"
      ]
     },
     "metadata": {
      "needs_background": "light"
     },
     "output_type": "display_data"
    }
   ],
   "source": [
    "plt.figure(figsize=(15,8))\n",
    "ax = sns.barplot(x=\"index\", y=\"category\", data=single_df.query(\"index != 'other'\").sort_values(by='category', ascending=False))\n",
    "ax.set_xticklabels(ax.get_xticklabels(), rotation=75)\n",
    "ax.set(xlabel='Category', ylabel='Amount of items', title='Categories most sold as single')\n",
    "plt.show()"
   ]
  },
  {
   "cell_type": "markdown",
   "metadata": {},
   "source": [
    "We can see that such categories as:\n",
    "* Bag\n",
    "* Holder\n",
    "* Box\n",
    "* Glass\n",
    "* Cake\n",
    "* Light\n",
    "\n",
    "Had a **greater tendency to be sold as single** items.  \n",
    "\n",
    "Let's look at bundles"
   ]
  },
  {
   "cell_type": "code",
   "execution_count": 141,
   "metadata": {},
   "outputs": [
    {
     "data": {
      "text/html": [
       "<div>\n",
       "<style scoped>\n",
       "    .dataframe tbody tr th:only-of-type {\n",
       "        vertical-align: middle;\n",
       "    }\n",
       "\n",
       "    .dataframe tbody tr th {\n",
       "        vertical-align: top;\n",
       "    }\n",
       "\n",
       "    .dataframe thead th {\n",
       "        text-align: right;\n",
       "    }\n",
       "</style>\n",
       "<table border=\"1\" class=\"dataframe\">\n",
       "  <thead>\n",
       "    <tr style=\"text-align: right;\">\n",
       "      <th></th>\n",
       "      <th>index</th>\n",
       "      <th>category</th>\n",
       "    </tr>\n",
       "  </thead>\n",
       "  <tbody>\n",
       "    <tr>\n",
       "      <td>0</td>\n",
       "      <td>other</td>\n",
       "      <td>259736</td>\n",
       "    </tr>\n",
       "    <tr>\n",
       "      <td>1</td>\n",
       "      <td>bag</td>\n",
       "      <td>52220</td>\n",
       "    </tr>\n",
       "    <tr>\n",
       "      <td>2</td>\n",
       "      <td>box</td>\n",
       "      <td>24571</td>\n",
       "    </tr>\n",
       "    <tr>\n",
       "      <td>3</td>\n",
       "      <td>cake</td>\n",
       "      <td>22505</td>\n",
       "    </tr>\n",
       "    <tr>\n",
       "      <td>4</td>\n",
       "      <td>retrospot</td>\n",
       "      <td>22107</td>\n",
       "    </tr>\n",
       "    <tr>\n",
       "      <td>5</td>\n",
       "      <td>christmas</td>\n",
       "      <td>20598</td>\n",
       "    </tr>\n",
       "    <tr>\n",
       "      <td>6</td>\n",
       "      <td>holder</td>\n",
       "      <td>17342</td>\n",
       "    </tr>\n",
       "    <tr>\n",
       "      <td>7</td>\n",
       "      <td>door</td>\n",
       "      <td>13132</td>\n",
       "    </tr>\n",
       "    <tr>\n",
       "      <td>8</td>\n",
       "      <td>bottle</td>\n",
       "      <td>12071</td>\n",
       "    </tr>\n",
       "    <tr>\n",
       "      <td>9</td>\n",
       "      <td>light</td>\n",
       "      <td>8992</td>\n",
       "    </tr>\n",
       "    <tr>\n",
       "      <td>10</td>\n",
       "      <td>glass</td>\n",
       "      <td>8350</td>\n",
       "    </tr>\n",
       "    <tr>\n",
       "      <td>11</td>\n",
       "      <td>kit</td>\n",
       "      <td>8187</td>\n",
       "    </tr>\n",
       "    <tr>\n",
       "      <td>12</td>\n",
       "      <td>clock</td>\n",
       "      <td>7078</td>\n",
       "    </tr>\n",
       "    <tr>\n",
       "      <td>13</td>\n",
       "      <td>frame</td>\n",
       "      <td>6775</td>\n",
       "    </tr>\n",
       "    <tr>\n",
       "      <td>14</td>\n",
       "      <td>party</td>\n",
       "      <td>6203</td>\n",
       "    </tr>\n",
       "    <tr>\n",
       "      <td>15</td>\n",
       "      <td>regency</td>\n",
       "      <td>5693</td>\n",
       "    </tr>\n",
       "    <tr>\n",
       "      <td>16</td>\n",
       "      <td>children</td>\n",
       "      <td>5691</td>\n",
       "    </tr>\n",
       "    <tr>\n",
       "      <td>17</td>\n",
       "      <td>skull</td>\n",
       "      <td>5566</td>\n",
       "    </tr>\n",
       "    <tr>\n",
       "      <td>18</td>\n",
       "      <td>knob</td>\n",
       "      <td>4967</td>\n",
       "    </tr>\n",
       "    <tr>\n",
       "      <td>19</td>\n",
       "      <td>jam</td>\n",
       "      <td>4389</td>\n",
       "    </tr>\n",
       "    <tr>\n",
       "      <td>21</td>\n",
       "      <td>lantern</td>\n",
       "      <td>2506</td>\n",
       "    </tr>\n",
       "    <tr>\n",
       "      <td>20</td>\n",
       "      <td>cakestand</td>\n",
       "      <td>2506</td>\n",
       "    </tr>\n",
       "    <tr>\n",
       "      <td>22</td>\n",
       "      <td>chalkboard</td>\n",
       "      <td>2182</td>\n",
       "    </tr>\n",
       "    <tr>\n",
       "      <td>23</td>\n",
       "      <td>jumbo</td>\n",
       "      <td>2089</td>\n",
       "    </tr>\n",
       "    <tr>\n",
       "      <td>24</td>\n",
       "      <td>hanger</td>\n",
       "      <td>1751</td>\n",
       "    </tr>\n",
       "    <tr>\n",
       "      <td>25</td>\n",
       "      <td>napkins</td>\n",
       "      <td>1674</td>\n",
       "    </tr>\n",
       "    <tr>\n",
       "      <td>26</td>\n",
       "      <td>ornament</td>\n",
       "      <td>1485</td>\n",
       "    </tr>\n",
       "  </tbody>\n",
       "</table>\n",
       "</div>"
      ],
      "text/plain": [
       "         index  category\n",
       "0        other    259736\n",
       "1          bag     52220\n",
       "2          box     24571\n",
       "3         cake     22505\n",
       "4    retrospot     22107\n",
       "5    christmas     20598\n",
       "6       holder     17342\n",
       "7         door     13132\n",
       "8       bottle     12071\n",
       "9        light      8992\n",
       "10       glass      8350\n",
       "11         kit      8187\n",
       "12       clock      7078\n",
       "13       frame      6775\n",
       "14       party      6203\n",
       "15     regency      5693\n",
       "16    children      5691\n",
       "17       skull      5566\n",
       "18        knob      4967\n",
       "19         jam      4389\n",
       "21     lantern      2506\n",
       "20   cakestand      2506\n",
       "22  chalkboard      2182\n",
       "23       jumbo      2089\n",
       "24      hanger      1751\n",
       "25     napkins      1674\n",
       "26    ornament      1485"
      ]
     },
     "execution_count": 141,
     "metadata": {},
     "output_type": "execute_result"
    }
   ],
   "source": [
    "bundle_df.sort_values(by='category', ascending=False)"
   ]
  },
  {
   "cell_type": "code",
   "execution_count": 142,
   "metadata": {},
   "outputs": [
    {
     "data": {
      "image/png": "[encoded data removed]",
      "text/plain": [
       "<Figure size 1080x576 with 1 Axes>"
      ]
     },
     "metadata": {
      "needs_background": "light"
     },
     "output_type": "display_data"
    }
   ],
   "source": [
    "plt.figure(figsize=(15,8))\n",
    "ax = sns.barplot(x=\"index\", y=\"category\", data=bundle_df.query(\"index != 'other'\").sort_values(by='category', ascending=False))\n",
    "ax.set_xticklabels(ax.get_xticklabels(), rotation=75)\n",
    "ax.set(xlabel='Category', ylabel='Amount of items', title='Categories most sold in bundles')\n",
    "plt.show()"
   ]
  },
  {
   "cell_type": "markdown",
   "metadata": {},
   "source": [
    "We can see that such categories as:\n",
    "* Bag\n",
    "* Box\n",
    "* Cake\n",
    "* Christmas\n",
    "* Holder\n",
    "* Door\n",
    "* Bottle\n",
    "\n",
    "Had a **greater tendency to be sold in bundles**.\n"
   ]
  },
  {
   "cell_type": "markdown",
   "metadata": {},
   "source": [
    "### What product groups are more often included in the additional assortment?"
   ]
  },
  {
   "cell_type": "markdown",
   "metadata": {},
   "source": [
    "But it's quite diffcult to say which one is prevailing since they have different quantitiy.  \n",
    "But what if we calculate **the ratio** of how many items of one category were sold as single and bundle?  \n",
    "That could give us more precise answers good answers."
   ]
  },
  {
   "cell_type": "code",
   "execution_count": 143,
   "metadata": {},
   "outputs": [],
   "source": [
    "bundle_df.rename(columns={'index':'category_name','category':'bundle_amount'}, inplace=True)"
   ]
  },
  {
   "cell_type": "code",
   "execution_count": 144,
   "metadata": {},
   "outputs": [],
   "source": [
    "compare = pd.concat([single_df, bundle_df], axis=1)"
   ]
  },
  {
   "cell_type": "code",
   "execution_count": 145,
   "metadata": {},
   "outputs": [],
   "source": [
    "compare.drop('index', axis=1, inplace=True)"
   ]
  },
  {
   "cell_type": "code",
   "execution_count": 146,
   "metadata": {},
   "outputs": [],
   "source": [
    "compare['Share_of_items_bought_single'] = compare['category'] / compare['bundle_amount'] * 100"
   ]
  },
  {
   "cell_type": "code",
   "execution_count": 147,
   "metadata": {},
   "outputs": [
    {
     "data": {
      "text/html": [
       "<div>\n",
       "<style scoped>\n",
       "    .dataframe tbody tr th:only-of-type {\n",
       "        vertical-align: middle;\n",
       "    }\n",
       "\n",
       "    .dataframe tbody tr th {\n",
       "        vertical-align: top;\n",
       "    }\n",
       "\n",
       "    .dataframe thead th {\n",
       "        text-align: right;\n",
       "    }\n",
       "</style>\n",
       "<table border=\"1\" class=\"dataframe\">\n",
       "  <thead>\n",
       "    <tr style=\"text-align: right;\">\n",
       "      <th></th>\n",
       "      <th>category</th>\n",
       "      <th>category_name</th>\n",
       "      <th>bundle_amount</th>\n",
       "      <th>Share_of_items_bought_single</th>\n",
       "    </tr>\n",
       "  </thead>\n",
       "  <tbody>\n",
       "    <tr>\n",
       "      <td>14</td>\n",
       "      <td>64</td>\n",
       "      <td>party</td>\n",
       "      <td>6203</td>\n",
       "      <td>1.031759</td>\n",
       "    </tr>\n",
       "    <tr>\n",
       "      <td>12</td>\n",
       "      <td>70</td>\n",
       "      <td>clock</td>\n",
       "      <td>7078</td>\n",
       "      <td>0.988980</td>\n",
       "    </tr>\n",
       "    <tr>\n",
       "      <td>13</td>\n",
       "      <td>66</td>\n",
       "      <td>frame</td>\n",
       "      <td>6775</td>\n",
       "      <td>0.974170</td>\n",
       "    </tr>\n",
       "    <tr>\n",
       "      <td>20</td>\n",
       "      <td>24</td>\n",
       "      <td>cakestand</td>\n",
       "      <td>2506</td>\n",
       "      <td>0.957702</td>\n",
       "    </tr>\n",
       "    <tr>\n",
       "      <td>7</td>\n",
       "      <td>125</td>\n",
       "      <td>door</td>\n",
       "      <td>13132</td>\n",
       "      <td>0.951873</td>\n",
       "    </tr>\n",
       "    <tr>\n",
       "      <td>10</td>\n",
       "      <td>78</td>\n",
       "      <td>glass</td>\n",
       "      <td>8350</td>\n",
       "      <td>0.934132</td>\n",
       "    </tr>\n",
       "    <tr>\n",
       "      <td>11</td>\n",
       "      <td>76</td>\n",
       "      <td>kit</td>\n",
       "      <td>8187</td>\n",
       "      <td>0.928301</td>\n",
       "    </tr>\n",
       "    <tr>\n",
       "      <td>9</td>\n",
       "      <td>82</td>\n",
       "      <td>light</td>\n",
       "      <td>8992</td>\n",
       "      <td>0.911922</td>\n",
       "    </tr>\n",
       "    <tr>\n",
       "      <td>15</td>\n",
       "      <td>49</td>\n",
       "      <td>regency</td>\n",
       "      <td>5693</td>\n",
       "      <td>0.860706</td>\n",
       "    </tr>\n",
       "    <tr>\n",
       "      <td>2</td>\n",
       "      <td>188</td>\n",
       "      <td>box</td>\n",
       "      <td>24571</td>\n",
       "      <td>0.765130</td>\n",
       "    </tr>\n",
       "    <tr>\n",
       "      <td>16</td>\n",
       "      <td>43</td>\n",
       "      <td>children</td>\n",
       "      <td>5691</td>\n",
       "      <td>0.755579</td>\n",
       "    </tr>\n",
       "    <tr>\n",
       "      <td>6</td>\n",
       "      <td>131</td>\n",
       "      <td>holder</td>\n",
       "      <td>17342</td>\n",
       "      <td>0.755392</td>\n",
       "    </tr>\n",
       "    <tr>\n",
       "      <td>0</td>\n",
       "      <td>1895</td>\n",
       "      <td>other</td>\n",
       "      <td>259736</td>\n",
       "      <td>0.729587</td>\n",
       "    </tr>\n",
       "    <tr>\n",
       "      <td>8</td>\n",
       "      <td>88</td>\n",
       "      <td>bottle</td>\n",
       "      <td>12071</td>\n",
       "      <td>0.729020</td>\n",
       "    </tr>\n",
       "    <tr>\n",
       "      <td>5</td>\n",
       "      <td>142</td>\n",
       "      <td>christmas</td>\n",
       "      <td>20598</td>\n",
       "      <td>0.689387</td>\n",
       "    </tr>\n",
       "    <tr>\n",
       "      <td>4</td>\n",
       "      <td>148</td>\n",
       "      <td>retrospot</td>\n",
       "      <td>22107</td>\n",
       "      <td>0.669471</td>\n",
       "    </tr>\n",
       "    <tr>\n",
       "      <td>3</td>\n",
       "      <td>148</td>\n",
       "      <td>cake</td>\n",
       "      <td>22505</td>\n",
       "      <td>0.657632</td>\n",
       "    </tr>\n",
       "    <tr>\n",
       "      <td>18</td>\n",
       "      <td>31</td>\n",
       "      <td>knob</td>\n",
       "      <td>4967</td>\n",
       "      <td>0.624119</td>\n",
       "    </tr>\n",
       "    <tr>\n",
       "      <td>21</td>\n",
       "      <td>15</td>\n",
       "      <td>lantern</td>\n",
       "      <td>2506</td>\n",
       "      <td>0.598563</td>\n",
       "    </tr>\n",
       "    <tr>\n",
       "      <td>17</td>\n",
       "      <td>33</td>\n",
       "      <td>skull</td>\n",
       "      <td>5566</td>\n",
       "      <td>0.592885</td>\n",
       "    </tr>\n",
       "    <tr>\n",
       "      <td>24</td>\n",
       "      <td>10</td>\n",
       "      <td>hanger</td>\n",
       "      <td>1751</td>\n",
       "      <td>0.571102</td>\n",
       "    </tr>\n",
       "    <tr>\n",
       "      <td>19</td>\n",
       "      <td>25</td>\n",
       "      <td>jam</td>\n",
       "      <td>4389</td>\n",
       "      <td>0.569606</td>\n",
       "    </tr>\n",
       "    <tr>\n",
       "      <td>22</td>\n",
       "      <td>11</td>\n",
       "      <td>chalkboard</td>\n",
       "      <td>2182</td>\n",
       "      <td>0.504125</td>\n",
       "    </tr>\n",
       "    <tr>\n",
       "      <td>23</td>\n",
       "      <td>10</td>\n",
       "      <td>jumbo</td>\n",
       "      <td>2089</td>\n",
       "      <td>0.478698</td>\n",
       "    </tr>\n",
       "    <tr>\n",
       "      <td>1</td>\n",
       "      <td>206</td>\n",
       "      <td>bag</td>\n",
       "      <td>52220</td>\n",
       "      <td>0.394485</td>\n",
       "    </tr>\n",
       "    <tr>\n",
       "      <td>25</td>\n",
       "      <td>3</td>\n",
       "      <td>napkins</td>\n",
       "      <td>1674</td>\n",
       "      <td>0.179211</td>\n",
       "    </tr>\n",
       "    <tr>\n",
       "      <td>26</td>\n",
       "      <td>2</td>\n",
       "      <td>ornament</td>\n",
       "      <td>1485</td>\n",
       "      <td>0.134680</td>\n",
       "    </tr>\n",
       "  </tbody>\n",
       "</table>\n",
       "</div>"
      ],
      "text/plain": [
       "    category category_name  bundle_amount  Share_of_items_bought_single\n",
       "14        64         party           6203                      1.031759\n",
       "12        70         clock           7078                      0.988980\n",
       "13        66         frame           6775                      0.974170\n",
       "20        24     cakestand           2506                      0.957702\n",
       "7        125          door          13132                      0.951873\n",
       "10        78         glass           8350                      0.934132\n",
       "11        76           kit           8187                      0.928301\n",
       "9         82         light           8992                      0.911922\n",
       "15        49       regency           5693                      0.860706\n",
       "2        188           box          24571                      0.765130\n",
       "16        43      children           5691                      0.755579\n",
       "6        131        holder          17342                      0.755392\n",
       "0       1895         other         259736                      0.729587\n",
       "8         88        bottle          12071                      0.729020\n",
       "5        142     christmas          20598                      0.689387\n",
       "4        148     retrospot          22107                      0.669471\n",
       "3        148          cake          22505                      0.657632\n",
       "18        31          knob           4967                      0.624119\n",
       "21        15       lantern           2506                      0.598563\n",
       "17        33         skull           5566                      0.592885\n",
       "24        10        hanger           1751                      0.571102\n",
       "19        25           jam           4389                      0.569606\n",
       "22        11    chalkboard           2182                      0.504125\n",
       "23        10         jumbo           2089                      0.478698\n",
       "1        206           bag          52220                      0.394485\n",
       "25         3       napkins           1674                      0.179211\n",
       "26         2      ornament           1485                      0.134680"
      ]
     },
     "execution_count": 147,
     "metadata": {},
     "output_type": "execute_result"
    }
   ],
   "source": [
    "compare.sort_values('Share_of_items_bought_single', ascending=False)"
   ]
  },
  {
   "cell_type": "code",
   "execution_count": 148,
   "metadata": {},
   "outputs": [
    {
     "data": {
      "image/png": "[encoded data removed]",
      "text/plain": [
       "<Figure size 1080x576 with 1 Axes>"
      ]
     },
     "metadata": {
      "needs_background": "light"
     },
     "output_type": "display_data"
    }
   ],
   "source": [
    "plt.figure(figsize=(15,8))\n",
    "ax = sns.barplot(x=\"category_name\", y=\"Share_of_items_bought_single\", data=compare.sort_values('Share_of_items_bought_single', ascending=False))\n",
    "ax.set_xticklabels(ax.get_xticklabels(), rotation=75)\n",
    "ax.set(xlabel='Category', ylabel='Percentage %', title='Relative Ratio of Categories ')\n",
    "plt.show()"
   ]
  },
  {
   "cell_type": "markdown",
   "metadata": {},
   "source": [
    "Now we can see that the categories that were mostly bought as single items **(main assortment)** are:\n",
    "* Party accessories\n",
    "* Clocks\n",
    "* Frames\n",
    "* Lanterns"
   ]
  },
  {
   "cell_type": "markdown",
   "metadata": {},
   "source": [
    "If we look at the bottom of the list we can say which items were mostly sold as **additional assortment**:\n",
    "* Ornament\n",
    "* Napkins\n",
    "* Bags\n",
    "* Jumbo stuff\n",
    "* Chalkboards\n",
    "* Jam\n",
    "* Hangers"
   ]
  },
  {
   "cell_type": "code",
   "execution_count": 149,
   "metadata": {},
   "outputs": [
    {
     "data": {
      "text/html": [
       "<div>\n",
       "<style scoped>\n",
       "    .dataframe tbody tr th:only-of-type {\n",
       "        vertical-align: middle;\n",
       "    }\n",
       "\n",
       "    .dataframe tbody tr th {\n",
       "        vertical-align: top;\n",
       "    }\n",
       "\n",
       "    .dataframe thead th {\n",
       "        text-align: right;\n",
       "    }\n",
       "</style>\n",
       "<table border=\"1\" class=\"dataframe\">\n",
       "  <thead>\n",
       "    <tr style=\"text-align: right;\">\n",
       "      <th></th>\n",
       "      <th>InvoiceNo</th>\n",
       "      <th>StockCode</th>\n",
       "      <th>Description</th>\n",
       "      <th>Quantity</th>\n",
       "      <th>InvoiceDate</th>\n",
       "      <th>UnitPrice</th>\n",
       "      <th>CustomerID</th>\n",
       "      <th>date</th>\n",
       "      <th>Revenue</th>\n",
       "      <th>month</th>\n",
       "      <th>lemmatized</th>\n",
       "      <th>category</th>\n",
       "    </tr>\n",
       "  </thead>\n",
       "  <tbody>\n",
       "    <tr>\n",
       "      <td>247</td>\n",
       "      <td>536392</td>\n",
       "      <td>22127</td>\n",
       "      <td>party cones carnival assorted</td>\n",
       "      <td>12</td>\n",
       "      <td>2018-11-29 10:29:00</td>\n",
       "      <td>1.25</td>\n",
       "      <td>13705</td>\n",
       "      <td>2018-11-29</td>\n",
       "      <td>15.00</td>\n",
       "      <td>11</td>\n",
       "      <td>[party cones carnival]</td>\n",
       "      <td>party</td>\n",
       "    </tr>\n",
       "    <tr>\n",
       "      <td>248</td>\n",
       "      <td>536392</td>\n",
       "      <td>22128</td>\n",
       "      <td>party cones candy assorted</td>\n",
       "      <td>12</td>\n",
       "      <td>2018-11-29 10:29:00</td>\n",
       "      <td>1.25</td>\n",
       "      <td>13705</td>\n",
       "      <td>2018-11-29</td>\n",
       "      <td>15.00</td>\n",
       "      <td>11</td>\n",
       "      <td>[party cones candy]</td>\n",
       "      <td>party</td>\n",
       "    </tr>\n",
       "    <tr>\n",
       "      <td>347</td>\n",
       "      <td>536401</td>\n",
       "      <td>21122</td>\n",
       "      <td>set/10 pink polkadot party candles</td>\n",
       "      <td>1</td>\n",
       "      <td>2018-11-29 11:21:00</td>\n",
       "      <td>1.25</td>\n",
       "      <td>15862</td>\n",
       "      <td>2018-11-29</td>\n",
       "      <td>1.25</td>\n",
       "      <td>11</td>\n",
       "      <td>[pink polkadot party candles]</td>\n",
       "      <td>party</td>\n",
       "    </tr>\n",
       "    <tr>\n",
       "      <td>400</td>\n",
       "      <td>536404</td>\n",
       "      <td>21061</td>\n",
       "      <td>party invites football</td>\n",
       "      <td>12</td>\n",
       "      <td>2018-11-29 11:29:00</td>\n",
       "      <td>0.85</td>\n",
       "      <td>16218</td>\n",
       "      <td>2018-11-29</td>\n",
       "      <td>10.20</td>\n",
       "      <td>11</td>\n",
       "      <td>[]</td>\n",
       "      <td>party</td>\n",
       "    </tr>\n",
       "    <tr>\n",
       "      <td>401</td>\n",
       "      <td>536404</td>\n",
       "      <td>21063</td>\n",
       "      <td>party invites jazz hearts</td>\n",
       "      <td>12</td>\n",
       "      <td>2018-11-29 11:29:00</td>\n",
       "      <td>0.85</td>\n",
       "      <td>16218</td>\n",
       "      <td>2018-11-29</td>\n",
       "      <td>10.20</td>\n",
       "      <td>11</td>\n",
       "      <td>[jazz hearts]</td>\n",
       "      <td>party</td>\n",
       "    </tr>\n",
       "    <tr>\n",
       "      <td>402</td>\n",
       "      <td>536404</td>\n",
       "      <td>21062</td>\n",
       "      <td>party invites spaceman</td>\n",
       "      <td>12</td>\n",
       "      <td>2018-11-29 11:29:00</td>\n",
       "      <td>0.85</td>\n",
       "      <td>16218</td>\n",
       "      <td>2018-11-29</td>\n",
       "      <td>10.20</td>\n",
       "      <td>11</td>\n",
       "      <td>[]</td>\n",
       "      <td>party</td>\n",
       "    </tr>\n",
       "  </tbody>\n",
       "</table>\n",
       "</div>"
      ],
      "text/plain": [
       "    InvoiceNo StockCode                         Description  Quantity  \\\n",
       "247    536392     22127       party cones carnival assorted        12   \n",
       "248    536392     22128          party cones candy assorted        12   \n",
       "347    536401     21122  set/10 pink polkadot party candles         1   \n",
       "400    536404     21061              party invites football        12   \n",
       "401    536404     21063           party invites jazz hearts        12   \n",
       "402    536404     21062              party invites spaceman        12   \n",
       "\n",
       "            InvoiceDate  UnitPrice CustomerID        date  Revenue  month  \\\n",
       "247 2018-11-29 10:29:00       1.25      13705  2018-11-29    15.00     11   \n",
       "248 2018-11-29 10:29:00       1.25      13705  2018-11-29    15.00     11   \n",
       "347 2018-11-29 11:21:00       1.25      15862  2018-11-29     1.25     11   \n",
       "400 2018-11-29 11:29:00       0.85      16218  2018-11-29    10.20     11   \n",
       "401 2018-11-29 11:29:00       0.85      16218  2018-11-29    10.20     11   \n",
       "402 2018-11-29 11:29:00       0.85      16218  2018-11-29    10.20     11   \n",
       "\n",
       "                        lemmatized category  \n",
       "247         [party cones carnival]    party  \n",
       "248            [party cones candy]    party  \n",
       "347  [pink polkadot party candles]    party  \n",
       "400                             []    party  \n",
       "401                  [jazz hearts]    party  \n",
       "402                             []    party  "
      ]
     },
     "execution_count": 149,
     "metadata": {},
     "output_type": "execute_result"
    }
   ],
   "source": [
    "df[df.category=='party'].head(6)"
   ]
  },
  {
   "cell_type": "markdown",
   "metadata": {},
   "source": [
    "### What bundles of product groups are often present in shopping carts? "
   ]
  },
  {
   "cell_type": "markdown",
   "metadata": {},
   "source": [
    "Since we don't have a timestamp on each of the things in a cart we cannot really say which item was main in a bundle and which one was additional.  \n",
    "However, we can look at what items in bundles were ordered as singularily with a multitude of items from different categories. This may help us better understand the combinations."
   ]
  },
  {
   "cell_type": "code",
   "execution_count": 150,
   "metadata": {},
   "outputs": [
    {
     "data": {
      "text/html": [
       "<div>\n",
       "<style scoped>\n",
       "    .dataframe tbody tr th:only-of-type {\n",
       "        vertical-align: middle;\n",
       "    }\n",
       "\n",
       "    .dataframe tbody tr th {\n",
       "        vertical-align: top;\n",
       "    }\n",
       "\n",
       "    .dataframe thead th {\n",
       "        text-align: right;\n",
       "    }\n",
       "</style>\n",
       "<table border=\"1\" class=\"dataframe\">\n",
       "  <thead>\n",
       "    <tr style=\"text-align: right;\">\n",
       "      <th></th>\n",
       "      <th>InvoiceNo</th>\n",
       "      <th>category</th>\n",
       "      <th>UnitPrice</th>\n",
       "    </tr>\n",
       "  </thead>\n",
       "  <tbody>\n",
       "    <tr>\n",
       "      <td>0</td>\n",
       "      <td>536365</td>\n",
       "      <td>bottle</td>\n",
       "      <td>1</td>\n",
       "    </tr>\n",
       "    <tr>\n",
       "      <td>1</td>\n",
       "      <td>536365</td>\n",
       "      <td>box</td>\n",
       "      <td>1</td>\n",
       "    </tr>\n",
       "    <tr>\n",
       "      <td>2</td>\n",
       "      <td>536365</td>\n",
       "      <td>hanger</td>\n",
       "      <td>1</td>\n",
       "    </tr>\n",
       "    <tr>\n",
       "      <td>3</td>\n",
       "      <td>536365</td>\n",
       "      <td>holder</td>\n",
       "      <td>2</td>\n",
       "    </tr>\n",
       "    <tr>\n",
       "      <td>4</td>\n",
       "      <td>536365</td>\n",
       "      <td>lantern</td>\n",
       "      <td>1</td>\n",
       "    </tr>\n",
       "    <tr>\n",
       "      <td>...</td>\n",
       "      <td>...</td>\n",
       "      <td>...</td>\n",
       "      <td>...</td>\n",
       "    </tr>\n",
       "    <tr>\n",
       "      <td>124679</td>\n",
       "      <td>C581490</td>\n",
       "      <td>holder</td>\n",
       "      <td>1</td>\n",
       "    </tr>\n",
       "    <tr>\n",
       "      <td>124680</td>\n",
       "      <td>C581499</td>\n",
       "      <td>other</td>\n",
       "      <td>1</td>\n",
       "    </tr>\n",
       "    <tr>\n",
       "      <td>124681</td>\n",
       "      <td>C581568</td>\n",
       "      <td>box</td>\n",
       "      <td>1</td>\n",
       "    </tr>\n",
       "    <tr>\n",
       "      <td>124682</td>\n",
       "      <td>C581569</td>\n",
       "      <td>holder</td>\n",
       "      <td>1</td>\n",
       "    </tr>\n",
       "    <tr>\n",
       "      <td>124683</td>\n",
       "      <td>C581569</td>\n",
       "      <td>retrospot</td>\n",
       "      <td>1</td>\n",
       "    </tr>\n",
       "  </tbody>\n",
       "</table>\n",
       "<p>124684 rows × 3 columns</p>\n",
       "</div>"
      ],
      "text/plain": [
       "       InvoiceNo   category  UnitPrice\n",
       "0         536365     bottle          1\n",
       "1         536365        box          1\n",
       "2         536365     hanger          1\n",
       "3         536365     holder          2\n",
       "4         536365    lantern          1\n",
       "...          ...        ...        ...\n",
       "124679   C581490     holder          1\n",
       "124680   C581499      other          1\n",
       "124681   C581568        box          1\n",
       "124682   C581569     holder          1\n",
       "124683   C581569  retrospot          1\n",
       "\n",
       "[124684 rows x 3 columns]"
      ]
     },
     "execution_count": 150,
     "metadata": {},
     "output_type": "execute_result"
    }
   ],
   "source": [
    "present_groups = df.groupby(['InvoiceNo', 'category'])['UnitPrice'].count().reset_index()  #.sort_values('UnitPrice', ascending=False).head(50) #['InvoiceNo'].to_list()\n",
    "present_groups"
   ]
  },
  {
   "cell_type": "code",
   "execution_count": 151,
   "metadata": {},
   "outputs": [],
   "source": [
    "present_groups = present_groups.query(\"category != 'other'\")"
   ]
  },
  {
   "cell_type": "markdown",
   "metadata": {},
   "source": [
    "First let's find the **most repetitive** categories in the invoices"
   ]
  },
  {
   "cell_type": "code",
   "execution_count": 152,
   "metadata": {},
   "outputs": [
    {
     "data": {
      "text/html": [
       "<div>\n",
       "<style scoped>\n",
       "    .dataframe tbody tr th:only-of-type {\n",
       "        vertical-align: middle;\n",
       "    }\n",
       "\n",
       "    .dataframe tbody tr th {\n",
       "        vertical-align: top;\n",
       "    }\n",
       "\n",
       "    .dataframe thead th {\n",
       "        text-align: right;\n",
       "    }\n",
       "</style>\n",
       "<table border=\"1\" class=\"dataframe\">\n",
       "  <thead>\n",
       "    <tr style=\"text-align: right;\">\n",
       "      <th></th>\n",
       "      <th>InvoiceNo</th>\n",
       "      <th>category</th>\n",
       "      <th>UnitPrice</th>\n",
       "    </tr>\n",
       "  </thead>\n",
       "  <tbody>\n",
       "    <tr>\n",
       "      <td>0</td>\n",
       "      <td>536365</td>\n",
       "      <td>lantern</td>\n",
       "      <td>2</td>\n",
       "    </tr>\n",
       "    <tr>\n",
       "      <td>1</td>\n",
       "      <td>536367</td>\n",
       "      <td>ornament</td>\n",
       "      <td>4</td>\n",
       "    </tr>\n",
       "    <tr>\n",
       "      <td>2</td>\n",
       "      <td>536368</td>\n",
       "      <td>jam</td>\n",
       "      <td>1</td>\n",
       "    </tr>\n",
       "    <tr>\n",
       "      <td>3</td>\n",
       "      <td>536370</td>\n",
       "      <td>retrospot</td>\n",
       "      <td>4</td>\n",
       "    </tr>\n",
       "    <tr>\n",
       "      <td>4</td>\n",
       "      <td>536371</td>\n",
       "      <td>christmas</td>\n",
       "      <td>1</td>\n",
       "    </tr>\n",
       "    <tr>\n",
       "      <td>...</td>\n",
       "      <td>...</td>\n",
       "      <td>...</td>\n",
       "      <td>...</td>\n",
       "    </tr>\n",
       "    <tr>\n",
       "      <td>20996</td>\n",
       "      <td>C581468</td>\n",
       "      <td>glass</td>\n",
       "      <td>1</td>\n",
       "    </tr>\n",
       "    <tr>\n",
       "      <td>20997</td>\n",
       "      <td>C581470</td>\n",
       "      <td>light</td>\n",
       "      <td>1</td>\n",
       "    </tr>\n",
       "    <tr>\n",
       "      <td>20998</td>\n",
       "      <td>C581490</td>\n",
       "      <td>holder</td>\n",
       "      <td>1</td>\n",
       "    </tr>\n",
       "    <tr>\n",
       "      <td>20999</td>\n",
       "      <td>C581568</td>\n",
       "      <td>box</td>\n",
       "      <td>1</td>\n",
       "    </tr>\n",
       "    <tr>\n",
       "      <td>21000</td>\n",
       "      <td>C581569</td>\n",
       "      <td>retrospot</td>\n",
       "      <td>1</td>\n",
       "    </tr>\n",
       "  </tbody>\n",
       "</table>\n",
       "<p>21001 rows × 3 columns</p>\n",
       "</div>"
      ],
      "text/plain": [
       "      InvoiceNo   category  UnitPrice\n",
       "0        536365    lantern          2\n",
       "1        536367   ornament          4\n",
       "2        536368        jam          1\n",
       "3        536370  retrospot          4\n",
       "4        536371  christmas          1\n",
       "...         ...        ...        ...\n",
       "20996   C581468      glass          1\n",
       "20997   C581470      light          1\n",
       "20998   C581490     holder          1\n",
       "20999   C581568        box          1\n",
       "21000   C581569  retrospot          1\n",
       "\n",
       "[21001 rows x 3 columns]"
      ]
     },
     "execution_count": 152,
     "metadata": {},
     "output_type": "execute_result"
    }
   ],
   "source": [
    "table_max = present_groups.groupby('InvoiceNo')[['category','UnitPrice']].max().reset_index()\n",
    "table_max"
   ]
  },
  {
   "cell_type": "markdown",
   "metadata": {},
   "source": [
    "Now let's find the **least repetitive** categories in the invoices. These may be considered main items."
   ]
  },
  {
   "cell_type": "code",
   "execution_count": 153,
   "metadata": {},
   "outputs": [],
   "source": [
    "table_min = present_groups.groupby('InvoiceNo')[['category','UnitPrice']].min().reset_index()\n"
   ]
  },
  {
   "cell_type": "markdown",
   "metadata": {},
   "source": [
    "Now let's combine this tables by InvoiceNo and check which categories were going with which."
   ]
  },
  {
   "cell_type": "code",
   "execution_count": 154,
   "metadata": {},
   "outputs": [],
   "source": [
    "table_min.rename(columns={'category':'category_min','UnitPrice':'UnitPrice_min'}, inplace=True)"
   ]
  },
  {
   "cell_type": "code",
   "execution_count": 155,
   "metadata": {},
   "outputs": [],
   "source": [
    "compare_bundle = pd.concat([table_max, table_min], axis=1)"
   ]
  },
  {
   "cell_type": "code",
   "execution_count": 156,
   "metadata": {},
   "outputs": [],
   "source": [
    "compare_bundle['common_categories'] = compare_bundle['category'] + ' + ' + compare_bundle['category_min']"
   ]
  },
  {
   "cell_type": "code",
   "execution_count": 157,
   "metadata": {},
   "outputs": [
    {
     "data": {
      "text/plain": [
       "retrospot + bag          3510\n",
       "skull + bag              2148\n",
       "retrospot + box           891\n",
       "bag + bag                 640\n",
       "retrospot + bottle        532\n",
       "light + bag               470\n",
       "party + bag               435\n",
       "retrospot + cake          427\n",
       "holder + holder           408\n",
       "cake + cake               359\n",
       "box + box                 350\n",
       "retrospot + retrospot     306\n",
       "holder + bag              292\n",
       "glass + glass             280\n",
       "kit + bag                 263\n",
       "skull + box               237\n",
       "regency + bag             228\n",
       "light + light             207\n",
       "christmas + christmas     201\n",
       "door + door               196\n",
       "light + box               193\n",
       "jumbo + bag               191\n",
       "kit + kit                 177\n",
       "clock + clock             159\n",
       "frame + frame             157\n",
       "ornament + bag            155\n",
       "holder + box              154\n",
       "party + box               148\n",
       "light + bottle            144\n",
       "skull + bottle            142\n",
       "bottle + bottle           142\n",
       "cakestand + cakestand     131\n",
       "holder + bottle           129\n",
       "christmas + bag           127\n",
       "box + bag                 116\n",
       "kit + box                 115\n",
       "regency + box             114\n",
       "regency + regency         113\n",
       "retrospot + christmas     112\n",
       "holder + glass            109\n",
       "Name: common_categories, dtype: int64"
      ]
     },
     "execution_count": 157,
     "metadata": {},
     "output_type": "execute_result"
    }
   ],
   "source": [
    "compare_bundle.common_categories.value_counts().head(40)"
   ]
  },
  {
   "cell_type": "code",
   "execution_count": 158,
   "metadata": {},
   "outputs": [
    {
     "data": {
      "image/png": "[encoded data removed]",
      "text/plain": [
       "<Figure size 1080x576 with 1 Axes>"
      ]
     },
     "metadata": {
      "needs_background": "light"
     },
     "output_type": "display_data"
    }
   ],
   "source": [
    "plt.figure(figsize=(15,8))\n",
    "ax = sns.barplot(x=\"index\", y=\"common_categories\", data=compare_bundle.common_categories.value_counts().reset_index().head(40))\n",
    "ax.set_xticklabels(ax.get_xticklabels(), rotation=75)\n",
    "ax.set(xlabel='Categories Pairs', ylabel='Amount', title='Common categories')\n",
    "plt.show()"
   ]
  },
  {
   "cell_type": "markdown",
   "metadata": {},
   "source": [
    "Okay, so we got a table of pairs.\n",
    "First ones:\n",
    "* retrospot + bag          3510\n",
    "* skull + bag              2148\n",
    "* retrospot + box           891\n",
    "* bag + bag                 640\n",
    "* retrospot + bottle    \n",
    "Doesnt look like much help since retrospot and skull seem to be the **adjectives**."
   ]
  },
  {
   "cell_type": "markdown",
   "metadata": {},
   "source": [
    "But these ones seem to be useful:\n",
    "* light + bag               470\n",
    "* party + bag               435\n",
    "* holder + bag              292\n",
    "* kit + bag                 263\n",
    "\n",
    "It seems the the main item in category **bag** is often accompanied by such categories as **light** and **party**, holder, glass and kit.  \n",
    "Further down in the list we can also see:\n",
    "* bottle + light\n",
    "* box + kit\n",
    "* bag + christmas\n"
   ]
  },
  {
   "cell_type": "markdown",
   "metadata": {},
   "source": [
    "## Conclusion.\n",
    "We can see that such categories as:\n",
    "* Bag\n",
    "* Holder\n",
    "* Box\n",
    "* Glass\n",
    "* Cake\n",
    "* Light\n",
    "\n",
    "Had a **greater tendency to be sold as single** items in absolute values.    \n",
    "  \n",
    "  We can see that such categories as:\n",
    "* Bag\n",
    "* Box\n",
    "* Cake\n",
    "* Christmas\n",
    "* Holder\n",
    "* Door\n",
    "* Bottle\n",
    "\n",
    "Had a **greater tendency to be sold in bundles** in abosulet values.\n",
    "\n",
    "### However if we take in the account the quantity of the items, we will have slightly different results:\n",
    "Now we can see that the categories that were mostly bought as single items **(main assortment)** are:\n",
    "* Party accessories\n",
    "* Clocks\n",
    "* Frames\n",
    "* Lanterns\n",
    "\n",
    "If we look at the bottom of the list we can say which items were mostly sold as **additional assortment**:\n",
    "* Ornament\n",
    "* Napkins\n",
    "* Bags\n",
    "* Jumbo stuff\n",
    "* Chalkboards\n",
    "* Jam\n",
    "* Hangers\n",
    "\n",
    "### Now let's see what bundles of product groups are often present in shopping carts\n",
    "\n",
    "Here's the most selling pairs\n",
    "* light + bag               470\n",
    "* party + bag               435\n",
    "* holder + bag              292\n",
    "* kit + bag                 263\n",
    "\n",
    "It seems the the main item in category **bag** is often accompanied by such categories as **light** and **party**, holder, glass and kit.  \n",
    "Further down in the list we can also see:\n",
    "* bottle + light\n",
    "* box + kit\n",
    "* bag + christmas"
   ]
  },
  {
   "cell_type": "markdown",
   "metadata": {},
   "source": [
    "# Step 5. Hypothesis testing."
   ]
  },
  {
   "cell_type": "markdown",
   "metadata": {},
   "source": [
    "μ1 = μ2  \n",
    "We calculate t-test for the means of two **independent** samples of populations.  \n",
    "We will use the golden standard of 5% as an alpha.<br/><br/><br/>\n",
    "\n",
    "Our **null hypothesis** is that **the average check for a single bought items is the same as average check for items bought in bundles**.  μ1 = μ2  \n",
    "Alternative hypothesis would be that the average differs."
   ]
  },
  {
   "cell_type": "markdown",
   "metadata": {},
   "source": [
    "Before actual testing let's get rid of the rows with negative quantity."
   ]
  },
  {
   "cell_type": "code",
   "execution_count": 159,
   "metadata": {},
   "outputs": [],
   "source": [
    "single_assortment = single_assortment.query('Quantity > 0')"
   ]
  },
  {
   "cell_type": "code",
   "execution_count": 160,
   "metadata": {},
   "outputs": [],
   "source": [
    "bundle_assortment = bundle_assortment.query('Quantity > 0')"
   ]
  },
  {
   "cell_type": "code",
   "execution_count": 161,
   "metadata": {},
   "outputs": [
    {
     "data": {
      "text/html": [
       "<div>\n",
       "<style scoped>\n",
       "    .dataframe tbody tr th:only-of-type {\n",
       "        vertical-align: middle;\n",
       "    }\n",
       "\n",
       "    .dataframe tbody tr th {\n",
       "        vertical-align: top;\n",
       "    }\n",
       "\n",
       "    .dataframe thead th {\n",
       "        text-align: right;\n",
       "    }\n",
       "</style>\n",
       "<table border=\"1\" class=\"dataframe\">\n",
       "  <thead>\n",
       "    <tr style=\"text-align: right;\">\n",
       "      <th></th>\n",
       "      <th>InvoiceNo</th>\n",
       "      <th>StockCode</th>\n",
       "      <th>Description</th>\n",
       "      <th>Quantity</th>\n",
       "      <th>InvoiceDate</th>\n",
       "      <th>UnitPrice</th>\n",
       "      <th>CustomerID</th>\n",
       "      <th>date</th>\n",
       "      <th>Revenue</th>\n",
       "      <th>month</th>\n",
       "      <th>lemmatized</th>\n",
       "      <th>category</th>\n",
       "    </tr>\n",
       "  </thead>\n",
       "  <tbody>\n",
       "    <tr>\n",
       "      <td>25</td>\n",
       "      <td>536369</td>\n",
       "      <td>21756</td>\n",
       "      <td>bath building block word</td>\n",
       "      <td>3</td>\n",
       "      <td>2018-11-29 08:35:00</td>\n",
       "      <td>5.95</td>\n",
       "      <td>13047</td>\n",
       "      <td>2018-11-29</td>\n",
       "      <td>17.85</td>\n",
       "      <td>11</td>\n",
       "      <td>[bath building block word]</td>\n",
       "      <td>other</td>\n",
       "    </tr>\n",
       "    <tr>\n",
       "      <td>46</td>\n",
       "      <td>536371</td>\n",
       "      <td>22086</td>\n",
       "      <td>paper chain kit 50's christmas</td>\n",
       "      <td>80</td>\n",
       "      <td>2018-11-29 09:00:00</td>\n",
       "      <td>2.55</td>\n",
       "      <td>13748</td>\n",
       "      <td>2018-11-29</td>\n",
       "      <td>204.00</td>\n",
       "      <td>11</td>\n",
       "      <td>[paper chain kit, 's christmas]</td>\n",
       "      <td>christmas</td>\n",
       "    </tr>\n",
       "    <tr>\n",
       "      <td>65</td>\n",
       "      <td>536374</td>\n",
       "      <td>21258</td>\n",
       "      <td>victorian sewing box large</td>\n",
       "      <td>32</td>\n",
       "      <td>2018-11-29 09:09:00</td>\n",
       "      <td>10.95</td>\n",
       "      <td>15100</td>\n",
       "      <td>2018-11-29</td>\n",
       "      <td>350.40</td>\n",
       "      <td>11</td>\n",
       "      <td>[]</td>\n",
       "      <td>box</td>\n",
       "    </tr>\n",
       "    <tr>\n",
       "      <td>105</td>\n",
       "      <td>536380</td>\n",
       "      <td>22961</td>\n",
       "      <td>jam making set printed</td>\n",
       "      <td>24</td>\n",
       "      <td>2018-11-29 09:41:00</td>\n",
       "      <td>1.45</td>\n",
       "      <td>17809</td>\n",
       "      <td>2018-11-29</td>\n",
       "      <td>34.80</td>\n",
       "      <td>11</td>\n",
       "      <td>[jam making]</td>\n",
       "      <td>jam</td>\n",
       "    </tr>\n",
       "    <tr>\n",
       "      <td>252</td>\n",
       "      <td>536393</td>\n",
       "      <td>22180</td>\n",
       "      <td>retrospot lamp</td>\n",
       "      <td>8</td>\n",
       "      <td>2018-11-29 10:37:00</td>\n",
       "      <td>9.95</td>\n",
       "      <td>13747</td>\n",
       "      <td>2018-11-29</td>\n",
       "      <td>79.60</td>\n",
       "      <td>11</td>\n",
       "      <td>[retrospot lamp]</td>\n",
       "      <td>retrospot</td>\n",
       "    </tr>\n",
       "  </tbody>\n",
       "</table>\n",
       "</div>"
      ],
      "text/plain": [
       "    InvoiceNo StockCode                      Description  Quantity  \\\n",
       "25     536369     21756         bath building block word         3   \n",
       "46     536371     22086  paper chain kit 50's christmas         80   \n",
       "65     536374     21258       victorian sewing box large        32   \n",
       "105    536380     22961           jam making set printed        24   \n",
       "252    536393     22180                   retrospot lamp         8   \n",
       "\n",
       "            InvoiceDate  UnitPrice CustomerID        date  Revenue  month  \\\n",
       "25  2018-11-29 08:35:00       5.95      13047  2018-11-29    17.85     11   \n",
       "46  2018-11-29 09:00:00       2.55      13748  2018-11-29   204.00     11   \n",
       "65  2018-11-29 09:09:00      10.95      15100  2018-11-29   350.40     11   \n",
       "105 2018-11-29 09:41:00       1.45      17809  2018-11-29    34.80     11   \n",
       "252 2018-11-29 10:37:00       9.95      13747  2018-11-29    79.60     11   \n",
       "\n",
       "                          lemmatized   category  \n",
       "25        [bath building block word]      other  \n",
       "46   [paper chain kit, 's christmas]  christmas  \n",
       "65                                []        box  \n",
       "105                     [jam making]        jam  \n",
       "252                 [retrospot lamp]  retrospot  "
      ]
     },
     "execution_count": 161,
     "metadata": {},
     "output_type": "execute_result"
    }
   ],
   "source": [
    "single_assortment.head()"
   ]
  },
  {
   "cell_type": "code",
   "execution_count": 162,
   "metadata": {},
   "outputs": [
    {
     "name": "stdout",
     "output_type": "stream",
     "text": [
      "p-value:  0.0015692969247021054\n",
      "We reject the null hypothesis\n"
     ]
    }
   ],
   "source": [
    "from scipy import stats as st\n",
    "\n",
    "\n",
    "\n",
    "sample_1 = single_assortment['Revenue']\n",
    "sample_2 = bundle_assortment['Revenue']\n",
    "\n",
    "alpha = .05 # critical statistical significance level\n",
    "                        # if the p-value is less than alpha, we reject the hypothesis\n",
    "\n",
    "results = st.ttest_ind(\n",
    "        sample_1, \n",
    "        sample_2,\n",
    "equal_var = False)\n",
    "\n",
    "print('p-value: ', results.pvalue)\n",
    "\n",
    "if (results.pvalue < alpha):\n",
    "        print(\"We reject the null hypothesis\")\n",
    "else:\n",
    "        print(\"We can't reject the null hypothesis\")\n",
    "        \n",
    "      "
   ]
  },
  {
   "cell_type": "markdown",
   "metadata": {},
   "source": [
    "We **reject the null hypothesis** and therefore conclude that the average check for the single item purchase differs from bundles."
   ]
  },
  {
   "cell_type": "markdown",
   "metadata": {},
   "source": [
    "### Conclusion.\n",
    "Our **null hypothesis** was that **the average check for a single bought items is the same as average check for items bought in bundles**.  \n",
    "After performing the hypothesis testing we've rejected the null hypothesis and came to a conclusion that the average check for the single item purchase differs from bundles.\n",
    "____\n",
    "____"
   ]
  },
  {
   "cell_type": "markdown",
   "metadata": {},
   "source": [
    "# General Conclusions."
   ]
  },
  {
   "cell_type": "markdown",
   "metadata": {},
   "source": [
    "We've thoroughly analyzed an Online store and made several conclusions about its selling range."
   ]
  },
  {
   "cell_type": "markdown",
   "metadata": {},
   "source": [
    "When performing EDA we came to several conclusions:\n",
    "* We can see that the majority of the items are priced **between 0.80 and 1.8$**\n",
    "* By looking at the describe method we may conclude that most of the purcahses were made with 1 piece of an item, however about 50% of them had 2 or 3.\n",
    "* we can see that the shop has an **increase in revenue** towards the end of the year.  \n",
    "\n",
    "_____\n",
    "_____\n",
    "### In Range Analysis we've figured many interesting things:\n",
    "\n",
    "We can see that such categories as:\n",
    "* Bag\n",
    "* Holder\n",
    "* Box\n",
    "* Glass\n",
    "* Cake\n",
    "* Light\n",
    "\n",
    "Had a **greater tendency to be sold as single** items in absolute values.    \n",
    "  \n",
    "  We can see that such categories as:\n",
    "* Bag\n",
    "* Box\n",
    "* Cake\n",
    "* Christmas\n",
    "* Holder\n",
    "* Door\n",
    "* Bottle\n",
    "\n",
    "Had a **greater tendency to be sold in bundles** in abosulet values.\n",
    "\n",
    "### However if we take in the account the quantity of the items, we will have slightly different results:\n",
    "Now we can see that the categories that were mostly bought as single items **(main assortment)** are:\n",
    "* Party accessories\n",
    "* Clocks\n",
    "* Frames\n",
    "* Lanterns\n",
    "\n",
    "If we look at the bottom of the list we can say which items were mostly sold as **additional assortment**:\n",
    "* Ornament\n",
    "* Napkins\n",
    "* Bags\n",
    "* Jumbo stuff\n",
    "* Chalkboards\n",
    "* Jam\n",
    "* Hangers\n",
    "\n",
    "### Now let's see what bundles of product groups are often present in shopping carts\n",
    "\n",
    "Here's the most selling pairs\n",
    "* light + bag               470\n",
    "* party + bag               435\n",
    "* holder + bag              292\n",
    "* kit + bag                 263\n",
    "\n",
    "It seems the the main item in category **bag** is often accompanied by such categories as **light** and **party**, holder, glass and kit.  \n",
    "Further down in the list we can also see:\n",
    "* bottle + light\n",
    "* box + kit\n",
    "* bag + christmas\n",
    "\n",
    "_____\n",
    "_____\n",
    "\n",
    "### Hypothesis testing.\n",
    "Our **null hypothesis** was that **the average check for a single bought items is the same as average check for items bought in bundles**.  \n",
    "After performing the hypothesis testing we've rejected the null hypothesis and came to a conclusion that the average check for the single item purchase differs from bundles."
   ]
  },
  {
   "cell_type": "markdown",
   "metadata": {},
   "source": [
    "PDF Presentation link: https://drive.google.com/file/d/1JRF0Pzq7MkMffvb6sKi60Q0FDyW9Zw5k/view?usp=sharing"
   ]
  },
  {
   "cell_type": "code",
   "execution_count": 164,
   "metadata": {},
   "outputs": [],
   "source": [
    "# https://drive.google.com/file/d/1JRF0Pzq7MkMffvb6sKi60Q0FDyW9Zw5k/view?usp=sharing"
   ]
  },
  {
   "cell_type": "markdown",
   "metadata": {},
   "source": [
    "## Thank you! :)"
   ]
  },
  {
   "cell_type": "code",
   "execution_count": null,
   "metadata": {},
   "outputs": [],
   "source": []
  }
 ],
 "metadata": {
  "kernelspec": {
   "display_name": "Python 3",
   "language": "python",
   "name": "python3"
  },
  "language_info": {
   "codemirror_mode": {
    "name": "ipython",
    "version": 3
   },
   "file_extension": ".py",
   "mimetype": "text/x-python",
   "name": "python",
   "nbconvert_exporter": "python",
   "pygments_lexer": "ipython3",
   "version": "3.8.3"
  }
 },
 "nbformat": 4,
 "nbformat_minor": 2
}
