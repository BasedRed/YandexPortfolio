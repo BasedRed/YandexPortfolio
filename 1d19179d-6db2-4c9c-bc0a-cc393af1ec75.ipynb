{
 "cells": [
  {
   "cell_type": "markdown",
   "metadata": {},
   "source": [
    "<div style=\"border:solid green 2px; padding: 20px\">\n",
    "<b>Hi, Evgeniy!</b>\n",
    "\n",
    "It's Grigoriy, I've reviewed your previous projects. I hope you didn't tired of me :)\n",
    "\n",
    "As usual, you can find my comments in <font color='green'>green</font>, <font color='blue'>blue</font> or <font color='orange'>orange</font> boxes like this:\n",
    "\n",
    "<div class=\"alert alert-success\">\n",
    "<b>Reviewer's comment:</b> if everything is done succesfully\n",
    "</div>\n",
    "\n",
    "<div class=\"alert alert-warning\">\n",
    "<b>Reviewer's comment: </b> if I can give some recommendations\n",
    "</div>\n",
    "\n",
    "<div class=\"alert alert-danger\">\n",
    "<b>Reviewer's comment:</b> if the block requires some corrections. Work can't be accepted with the red comments.\n",
    "</div>\n",
    "\n",
    "    \n",
    "Let's work on the project in dialogue: if you change something in the project or respond to my comments, write about it. It will be easier for me to track the changes if you highlight your comments:\n",
    "    \n",
    "<div class=\"alert alert-info\"> <b>Student's comment:</b> For example like this.</div>"
   ]
  },
  {
   "cell_type": "markdown",
   "metadata": {},
   "source": [
    "### <font color='orange'>General feedback</font>\n",
    "Thank you for submitting your project. I can see that you've worked really hard on it! Sorry, but your project is not quite ready for review. The code doesn’t run because of errors, we have a problem with plotly express version. You can bypass this issue if you swith from px.funnel to the go.funnel. Please, check this link:<a>https://plotly.com/python/funnel-charts/</a>\n",
    "\n",
    "<div class=\"alert alert-info\"> \n",
    "Hello again Grigory!  \n",
    "    \n",
    "I've isnerted this line in the first cell and after restarting the kernel it helped <b> ! pip install -q --user 'plotly == 4.9.0'  \n",
    " Hope it will work now   </b></div>\n",
    " \n",
    "Unfortunately, it doesn't work :( I tried to install or update plotly on the platform side, but I didn't succeed and ended up with that go.funnel object solution. But I check your code, it's absolutely correct. So, I've just comment out it.\n",
    "\n",
    "**Update**:<br>\n",
    "Thank you for the update! This time I was able to check your work completely and I am glad to say that it is very good! The question arose only in one place because of the hardcoded values usage. Also, I answered you about the problem with funnel plot calculations.\n",
    "\n",
    "**Upate**:<br>\n",
    "Thank you for taking the time to correct your project! I really appreciate your hard work. The last problem left is related to \"hardcoded constants\". I have left you an explanation below.\n",
    "\n",
    "**Update**:<br>\n",
    "Your project has been accepted, congratulation!"
   ]
  },
  {
   "cell_type": "markdown",
   "metadata": {},
   "source": []
  },
  {
   "cell_type": "markdown",
   "metadata": {},
   "source": [
    "# Integrated project 2 - by Evgeniy"
   ]
  },
  {
   "cell_type": "markdown",
   "metadata": {},
   "source": [
    "You work at a startup that sells food products. You need to investigate user behavior for the company's app.First study the sales funnel. Find out how users reach the purchase stage. How many users actually make it to this stage? How many get stuck at previous stages? Which stages in particular?Then look at the results of an A/A/B test. (Read on for more information about A/A/B testing.) The designers would like to change the fonts for the entire app, but the managers are afraid the users might find the new design intimidating. They decide to make a decision based on the results of an A/A/B test.The users are split into three groups: two control groups get the old fonts and one test group gets the new ones. Find out which set of fonts produces better results.Creating two A groups has certain advantages. We can make it a principle that we will only be confident in the accuracy of our testing when the two control groups are similar. If there are significant differences between the A groups, this can help us uncover factors that may be distorting the results. Comparing control groups also tells us how much time anddata we'll need when running further tests.You'll be using the same dataset for general analytics and for A/A/B analysis. In real projects, experiments are constantly being conducted. Analysts study the quality of an app using general data, without paying attention to whether users are participating in experiments."
   ]
  },
  {
   "cell_type": "markdown",
   "metadata": {},
   "source": [
    "# Step 1. Open the data file and read the general information"
   ]
  },
  {
   "cell_type": "code",
   "execution_count": 1,
   "metadata": {},
   "outputs": [],
   "source": [
    "import pandas as pd\n",
    "from datetime import datetime\n",
    "import matplotlib.pyplot as plt\n",
    "import seaborn as sns\n",
    "import matplotlib.patches as patches\n",
    "import plotly.express as px\n",
    "\n",
    "! pip install -q --user 'plotly == 4.12.0'\n",
    "\n",
    "from scipy import stats as st\n",
    "import numpy as np\n",
    "import math as mth\n",
    "\n",
    "pd.options.mode.chained_assignment = None  # default='warn'"
   ]
  },
  {
   "cell_type": "code",
   "execution_count": 2,
   "metadata": {},
   "outputs": [
    {
     "name": "stdout",
     "output_type": "stream",
     "text": [
      "<class 'pandas.core.frame.DataFrame'>\n",
      "RangeIndex: 244126 entries, 0 to 244125\n",
      "Data columns (total 4 columns):\n",
      "EventName         244126 non-null object\n",
      "DeviceIDHash      244126 non-null int64\n",
      "EventTimestamp    244126 non-null int64\n",
      "ExpId             244126 non-null int64\n",
      "dtypes: int64(3), object(1)\n",
      "memory usage: 7.5+ MB\n"
     ]
    }
   ],
   "source": [
    "df = pd.read_csv('/datasets/logs_exp_us.csv', sep='\\t')\n",
    "df.info()\n",
    "df.columns = ['event_name', 'user_id', 'timestamp', 'experiment_id']"
   ]
  },
  {
   "cell_type": "code",
   "execution_count": 3,
   "metadata": {},
   "outputs": [
    {
     "data": {
      "text/html": [
       "<div>\n",
       "<style scoped>\n",
       "    .dataframe tbody tr th:only-of-type {\n",
       "        vertical-align: middle;\n",
       "    }\n",
       "\n",
       "    .dataframe tbody tr th {\n",
       "        vertical-align: top;\n",
       "    }\n",
       "\n",
       "    .dataframe thead th {\n",
       "        text-align: right;\n",
       "    }\n",
       "</style>\n",
       "<table border=\"1\" class=\"dataframe\">\n",
       "  <thead>\n",
       "    <tr style=\"text-align: right;\">\n",
       "      <th></th>\n",
       "      <th>event_name</th>\n",
       "      <th>user_id</th>\n",
       "      <th>timestamp</th>\n",
       "      <th>experiment_id</th>\n",
       "    </tr>\n",
       "  </thead>\n",
       "  <tbody>\n",
       "    <tr>\n",
       "      <td>0</td>\n",
       "      <td>MainScreenAppear</td>\n",
       "      <td>4575588528974610257</td>\n",
       "      <td>1564029816</td>\n",
       "      <td>246</td>\n",
       "    </tr>\n",
       "    <tr>\n",
       "      <td>1</td>\n",
       "      <td>MainScreenAppear</td>\n",
       "      <td>7416695313311560658</td>\n",
       "      <td>1564053102</td>\n",
       "      <td>246</td>\n",
       "    </tr>\n",
       "    <tr>\n",
       "      <td>2</td>\n",
       "      <td>PaymentScreenSuccessful</td>\n",
       "      <td>3518123091307005509</td>\n",
       "      <td>1564054127</td>\n",
       "      <td>248</td>\n",
       "    </tr>\n",
       "    <tr>\n",
       "      <td>3</td>\n",
       "      <td>CartScreenAppear</td>\n",
       "      <td>3518123091307005509</td>\n",
       "      <td>1564054127</td>\n",
       "      <td>248</td>\n",
       "    </tr>\n",
       "    <tr>\n",
       "      <td>4</td>\n",
       "      <td>PaymentScreenSuccessful</td>\n",
       "      <td>6217807653094995999</td>\n",
       "      <td>1564055322</td>\n",
       "      <td>248</td>\n",
       "    </tr>\n",
       "  </tbody>\n",
       "</table>\n",
       "</div>"
      ],
      "text/plain": [
       "                event_name              user_id   timestamp  experiment_id\n",
       "0         MainScreenAppear  4575588528974610257  1564029816            246\n",
       "1         MainScreenAppear  7416695313311560658  1564053102            246\n",
       "2  PaymentScreenSuccessful  3518123091307005509  1564054127            248\n",
       "3         CartScreenAppear  3518123091307005509  1564054127            248\n",
       "4  PaymentScreenSuccessful  6217807653094995999  1564055322            248"
      ]
     },
     "execution_count": 3,
     "metadata": {},
     "output_type": "execute_result"
    }
   ],
   "source": [
    "df.head()"
   ]
  },
  {
   "cell_type": "markdown",
   "metadata": {},
   "source": [
    "### Conclusion  \n",
    "We've imported the data."
   ]
  },
  {
   "cell_type": "markdown",
   "metadata": {},
   "source": [
    "# Step 2. Prepare the data for analysis"
   ]
  },
  {
   "cell_type": "markdown",
   "metadata": {},
   "source": [
    "* Add a date and time column and a separate column for dates\n",
    "* Check for missing values and data types. Correct the data if needed"
   ]
  },
  {
   "cell_type": "code",
   "execution_count": 4,
   "metadata": {},
   "outputs": [
    {
     "data": {
      "text/html": [
       "<div>\n",
       "<style scoped>\n",
       "    .dataframe tbody tr th:only-of-type {\n",
       "        vertical-align: middle;\n",
       "    }\n",
       "\n",
       "    .dataframe tbody tr th {\n",
       "        vertical-align: top;\n",
       "    }\n",
       "\n",
       "    .dataframe thead th {\n",
       "        text-align: right;\n",
       "    }\n",
       "</style>\n",
       "<table border=\"1\" class=\"dataframe\">\n",
       "  <thead>\n",
       "    <tr style=\"text-align: right;\">\n",
       "      <th></th>\n",
       "      <th>event_name</th>\n",
       "      <th>user_id</th>\n",
       "      <th>timestamp</th>\n",
       "      <th>experiment_id</th>\n",
       "    </tr>\n",
       "  </thead>\n",
       "  <tbody>\n",
       "    <tr>\n",
       "      <td>0</td>\n",
       "      <td>MainScreenAppear</td>\n",
       "      <td>4575588528974610257</td>\n",
       "      <td>2019-07-25 04:43:36</td>\n",
       "      <td>246</td>\n",
       "    </tr>\n",
       "    <tr>\n",
       "      <td>1</td>\n",
       "      <td>MainScreenAppear</td>\n",
       "      <td>7416695313311560658</td>\n",
       "      <td>2019-07-25 11:11:42</td>\n",
       "      <td>246</td>\n",
       "    </tr>\n",
       "    <tr>\n",
       "      <td>2</td>\n",
       "      <td>PaymentScreenSuccessful</td>\n",
       "      <td>3518123091307005509</td>\n",
       "      <td>2019-07-25 11:28:47</td>\n",
       "      <td>248</td>\n",
       "    </tr>\n",
       "    <tr>\n",
       "      <td>3</td>\n",
       "      <td>CartScreenAppear</td>\n",
       "      <td>3518123091307005509</td>\n",
       "      <td>2019-07-25 11:28:47</td>\n",
       "      <td>248</td>\n",
       "    </tr>\n",
       "    <tr>\n",
       "      <td>4</td>\n",
       "      <td>PaymentScreenSuccessful</td>\n",
       "      <td>6217807653094995999</td>\n",
       "      <td>2019-07-25 11:48:42</td>\n",
       "      <td>248</td>\n",
       "    </tr>\n",
       "  </tbody>\n",
       "</table>\n",
       "</div>"
      ],
      "text/plain": [
       "                event_name              user_id           timestamp  \\\n",
       "0         MainScreenAppear  4575588528974610257 2019-07-25 04:43:36   \n",
       "1         MainScreenAppear  7416695313311560658 2019-07-25 11:11:42   \n",
       "2  PaymentScreenSuccessful  3518123091307005509 2019-07-25 11:28:47   \n",
       "3         CartScreenAppear  3518123091307005509 2019-07-25 11:28:47   \n",
       "4  PaymentScreenSuccessful  6217807653094995999 2019-07-25 11:48:42   \n",
       "\n",
       "   experiment_id  \n",
       "0            246  \n",
       "1            246  \n",
       "2            248  \n",
       "3            248  \n",
       "4            248  "
      ]
     },
     "execution_count": 4,
     "metadata": {},
     "output_type": "execute_result"
    }
   ],
   "source": [
    "df['timestamp'] = df['timestamp'].apply(lambda x: datetime.fromtimestamp(x))\n",
    "df.head()"
   ]
  },
  {
   "cell_type": "code",
   "execution_count": 5,
   "metadata": {},
   "outputs": [
    {
     "data": {
      "text/plain": [
       "array(['MainScreenAppear', 'PaymentScreenSuccessful', 'CartScreenAppear',\n",
       "       'OffersScreenAppear', 'Tutorial'], dtype=object)"
      ]
     },
     "execution_count": 5,
     "metadata": {},
     "output_type": "execute_result"
    }
   ],
   "source": [
    "df['event_name'].unique()"
   ]
  },
  {
   "cell_type": "markdown",
   "metadata": {},
   "source": [
    "Now let's check for **duplicated** values."
   ]
  },
  {
   "cell_type": "markdown",
   "metadata": {},
   "source": [
    "We got 413 duplicates. Let's check their time."
   ]
  },
  {
   "cell_type": "code",
   "execution_count": 6,
   "metadata": {},
   "outputs": [
    {
     "data": {
      "text/html": [
       "<div>\n",
       "<style scoped>\n",
       "    .dataframe tbody tr th:only-of-type {\n",
       "        vertical-align: middle;\n",
       "    }\n",
       "\n",
       "    .dataframe tbody tr th {\n",
       "        vertical-align: top;\n",
       "    }\n",
       "\n",
       "    .dataframe thead th {\n",
       "        text-align: right;\n",
       "    }\n",
       "</style>\n",
       "<table border=\"1\" class=\"dataframe\">\n",
       "  <thead>\n",
       "    <tr style=\"text-align: right;\">\n",
       "      <th></th>\n",
       "      <th>event_name</th>\n",
       "      <th>user_id</th>\n",
       "      <th>timestamp</th>\n",
       "      <th>experiment_id</th>\n",
       "    </tr>\n",
       "  </thead>\n",
       "  <tbody>\n",
       "    <tr>\n",
       "      <td>453</td>\n",
       "      <td>MainScreenAppear</td>\n",
       "      <td>5613408041324010552</td>\n",
       "      <td>2019-07-30 08:19:44</td>\n",
       "      <td>248</td>\n",
       "    </tr>\n",
       "    <tr>\n",
       "      <td>2350</td>\n",
       "      <td>CartScreenAppear</td>\n",
       "      <td>1694940645335807244</td>\n",
       "      <td>2019-07-31 21:51:39</td>\n",
       "      <td>248</td>\n",
       "    </tr>\n",
       "    <tr>\n",
       "      <td>3573</td>\n",
       "      <td>MainScreenAppear</td>\n",
       "      <td>434103746454591587</td>\n",
       "      <td>2019-08-01 02:59:37</td>\n",
       "      <td>248</td>\n",
       "    </tr>\n",
       "    <tr>\n",
       "      <td>4076</td>\n",
       "      <td>MainScreenAppear</td>\n",
       "      <td>3761373764179762633</td>\n",
       "      <td>2019-08-01 03:47:46</td>\n",
       "      <td>247</td>\n",
       "    </tr>\n",
       "    <tr>\n",
       "      <td>4803</td>\n",
       "      <td>MainScreenAppear</td>\n",
       "      <td>2835328739789306622</td>\n",
       "      <td>2019-08-01 04:44:01</td>\n",
       "      <td>248</td>\n",
       "    </tr>\n",
       "    <tr>\n",
       "      <td>...</td>\n",
       "      <td>...</td>\n",
       "      <td>...</td>\n",
       "      <td>...</td>\n",
       "      <td>...</td>\n",
       "    </tr>\n",
       "    <tr>\n",
       "      <td>242329</td>\n",
       "      <td>MainScreenAppear</td>\n",
       "      <td>8870358373313968633</td>\n",
       "      <td>2019-08-07 19:26:44</td>\n",
       "      <td>247</td>\n",
       "    </tr>\n",
       "    <tr>\n",
       "      <td>242332</td>\n",
       "      <td>PaymentScreenSuccessful</td>\n",
       "      <td>4718002964983105693</td>\n",
       "      <td>2019-08-07 19:26:45</td>\n",
       "      <td>247</td>\n",
       "    </tr>\n",
       "    <tr>\n",
       "      <td>242360</td>\n",
       "      <td>PaymentScreenSuccessful</td>\n",
       "      <td>2382591782303281935</td>\n",
       "      <td>2019-08-07 19:27:29</td>\n",
       "      <td>246</td>\n",
       "    </tr>\n",
       "    <tr>\n",
       "      <td>242362</td>\n",
       "      <td>CartScreenAppear</td>\n",
       "      <td>2382591782303281935</td>\n",
       "      <td>2019-08-07 19:27:29</td>\n",
       "      <td>246</td>\n",
       "    </tr>\n",
       "    <tr>\n",
       "      <td>242635</td>\n",
       "      <td>MainScreenAppear</td>\n",
       "      <td>4097782667445790512</td>\n",
       "      <td>2019-08-07 19:36:58</td>\n",
       "      <td>246</td>\n",
       "    </tr>\n",
       "  </tbody>\n",
       "</table>\n",
       "<p>413 rows × 4 columns</p>\n",
       "</div>"
      ],
      "text/plain": [
       "                     event_name              user_id           timestamp  \\\n",
       "453            MainScreenAppear  5613408041324010552 2019-07-30 08:19:44   \n",
       "2350           CartScreenAppear  1694940645335807244 2019-07-31 21:51:39   \n",
       "3573           MainScreenAppear   434103746454591587 2019-08-01 02:59:37   \n",
       "4076           MainScreenAppear  3761373764179762633 2019-08-01 03:47:46   \n",
       "4803           MainScreenAppear  2835328739789306622 2019-08-01 04:44:01   \n",
       "...                         ...                  ...                 ...   \n",
       "242329         MainScreenAppear  8870358373313968633 2019-08-07 19:26:44   \n",
       "242332  PaymentScreenSuccessful  4718002964983105693 2019-08-07 19:26:45   \n",
       "242360  PaymentScreenSuccessful  2382591782303281935 2019-08-07 19:27:29   \n",
       "242362         CartScreenAppear  2382591782303281935 2019-08-07 19:27:29   \n",
       "242635         MainScreenAppear  4097782667445790512 2019-08-07 19:36:58   \n",
       "\n",
       "        experiment_id  \n",
       "453               248  \n",
       "2350              248  \n",
       "3573              248  \n",
       "4076              247  \n",
       "4803              248  \n",
       "...               ...  \n",
       "242329            247  \n",
       "242332            247  \n",
       "242360            246  \n",
       "242362            246  \n",
       "242635            246  \n",
       "\n",
       "[413 rows x 4 columns]"
      ]
     },
     "execution_count": 6,
     "metadata": {},
     "output_type": "execute_result"
    }
   ],
   "source": [
    "df[df.duplicated()]"
   ]
  },
  {
   "cell_type": "code",
   "execution_count": 7,
   "metadata": {},
   "outputs": [
    {
     "name": "stdout",
     "output_type": "stream",
     "text": [
      "event_name : 5\n",
      "user_id : 237\n",
      "timestamp : 352\n",
      "experiment_id : 3\n"
     ]
    }
   ],
   "source": [
    "for i in df[df.duplicated()].columns:\n",
    "    print(i,':', df[df.duplicated()][i].nunique())"
   ]
  },
  {
   "cell_type": "markdown",
   "metadata": {},
   "source": [
    "This means we got duplicates in all 5 events and all 3 groups. Let's look at the time."
   ]
  },
  {
   "cell_type": "code",
   "execution_count": 8,
   "metadata": {},
   "outputs": [
    {
     "data": {
      "text/plain": [
       "array([datetime.date(2019, 7, 30), datetime.date(2019, 7, 31),\n",
       "       datetime.date(2019, 8, 1), datetime.date(2019, 8, 2),\n",
       "       datetime.date(2019, 8, 3), datetime.date(2019, 8, 4),\n",
       "       datetime.date(2019, 8, 5), datetime.date(2019, 8, 6),\n",
       "       datetime.date(2019, 8, 7)], dtype=object)"
      ]
     },
     "execution_count": 8,
     "metadata": {},
     "output_type": "execute_result"
    }
   ],
   "source": [
    "df[df.duplicated()]['timestamp'].dt.date.unique()"
   ]
  },
  {
   "cell_type": "code",
   "execution_count": 9,
   "metadata": {},
   "outputs": [
    {
     "data": {
      "text/plain": [
       "count                  244126\n",
       "unique                 176654\n",
       "top       2019-08-04 16:23:19\n",
       "freq                        9\n",
       "first     2019-07-25 04:43:36\n",
       "last      2019-08-07 21:15:17\n",
       "Name: timestamp, dtype: object"
      ]
     },
     "execution_count": 9,
     "metadata": {},
     "output_type": "execute_result"
    }
   ],
   "source": [
    "df['timestamp'].describe()"
   ]
  },
  {
   "cell_type": "markdown",
   "metadata": {},
   "source": [
    "Uh-oh, seems like we got duplicates for 8 days out of 14 day experiment.  \n",
    "However we still have to **drop** them since there are not plenty options around."
   ]
  },
  {
   "cell_type": "code",
   "execution_count": 10,
   "metadata": {},
   "outputs": [
    {
     "data": {
      "text/html": [
       "<div>\n",
       "<style scoped>\n",
       "    .dataframe tbody tr th:only-of-type {\n",
       "        vertical-align: middle;\n",
       "    }\n",
       "\n",
       "    .dataframe tbody tr th {\n",
       "        vertical-align: top;\n",
       "    }\n",
       "\n",
       "    .dataframe thead th {\n",
       "        text-align: right;\n",
       "    }\n",
       "</style>\n",
       "<table border=\"1\" class=\"dataframe\">\n",
       "  <thead>\n",
       "    <tr style=\"text-align: right;\">\n",
       "      <th></th>\n",
       "      <th>event_name</th>\n",
       "      <th>user_id</th>\n",
       "      <th>timestamp</th>\n",
       "      <th>experiment_id</th>\n",
       "    </tr>\n",
       "  </thead>\n",
       "  <tbody>\n",
       "    <tr>\n",
       "      <td>243708</td>\n",
       "      <td>MainScreenAppear</td>\n",
       "      <td>4599628364049201812</td>\n",
       "      <td>2019-08-07 21:12:25</td>\n",
       "      <td>247</td>\n",
       "    </tr>\n",
       "    <tr>\n",
       "      <td>243709</td>\n",
       "      <td>MainScreenAppear</td>\n",
       "      <td>5849806612437486590</td>\n",
       "      <td>2019-08-07 21:13:59</td>\n",
       "      <td>246</td>\n",
       "    </tr>\n",
       "    <tr>\n",
       "      <td>243710</td>\n",
       "      <td>MainScreenAppear</td>\n",
       "      <td>5746969938801999050</td>\n",
       "      <td>2019-08-07 21:14:43</td>\n",
       "      <td>246</td>\n",
       "    </tr>\n",
       "    <tr>\n",
       "      <td>243711</td>\n",
       "      <td>MainScreenAppear</td>\n",
       "      <td>5746969938801999050</td>\n",
       "      <td>2019-08-07 21:14:58</td>\n",
       "      <td>246</td>\n",
       "    </tr>\n",
       "    <tr>\n",
       "      <td>243712</td>\n",
       "      <td>OffersScreenAppear</td>\n",
       "      <td>5746969938801999050</td>\n",
       "      <td>2019-08-07 21:15:17</td>\n",
       "      <td>246</td>\n",
       "    </tr>\n",
       "  </tbody>\n",
       "</table>\n",
       "</div>"
      ],
      "text/plain": [
       "                event_name              user_id           timestamp  \\\n",
       "243708    MainScreenAppear  4599628364049201812 2019-08-07 21:12:25   \n",
       "243709    MainScreenAppear  5849806612437486590 2019-08-07 21:13:59   \n",
       "243710    MainScreenAppear  5746969938801999050 2019-08-07 21:14:43   \n",
       "243711    MainScreenAppear  5746969938801999050 2019-08-07 21:14:58   \n",
       "243712  OffersScreenAppear  5746969938801999050 2019-08-07 21:15:17   \n",
       "\n",
       "        experiment_id  \n",
       "243708            247  \n",
       "243709            246  \n",
       "243710            246  \n",
       "243711            246  \n",
       "243712            246  "
      ]
     },
     "execution_count": 10,
     "metadata": {},
     "output_type": "execute_result"
    }
   ],
   "source": [
    "df = df.drop_duplicates().reset_index(drop=True)\n",
    "df.tail()"
   ]
  },
  {
   "cell_type": "markdown",
   "metadata": {},
   "source": [
    "## Coclusion.\n",
    "We've prepared the data for analysis by removing duplicates and formatting rows."
   ]
  },
  {
   "cell_type": "markdown",
   "metadata": {},
   "source": [
    "<div class=\"alert alert-success\">\n",
    "<b>Reviewer's comment: </b> Good job!\n",
    "</div>"
   ]
  },
  {
   "cell_type": "markdown",
   "metadata": {},
   "source": [
    "# Step 3. Study and check the data"
   ]
  },
  {
   "cell_type": "markdown",
   "metadata": {},
   "source": [
    "* How many events are in the logs?\n",
    "* How many users are in the logs?\n",
    "* What's the average number of events per user?\n",
    "* What period of time does the data cover? Find the maximum and the minimum date. Plot a histogram by date and time. Can you be sure that you have equally complete data for the entire period? Older events could end up in some users' logs for technical reasons, and this could skew the overall picture. Find the moment at which the data starts to be complete and ignore the earlier section. What period does the data actually represent?\n",
    "* Did you lose many events and users when excluding the older data?•Make sure you have users from all three experimental groups."
   ]
  },
  {
   "cell_type": "markdown",
   "metadata": {},
   "source": [
    "### How many events are in the logs?"
   ]
  },
  {
   "cell_type": "code",
   "execution_count": 11,
   "metadata": {},
   "outputs": [
    {
     "name": "stdout",
     "output_type": "stream",
     "text": [
      "['MainScreenAppear' 'PaymentScreenSuccessful' 'CartScreenAppear'\n",
      " 'OffersScreenAppear' 'Tutorial']\n",
      "5\n"
     ]
    }
   ],
   "source": [
    "print(df.event_name.unique())\n",
    "print(df.event_name.nunique())"
   ]
  },
  {
   "cell_type": "markdown",
   "metadata": {},
   "source": [
    "There are **5** events."
   ]
  },
  {
   "cell_type": "markdown",
   "metadata": {},
   "source": [
    "### How many users are in the logs?"
   ]
  },
  {
   "cell_type": "code",
   "execution_count": 12,
   "metadata": {},
   "outputs": [
    {
     "name": "stdout",
     "output_type": "stream",
     "text": [
      "The amount of unique users is: 7551\n"
     ]
    }
   ],
   "source": [
    "print('The amount of unique users is:',df['user_id'].nunique())"
   ]
  },
  {
   "cell_type": "markdown",
   "metadata": {},
   "source": [
    "The amount of unique users is: **7551**.\n"
   ]
  },
  {
   "cell_type": "markdown",
   "metadata": {},
   "source": [
    "### What's the average number of events per user?"
   ]
  },
  {
   "cell_type": "code",
   "execution_count": 13,
   "metadata": {},
   "outputs": [
    {
     "data": {
      "text/plain": [
       "32.0"
      ]
     },
     "execution_count": 13,
     "metadata": {},
     "output_type": "execute_result"
    }
   ],
   "source": [
    "(df['event_name'].count()/df['user_id'].nunique()).round()"
   ]
  },
  {
   "cell_type": "markdown",
   "metadata": {},
   "source": [
    "The average number of events per user is **32**."
   ]
  },
  {
   "cell_type": "code",
   "execution_count": 14,
   "metadata": {},
   "outputs": [
    {
     "data": {
      "text/plain": [
       "event_name\n",
       "1    2707\n",
       "2    1021\n",
       "3     317\n",
       "4    3035\n",
       "5     471\n",
       "Name: user_id, dtype: int64"
      ]
     },
     "execution_count": 14,
     "metadata": {},
     "output_type": "execute_result"
    }
   ],
   "source": [
    "df.groupby('user_id')['event_name'].nunique().reset_index().groupby('event_name')['user_id'].nunique()"
   ]
  },
  {
   "cell_type": "markdown",
   "metadata": {},
   "source": [
    "From this we can see that only **3035** users out of 7551 got to screen #4 - **payment succesfull**."
   ]
  },
  {
   "cell_type": "markdown",
   "metadata": {},
   "source": [
    "### What period of time does the data cover?"
   ]
  },
  {
   "cell_type": "code",
   "execution_count": 15,
   "metadata": {},
   "outputs": [
    {
     "data": {
      "text/plain": [
       "count                  243713\n",
       "unique                 176654\n",
       "top       2019-08-01 14:40:35\n",
       "freq                        9\n",
       "first     2019-07-25 04:43:36\n",
       "last      2019-08-07 21:15:17\n",
       "Name: timestamp, dtype: object"
      ]
     },
     "execution_count": 15,
     "metadata": {},
     "output_type": "execute_result"
    }
   ],
   "source": [
    "df['timestamp'].describe()"
   ]
  },
  {
   "cell_type": "markdown",
   "metadata": {},
   "source": [
    "It covers about 2 weeks.  \n",
    "First : 2019-07-25  \n",
    "Last  : 2019-08-08"
   ]
  },
  {
   "cell_type": "markdown",
   "metadata": {},
   "source": [
    "### What period does the data actually represent?"
   ]
  },
  {
   "cell_type": "code",
   "execution_count": 16,
   "metadata": {},
   "outputs": [],
   "source": [
    "df['date'] = df['timestamp'].dt.date"
   ]
  },
  {
   "cell_type": "code",
   "execution_count": 17,
   "metadata": {},
   "outputs": [
    {
     "data": {
      "text/html": [
       "<div>\n",
       "<style scoped>\n",
       "    .dataframe tbody tr th:only-of-type {\n",
       "        vertical-align: middle;\n",
       "    }\n",
       "\n",
       "    .dataframe tbody tr th {\n",
       "        vertical-align: top;\n",
       "    }\n",
       "\n",
       "    .dataframe thead th {\n",
       "        text-align: right;\n",
       "    }\n",
       "</style>\n",
       "<table border=\"1\" class=\"dataframe\">\n",
       "  <thead>\n",
       "    <tr style=\"text-align: right;\">\n",
       "      <th></th>\n",
       "      <th>date</th>\n",
       "      <th>event_name</th>\n",
       "    </tr>\n",
       "  </thead>\n",
       "  <tbody>\n",
       "    <tr>\n",
       "      <td>0</td>\n",
       "      <td>2019-07-25</td>\n",
       "      <td>9</td>\n",
       "    </tr>\n",
       "    <tr>\n",
       "      <td>1</td>\n",
       "      <td>2019-07-26</td>\n",
       "      <td>31</td>\n",
       "    </tr>\n",
       "    <tr>\n",
       "      <td>2</td>\n",
       "      <td>2019-07-27</td>\n",
       "      <td>55</td>\n",
       "    </tr>\n",
       "    <tr>\n",
       "      <td>3</td>\n",
       "      <td>2019-07-28</td>\n",
       "      <td>105</td>\n",
       "    </tr>\n",
       "    <tr>\n",
       "      <td>4</td>\n",
       "      <td>2019-07-29</td>\n",
       "      <td>184</td>\n",
       "    </tr>\n",
       "    <tr>\n",
       "      <td>5</td>\n",
       "      <td>2019-07-30</td>\n",
       "      <td>412</td>\n",
       "    </tr>\n",
       "    <tr>\n",
       "      <td>6</td>\n",
       "      <td>2019-07-31</td>\n",
       "      <td>2030</td>\n",
       "    </tr>\n",
       "    <tr>\n",
       "      <td>7</td>\n",
       "      <td>2019-08-01</td>\n",
       "      <td>36141</td>\n",
       "    </tr>\n",
       "    <tr>\n",
       "      <td>8</td>\n",
       "      <td>2019-08-02</td>\n",
       "      <td>35554</td>\n",
       "    </tr>\n",
       "    <tr>\n",
       "      <td>9</td>\n",
       "      <td>2019-08-03</td>\n",
       "      <td>33282</td>\n",
       "    </tr>\n",
       "    <tr>\n",
       "      <td>10</td>\n",
       "      <td>2019-08-04</td>\n",
       "      <td>32968</td>\n",
       "    </tr>\n",
       "    <tr>\n",
       "      <td>11</td>\n",
       "      <td>2019-08-05</td>\n",
       "      <td>36058</td>\n",
       "    </tr>\n",
       "    <tr>\n",
       "      <td>12</td>\n",
       "      <td>2019-08-06</td>\n",
       "      <td>35788</td>\n",
       "    </tr>\n",
       "    <tr>\n",
       "      <td>13</td>\n",
       "      <td>2019-08-07</td>\n",
       "      <td>31096</td>\n",
       "    </tr>\n",
       "  </tbody>\n",
       "</table>\n",
       "</div>"
      ],
      "text/plain": [
       "          date  event_name\n",
       "0   2019-07-25           9\n",
       "1   2019-07-26          31\n",
       "2   2019-07-27          55\n",
       "3   2019-07-28         105\n",
       "4   2019-07-29         184\n",
       "5   2019-07-30         412\n",
       "6   2019-07-31        2030\n",
       "7   2019-08-01       36141\n",
       "8   2019-08-02       35554\n",
       "9   2019-08-03       33282\n",
       "10  2019-08-04       32968\n",
       "11  2019-08-05       36058\n",
       "12  2019-08-06       35788\n",
       "13  2019-08-07       31096"
      ]
     },
     "execution_count": 17,
     "metadata": {},
     "output_type": "execute_result"
    }
   ],
   "source": [
    "event_per_date = df.groupby('date')['event_name'].count().reset_index()\n",
    "event_per_date"
   ]
  },
  {
   "cell_type": "code",
   "execution_count": 18,
   "metadata": {},
   "outputs": [
    {
     "name": "stderr",
     "output_type": "stream",
     "text": [
      "/opt/conda/lib/python3.7/site-packages/pandas/plotting/_matplotlib/converter.py:103: FutureWarning:\n",
      "\n",
      "Using an implicitly registered datetime converter for a matplotlib plotting method. The converter was registered by pandas on import. Future versions of pandas will require you to explicitly register matplotlib converters.\n",
      "\n",
      "To register the converters:\n",
      "\t>>> from pandas.plotting import register_matplotlib_converters\n",
      "\t>>> register_matplotlib_converters()\n",
      "\n"
     ]
    },
    {
     "data": {
      "image/png": "[encoded data removed]",
      "text/plain": [
       "<Figure size 1080x432 with 1 Axes>"
      ]
     },
     "metadata": {
      "needs_background": "light"
     },
     "output_type": "display_data"
    }
   ],
   "source": [
    "fig = plt.figure(figsize = (15, 6))  \n",
    "\n",
    "with plt.style.context('seaborn-pastel'):\n",
    "    plt.bar(event_per_date['date'], event_per_date['event_name'])\n",
    "    \n",
    "plt.xlabel(\"Date\") \n",
    "plt.ylabel(\"Amount of Events\") \n",
    "plt.title(\"Events Per Date\") \n",
    "plt.show()     \n",
    "    \n"
   ]
  },
  {
   "cell_type": "markdown",
   "metadata": {},
   "source": [
    "By looking at this graph we can definitely say that data represents the **period of 1 week** - from 01-08-2019 till 07-08-2019."
   ]
  },
  {
   "cell_type": "markdown",
   "metadata": {},
   "source": [
    "Let's exclude the **older** data."
   ]
  },
  {
   "cell_type": "code",
   "execution_count": 19,
   "metadata": {},
   "outputs": [],
   "source": [
    "df_filtered = df[(df['date'] > pd.to_datetime('2019-07-31').date()) & (df['date'] < pd.to_datetime('2019-08-08').date())]"
   ]
  },
  {
   "cell_type": "code",
   "execution_count": 20,
   "metadata": {},
   "outputs": [
    {
     "data": {
      "text/html": [
       "<div>\n",
       "<style scoped>\n",
       "    .dataframe tbody tr th:only-of-type {\n",
       "        vertical-align: middle;\n",
       "    }\n",
       "\n",
       "    .dataframe tbody tr th {\n",
       "        vertical-align: top;\n",
       "    }\n",
       "\n",
       "    .dataframe thead th {\n",
       "        text-align: right;\n",
       "    }\n",
       "</style>\n",
       "<table border=\"1\" class=\"dataframe\">\n",
       "  <thead>\n",
       "    <tr style=\"text-align: right;\">\n",
       "      <th></th>\n",
       "      <th>event_name</th>\n",
       "      <th>user_id</th>\n",
       "      <th>timestamp</th>\n",
       "      <th>experiment_id</th>\n",
       "      <th>date</th>\n",
       "    </tr>\n",
       "  </thead>\n",
       "  <tbody>\n",
       "    <tr>\n",
       "      <td>2826</td>\n",
       "      <td>Tutorial</td>\n",
       "      <td>3737462046622621720</td>\n",
       "      <td>2019-08-01 00:07:28</td>\n",
       "      <td>246</td>\n",
       "      <td>2019-08-01</td>\n",
       "    </tr>\n",
       "    <tr>\n",
       "      <td>2827</td>\n",
       "      <td>MainScreenAppear</td>\n",
       "      <td>3737462046622621720</td>\n",
       "      <td>2019-08-01 00:08:00</td>\n",
       "      <td>246</td>\n",
       "      <td>2019-08-01</td>\n",
       "    </tr>\n",
       "    <tr>\n",
       "      <td>2828</td>\n",
       "      <td>MainScreenAppear</td>\n",
       "      <td>3737462046622621720</td>\n",
       "      <td>2019-08-01 00:08:55</td>\n",
       "      <td>246</td>\n",
       "      <td>2019-08-01</td>\n",
       "    </tr>\n",
       "    <tr>\n",
       "      <td>2829</td>\n",
       "      <td>OffersScreenAppear</td>\n",
       "      <td>3737462046622621720</td>\n",
       "      <td>2019-08-01 00:08:58</td>\n",
       "      <td>246</td>\n",
       "      <td>2019-08-01</td>\n",
       "    </tr>\n",
       "    <tr>\n",
       "      <td>2830</td>\n",
       "      <td>MainScreenAppear</td>\n",
       "      <td>1433840883824088890</td>\n",
       "      <td>2019-08-01 00:08:59</td>\n",
       "      <td>247</td>\n",
       "      <td>2019-08-01</td>\n",
       "    </tr>\n",
       "    <tr>\n",
       "      <td>...</td>\n",
       "      <td>...</td>\n",
       "      <td>...</td>\n",
       "      <td>...</td>\n",
       "      <td>...</td>\n",
       "      <td>...</td>\n",
       "    </tr>\n",
       "    <tr>\n",
       "      <td>243708</td>\n",
       "      <td>MainScreenAppear</td>\n",
       "      <td>4599628364049201812</td>\n",
       "      <td>2019-08-07 21:12:25</td>\n",
       "      <td>247</td>\n",
       "      <td>2019-08-07</td>\n",
       "    </tr>\n",
       "    <tr>\n",
       "      <td>243709</td>\n",
       "      <td>MainScreenAppear</td>\n",
       "      <td>5849806612437486590</td>\n",
       "      <td>2019-08-07 21:13:59</td>\n",
       "      <td>246</td>\n",
       "      <td>2019-08-07</td>\n",
       "    </tr>\n",
       "    <tr>\n",
       "      <td>243710</td>\n",
       "      <td>MainScreenAppear</td>\n",
       "      <td>5746969938801999050</td>\n",
       "      <td>2019-08-07 21:14:43</td>\n",
       "      <td>246</td>\n",
       "      <td>2019-08-07</td>\n",
       "    </tr>\n",
       "    <tr>\n",
       "      <td>243711</td>\n",
       "      <td>MainScreenAppear</td>\n",
       "      <td>5746969938801999050</td>\n",
       "      <td>2019-08-07 21:14:58</td>\n",
       "      <td>246</td>\n",
       "      <td>2019-08-07</td>\n",
       "    </tr>\n",
       "    <tr>\n",
       "      <td>243712</td>\n",
       "      <td>OffersScreenAppear</td>\n",
       "      <td>5746969938801999050</td>\n",
       "      <td>2019-08-07 21:15:17</td>\n",
       "      <td>246</td>\n",
       "      <td>2019-08-07</td>\n",
       "    </tr>\n",
       "  </tbody>\n",
       "</table>\n",
       "<p>240887 rows × 5 columns</p>\n",
       "</div>"
      ],
      "text/plain": [
       "                event_name              user_id           timestamp  \\\n",
       "2826              Tutorial  3737462046622621720 2019-08-01 00:07:28   \n",
       "2827      MainScreenAppear  3737462046622621720 2019-08-01 00:08:00   \n",
       "2828      MainScreenAppear  3737462046622621720 2019-08-01 00:08:55   \n",
       "2829    OffersScreenAppear  3737462046622621720 2019-08-01 00:08:58   \n",
       "2830      MainScreenAppear  1433840883824088890 2019-08-01 00:08:59   \n",
       "...                    ...                  ...                 ...   \n",
       "243708    MainScreenAppear  4599628364049201812 2019-08-07 21:12:25   \n",
       "243709    MainScreenAppear  5849806612437486590 2019-08-07 21:13:59   \n",
       "243710    MainScreenAppear  5746969938801999050 2019-08-07 21:14:43   \n",
       "243711    MainScreenAppear  5746969938801999050 2019-08-07 21:14:58   \n",
       "243712  OffersScreenAppear  5746969938801999050 2019-08-07 21:15:17   \n",
       "\n",
       "        experiment_id        date  \n",
       "2826              246  2019-08-01  \n",
       "2827              246  2019-08-01  \n",
       "2828              246  2019-08-01  \n",
       "2829              246  2019-08-01  \n",
       "2830              247  2019-08-01  \n",
       "...               ...         ...  \n",
       "243708            247  2019-08-07  \n",
       "243709            246  2019-08-07  \n",
       "243710            246  2019-08-07  \n",
       "243711            246  2019-08-07  \n",
       "243712            246  2019-08-07  \n",
       "\n",
       "[240887 rows x 5 columns]"
      ]
     },
     "execution_count": 20,
     "metadata": {},
     "output_type": "execute_result"
    }
   ],
   "source": [
    "df_filtered"
   ]
  },
  {
   "cell_type": "markdown",
   "metadata": {},
   "source": [
    "### Did you lose many events and users when excluding the older data?"
   ]
  },
  {
   "cell_type": "code",
   "execution_count": 21,
   "metadata": {},
   "outputs": [
    {
     "name": "stdout",
     "output_type": "stream",
     "text": [
      "Number of users in filtered DataFrame is: 7534\n",
      "Number of users in old DataFrame is: 7551\n",
      "Percentage of users lost: -0.0022513574361011646\n"
     ]
    }
   ],
   "source": [
    "print('Number of users in filtered DataFrame is:',df_filtered['user_id'].nunique())\n",
    "print('Number of users in old DataFrame is:',df['user_id'].nunique())\n",
    "print('Percentage of users lost:', df_filtered['user_id'].nunique()/df['user_id'].nunique() - 1)"
   ]
  },
  {
   "cell_type": "markdown",
   "metadata": {},
   "source": [
    "<div class=\"alert alert-warning\">\n",
    "<b>Reviewer's comment: </b> Small hint: you can format percentage values as actual percents with format() function: <code>print('{:.2%}'.format())</code>\n",
    "</div>"
   ]
  },
  {
   "cell_type": "markdown",
   "metadata": {},
   "source": [
    "We can see that the amount of users lost wasn't critical.  \n",
    "Let's have a look at the events."
   ]
  },
  {
   "cell_type": "code",
   "execution_count": 22,
   "metadata": {},
   "outputs": [
    {
     "name": "stdout",
     "output_type": "stream",
     "text": [
      "Number of events in filtered DataFrame is: 240887\n",
      "Number of events in old DataFrame is: 243713\n",
      "Percentage of events lost: -0.01159560630741896\n"
     ]
    }
   ],
   "source": [
    "print('Number of events in filtered DataFrame is:',df_filtered['event_name'].count())\n",
    "print('Number of events in old DataFrame is:',df['event_name'].count())\n",
    "print('Percentage of events lost:', df_filtered['event_name'].count()/df['event_name'].count() - 1)"
   ]
  },
  {
   "cell_type": "markdown",
   "metadata": {},
   "source": [
    "Not much of a value was lost."
   ]
  },
  {
   "cell_type": "markdown",
   "metadata": {},
   "source": [
    "### Make sure you have users from all three experimental groups."
   ]
  },
  {
   "cell_type": "code",
   "execution_count": 23,
   "metadata": {},
   "outputs": [
    {
     "data": {
      "text/plain": [
       "248    84563\n",
       "246    79302\n",
       "247    77022\n",
       "Name: experiment_id, dtype: int64"
      ]
     },
     "execution_count": 23,
     "metadata": {},
     "output_type": "execute_result"
    }
   ],
   "source": [
    "df_filtered.experiment_id.value_counts()"
   ]
  },
  {
   "cell_type": "code",
   "execution_count": 24,
   "metadata": {},
   "outputs": [
    {
     "data": {
      "text/plain": [
       "experiment_id\n",
       "246    2484\n",
       "247    2513\n",
       "248    2537\n",
       "Name: user_id, dtype: int64"
      ]
     },
     "execution_count": 24,
     "metadata": {},
     "output_type": "execute_result"
    }
   ],
   "source": [
    "df_filtered.groupby('experiment_id')['user_id'].nunique()"
   ]
  },
  {
   "cell_type": "markdown",
   "metadata": {},
   "source": [
    "We can see that we have **2484** and **2517** users in A and A groups respectively and **2537** users in B group."
   ]
  },
  {
   "cell_type": "markdown",
   "metadata": {},
   "source": [
    "## Conclusion."
   ]
  },
  {
   "cell_type": "markdown",
   "metadata": {},
   "source": [
    "In this part we've figured several points:\n",
    "* There are **5** events.\n",
    "* The amount of unique users in original data is: **7551** and in filtered - **7538**\n",
    "* The average number of events per user is **32**.\n",
    "* Data covers about 2 weeks. First : 2019-07-25 Last  : 2019-08-08\n",
    "* By looking at this graph we can definitely say that data represents the **period of 1 week** - from 01-08-2019 till 07-08-2019.\n",
    "* We can see that we have **2484** and **2517** users in A and A groups respectively and **2537** users in B group.\n"
   ]
  },
  {
   "cell_type": "markdown",
   "metadata": {},
   "source": [
    "<div class=\"alert alert-success\">\n",
    "<b>Reviewer's comment: </b> Excellent, all calculations are right!\n",
    "</div>"
   ]
  },
  {
   "cell_type": "markdown",
   "metadata": {},
   "source": [
    "# Step 4. Study the event funnel."
   ]
  },
  {
   "cell_type": "markdown",
   "metadata": {},
   "source": [
    "### See what events are in the logs and their frequency of occurrence. Sort them by frequency."
   ]
  },
  {
   "cell_type": "code",
   "execution_count": 25,
   "metadata": {},
   "outputs": [
    {
     "data": {
      "text/html": [
       "<div>\n",
       "<style scoped>\n",
       "    .dataframe tbody tr th:only-of-type {\n",
       "        vertical-align: middle;\n",
       "    }\n",
       "\n",
       "    .dataframe tbody tr th {\n",
       "        vertical-align: top;\n",
       "    }\n",
       "\n",
       "    .dataframe thead th {\n",
       "        text-align: right;\n",
       "    }\n",
       "</style>\n",
       "<table border=\"1\" class=\"dataframe\">\n",
       "  <thead>\n",
       "    <tr style=\"text-align: right;\">\n",
       "      <th></th>\n",
       "      <th>event_name</th>\n",
       "      <th>user_id</th>\n",
       "    </tr>\n",
       "  </thead>\n",
       "  <tbody>\n",
       "    <tr>\n",
       "      <td>1</td>\n",
       "      <td>MainScreenAppear</td>\n",
       "      <td>117328</td>\n",
       "    </tr>\n",
       "    <tr>\n",
       "      <td>2</td>\n",
       "      <td>OffersScreenAppear</td>\n",
       "      <td>46333</td>\n",
       "    </tr>\n",
       "    <tr>\n",
       "      <td>0</td>\n",
       "      <td>CartScreenAppear</td>\n",
       "      <td>42303</td>\n",
       "    </tr>\n",
       "    <tr>\n",
       "      <td>3</td>\n",
       "      <td>PaymentScreenSuccessful</td>\n",
       "      <td>33918</td>\n",
       "    </tr>\n",
       "    <tr>\n",
       "      <td>4</td>\n",
       "      <td>Tutorial</td>\n",
       "      <td>1005</td>\n",
       "    </tr>\n",
       "  </tbody>\n",
       "</table>\n",
       "</div>"
      ],
      "text/plain": [
       "                event_name  user_id\n",
       "1         MainScreenAppear   117328\n",
       "2       OffersScreenAppear    46333\n",
       "0         CartScreenAppear    42303\n",
       "3  PaymentScreenSuccessful    33918\n",
       "4                 Tutorial     1005"
      ]
     },
     "execution_count": 25,
     "metadata": {},
     "output_type": "execute_result"
    }
   ],
   "source": [
    "df_filtered.groupby('event_name')['user_id'].count().reset_index().sort_values('user_id', ascending=False)\n"
   ]
  },
  {
   "cell_type": "code",
   "execution_count": 26,
   "metadata": {},
   "outputs": [
    {
     "data": {
      "text/plain": [
       "Text(0, 0.5, 'Type of Event')"
      ]
     },
     "execution_count": 26,
     "metadata": {},
     "output_type": "execute_result"
    },
    {
     "data": {
      "image/png": "[encoded data removed]",
      "text/plain": [
       "<Figure size 432x288 with 1 Axes>"
      ]
     },
     "metadata": {
      "needs_background": "light"
     },
     "output_type": "display_data"
    }
   ],
   "source": [
    "df_filtered.groupby('event_name')['user_id'].count().sort_values(ascending=True).plot.barh(title='Frequency of events') #(kind='bar')\n",
    "plt.xlabel('Amount of Events')\n",
    "plt.ylabel('Type of Event')"
   ]
  },
  {
   "cell_type": "markdown",
   "metadata": {},
   "source": [
    "\n",
    "<div class=\"alert alert-warning\">\n",
    "<b>Reviewer's comment: </b> Small hint: you can hide text above the plot with <code>plt.show()</code>.\n",
    "</div>"
   ]
  },
  {
   "cell_type": "markdown",
   "metadata": {},
   "source": [
    "### Find the number of users who performed each of these actions."
   ]
  },
  {
   "cell_type": "markdown",
   "metadata": {},
   "source": [
    "There are two options for this task."
   ]
  },
  {
   "cell_type": "code",
   "execution_count": 27,
   "metadata": {},
   "outputs": [
    {
     "data": {
      "text/plain": [
       "event_name\n",
       "MainScreenAppear           0.984736\n",
       "OffersScreenAppear         0.609636\n",
       "CartScreenAppear           0.495620\n",
       "PaymentScreenSuccessful    0.469737\n",
       "Tutorial                   0.111495\n",
       "Name: user_id, dtype: float64"
      ]
     },
     "execution_count": 27,
     "metadata": {},
     "output_type": "execute_result"
    }
   ],
   "source": [
    "df_filtered.groupby('event_name')['user_id'].nunique().sort_values(ascending=False)/df_filtered.user_id.nunique()"
   ]
  },
  {
   "cell_type": "markdown",
   "metadata": {},
   "source": [
    "<div class=\"alert alert-warning\">\n",
    "<b>Reviewer's comment: </b> Small hint: you can format ratio values as actual percentages: <a>https://stackoverflow.com/a/36175424/11664121</a>. In this case you will alter only a dataframe formatting rules, but not data.\n",
    "</div>"
   ]
  },
  {
   "cell_type": "markdown",
   "metadata": {},
   "source": [
    "Option #2"
   ]
  },
  {
   "cell_type": "code",
   "execution_count": 28,
   "metadata": {},
   "outputs": [
    {
     "data": {
      "text/html": [
       "<div>\n",
       "<style scoped>\n",
       "    .dataframe tbody tr th:only-of-type {\n",
       "        vertical-align: middle;\n",
       "    }\n",
       "\n",
       "    .dataframe tbody tr th {\n",
       "        vertical-align: top;\n",
       "    }\n",
       "\n",
       "    .dataframe thead th {\n",
       "        text-align: right;\n",
       "    }\n",
       "</style>\n",
       "<table border=\"1\" class=\"dataframe\">\n",
       "  <thead>\n",
       "    <tr style=\"text-align: right;\">\n",
       "      <th></th>\n",
       "      <th>user_id</th>\n",
       "      <th>event_name</th>\n",
       "      <th>timestamp</th>\n",
       "    </tr>\n",
       "  </thead>\n",
       "  <tbody>\n",
       "    <tr>\n",
       "      <td>0</td>\n",
       "      <td>6888746892508752</td>\n",
       "      <td>MainScreenAppear</td>\n",
       "      <td>1</td>\n",
       "    </tr>\n",
       "    <tr>\n",
       "      <td>1</td>\n",
       "      <td>6909561520679493</td>\n",
       "      <td>CartScreenAppear</td>\n",
       "      <td>1</td>\n",
       "    </tr>\n",
       "    <tr>\n",
       "      <td>2</td>\n",
       "      <td>6909561520679493</td>\n",
       "      <td>MainScreenAppear</td>\n",
       "      <td>2</td>\n",
       "    </tr>\n",
       "    <tr>\n",
       "      <td>3</td>\n",
       "      <td>6909561520679493</td>\n",
       "      <td>OffersScreenAppear</td>\n",
       "      <td>1</td>\n",
       "    </tr>\n",
       "    <tr>\n",
       "      <td>4</td>\n",
       "      <td>6909561520679493</td>\n",
       "      <td>PaymentScreenSuccessful</td>\n",
       "      <td>1</td>\n",
       "    </tr>\n",
       "  </tbody>\n",
       "</table>\n",
       "</div>"
      ],
      "text/plain": [
       "            user_id               event_name  timestamp\n",
       "0  6888746892508752         MainScreenAppear          1\n",
       "1  6909561520679493         CartScreenAppear          1\n",
       "2  6909561520679493         MainScreenAppear          2\n",
       "3  6909561520679493       OffersScreenAppear          1\n",
       "4  6909561520679493  PaymentScreenSuccessful          1"
      ]
     },
     "execution_count": 28,
     "metadata": {},
     "output_type": "execute_result"
    }
   ],
   "source": [
    "at_least_once = df_filtered.groupby(['user_id','event_name'])['timestamp'].count().reset_index()\n",
    "at_least_once.head()"
   ]
  },
  {
   "cell_type": "code",
   "execution_count": 29,
   "metadata": {},
   "outputs": [
    {
     "data": {
      "text/plain": [
       "event_name\n",
       "MainScreenAppear           0.966842\n",
       "OffersScreenAppear         0.851731\n",
       "CartScreenAppear           0.873594\n",
       "PaymentScreenSuccessful    0.837807\n",
       "Tutorial                   0.100000\n",
       "Name: user_id, dtype: float64"
      ]
     },
     "execution_count": 29,
     "metadata": {},
     "output_type": "execute_result"
    }
   ],
   "source": [
    "at_least_once[at_least_once.timestamp > 1].groupby('event_name')['user_id'].nunique().sort_values(ascending=False)/df_filtered.groupby('event_name')['user_id'].nunique().sort_values(ascending=False)"
   ]
  },
  {
   "cell_type": "markdown",
   "metadata": {},
   "source": [
    "Numbers above show how many users have **returned** and repeated the same behavior **more than once**.  \n",
    "**~84%** for payment is a very good number."
   ]
  },
  {
   "cell_type": "markdown",
   "metadata": {},
   "source": [
    "### In what order do you think the actions took place. Are all of them part of a single sequence?"
   ]
  },
  {
   "cell_type": "markdown",
   "metadata": {},
   "source": [
    "According to this table over here:"
   ]
  },
  {
   "cell_type": "code",
   "execution_count": 30,
   "metadata": {},
   "outputs": [
    {
     "data": {
      "text/plain": [
       "event_name\n",
       "MainScreenAppear           0.984736\n",
       "OffersScreenAppear         0.609636\n",
       "CartScreenAppear           0.495620\n",
       "PaymentScreenSuccessful    0.469737\n",
       "Tutorial                   0.111495\n",
       "Name: user_id, dtype: float64"
      ]
     },
     "execution_count": 30,
     "metadata": {},
     "output_type": "execute_result"
    }
   ],
   "source": [
    "df_filtered.groupby('event_name')['user_id'].nunique().sort_values(ascending=False)/df_filtered.user_id.nunique()"
   ]
  },
  {
   "cell_type": "markdown",
   "metadata": {},
   "source": [
    "We may conclude that there are two separate sequences.  \n",
    "1. **Main Screen Appear >>> Offers Screen Appear >>> CartScreenAppear >>> Payment Screen Successful**\n",
    "2. **Tutorial**"
   ]
  },
  {
   "cell_type": "markdown",
   "metadata": {},
   "source": [
    "<div class=\"alert alert-success\">\n",
    "<b>Reviewer's comment: </b> Yes, we can skip Tutorial from  the funnel. \n",
    "</div>"
   ]
  },
  {
   "cell_type": "markdown",
   "metadata": {},
   "source": [
    "### Use the event funnel to find the share of users that proceed from each stage to the next. "
   ]
  },
  {
   "cell_type": "code",
   "execution_count": 31,
   "metadata": {},
   "outputs": [
    {
     "data": {
      "text/html": [
       "<div>\n",
       "<style scoped>\n",
       "    .dataframe tbody tr th:only-of-type {\n",
       "        vertical-align: middle;\n",
       "    }\n",
       "\n",
       "    .dataframe tbody tr th {\n",
       "        vertical-align: top;\n",
       "    }\n",
       "\n",
       "    .dataframe thead th {\n",
       "        text-align: right;\n",
       "    }\n",
       "</style>\n",
       "<table border=\"1\" class=\"dataframe\">\n",
       "  <thead>\n",
       "    <tr style=\"text-align: right;\">\n",
       "      <th></th>\n",
       "      <th>event_name</th>\n",
       "      <th>user_id</th>\n",
       "    </tr>\n",
       "  </thead>\n",
       "  <tbody>\n",
       "    <tr>\n",
       "      <td>1</td>\n",
       "      <td>MainScreenAppear</td>\n",
       "      <td>7419</td>\n",
       "    </tr>\n",
       "    <tr>\n",
       "      <td>2</td>\n",
       "      <td>OffersScreenAppear</td>\n",
       "      <td>4593</td>\n",
       "    </tr>\n",
       "    <tr>\n",
       "      <td>0</td>\n",
       "      <td>CartScreenAppear</td>\n",
       "      <td>3734</td>\n",
       "    </tr>\n",
       "    <tr>\n",
       "      <td>3</td>\n",
       "      <td>PaymentScreenSuccessful</td>\n",
       "      <td>3539</td>\n",
       "    </tr>\n",
       "    <tr>\n",
       "      <td>4</td>\n",
       "      <td>Tutorial</td>\n",
       "      <td>840</td>\n",
       "    </tr>\n",
       "  </tbody>\n",
       "</table>\n",
       "</div>"
      ],
      "text/plain": [
       "                event_name  user_id\n",
       "1         MainScreenAppear     7419\n",
       "2       OffersScreenAppear     4593\n",
       "0         CartScreenAppear     3734\n",
       "3  PaymentScreenSuccessful     3539\n",
       "4                 Tutorial      840"
      ]
     },
     "execution_count": 31,
     "metadata": {},
     "output_type": "execute_result"
    }
   ],
   "source": [
    "funnel_shift = df_filtered.groupby('event_name')['user_id'].nunique().reset_index().sort_values(by='user_id', ascending=False)\n",
    "funnel_shift"
   ]
  },
  {
   "cell_type": "code",
   "execution_count": 32,
   "metadata": {},
   "outputs": [],
   "source": [
    "funnel_shift = funnel_shift.head(4)"
   ]
  },
  {
   "cell_type": "markdown",
   "metadata": {},
   "source": [
    "<div class=\"alert alert-danger\">\n",
    "<s><b>Reviewer's comment:</b> Please, pay attention that you store the Tutoral stage in the funnel dataframe.\n",
    "</div>"
   ]
  },
  {
   "cell_type": "markdown",
   "metadata": {},
   "source": [
    "<div class=\"alert alert-info\"> <b>Student's comment:</b> I did pay attention and figure out that it's from a separate sequence in conclusions.</div>"
   ]
  },
  {
   "cell_type": "markdown",
   "metadata": {},
   "source": [
    "<div class=\"alert alert-danger\">\n",
    "<s><b>Reviewer's comment v2:</b> And I saw that and I praised you for that. <br>   \n",
    "The problem is that the presence of the Tutorial in the calculations distorts the research perception and create a false funnel picture. More over, graphs and tables from analytical notebooks are often used in presentations where there is no code or any technical context.\n",
    "</div>"
   ]
  },
  {
   "cell_type": "markdown",
   "metadata": {},
   "source": [
    "<div class=\"alert alert-info\"> <b>Student's comment v2:</b> Got it. Fixed.</div>"
   ]
  },
  {
   "cell_type": "code",
   "execution_count": 33,
   "metadata": {},
   "outputs": [
    {
     "data": {
      "text/html": [
       "<div>\n",
       "<style scoped>\n",
       "    .dataframe tbody tr th:only-of-type {\n",
       "        vertical-align: middle;\n",
       "    }\n",
       "\n",
       "    .dataframe tbody tr th {\n",
       "        vertical-align: top;\n",
       "    }\n",
       "\n",
       "    .dataframe thead th {\n",
       "        text-align: right;\n",
       "    }\n",
       "</style>\n",
       "<table border=\"1\" class=\"dataframe\">\n",
       "  <thead>\n",
       "    <tr style=\"text-align: right;\">\n",
       "      <th></th>\n",
       "      <th>event_name</th>\n",
       "      <th>user_id</th>\n",
       "      <th>perc_ch</th>\n",
       "    </tr>\n",
       "  </thead>\n",
       "  <tbody>\n",
       "    <tr>\n",
       "      <td>1</td>\n",
       "      <td>MainScreenAppear</td>\n",
       "      <td>7419</td>\n",
       "      <td>NaN</td>\n",
       "    </tr>\n",
       "    <tr>\n",
       "      <td>2</td>\n",
       "      <td>OffersScreenAppear</td>\n",
       "      <td>4593</td>\n",
       "      <td>-0.380914</td>\n",
       "    </tr>\n",
       "    <tr>\n",
       "      <td>0</td>\n",
       "      <td>CartScreenAppear</td>\n",
       "      <td>3734</td>\n",
       "      <td>-0.187024</td>\n",
       "    </tr>\n",
       "    <tr>\n",
       "      <td>3</td>\n",
       "      <td>PaymentScreenSuccessful</td>\n",
       "      <td>3539</td>\n",
       "      <td>-0.052223</td>\n",
       "    </tr>\n",
       "  </tbody>\n",
       "</table>\n",
       "</div>"
      ],
      "text/plain": [
       "                event_name  user_id   perc_ch\n",
       "1         MainScreenAppear     7419       NaN\n",
       "2       OffersScreenAppear     4593 -0.380914\n",
       "0         CartScreenAppear     3734 -0.187024\n",
       "3  PaymentScreenSuccessful     3539 -0.052223"
      ]
     },
     "execution_count": 33,
     "metadata": {},
     "output_type": "execute_result"
    }
   ],
   "source": [
    "funnel_shift['perc_ch'] = funnel_shift.user_id.pct_change()\n",
    "funnel_shift"
   ]
  },
  {
   "cell_type": "code",
   "execution_count": 34,
   "metadata": {},
   "outputs": [
    {
     "data": {
      "text/html": [
       "<div>\n",
       "<style scoped>\n",
       "    .dataframe tbody tr th:only-of-type {\n",
       "        vertical-align: middle;\n",
       "    }\n",
       "\n",
       "    .dataframe tbody tr th {\n",
       "        vertical-align: top;\n",
       "    }\n",
       "\n",
       "    .dataframe thead th {\n",
       "        text-align: right;\n",
       "    }\n",
       "</style>\n",
       "<table border=\"1\" class=\"dataframe\">\n",
       "  <thead>\n",
       "    <tr style=\"text-align: right;\">\n",
       "      <th></th>\n",
       "      <th>event_name</th>\n",
       "      <th>experiment_id</th>\n",
       "      <th>user_id</th>\n",
       "    </tr>\n",
       "  </thead>\n",
       "  <tbody>\n",
       "    <tr>\n",
       "      <td>1</td>\n",
       "      <td>MainScreenAppear</td>\n",
       "      <td>246</td>\n",
       "      <td>2450</td>\n",
       "    </tr>\n",
       "    <tr>\n",
       "      <td>2</td>\n",
       "      <td>OffersScreenAppear</td>\n",
       "      <td>246</td>\n",
       "      <td>1542</td>\n",
       "    </tr>\n",
       "    <tr>\n",
       "      <td>0</td>\n",
       "      <td>CartScreenAppear</td>\n",
       "      <td>246</td>\n",
       "      <td>1266</td>\n",
       "    </tr>\n",
       "    <tr>\n",
       "      <td>3</td>\n",
       "      <td>PaymentScreenSuccessful</td>\n",
       "      <td>246</td>\n",
       "      <td>1200</td>\n",
       "    </tr>\n",
       "    <tr>\n",
       "      <td>4</td>\n",
       "      <td>Tutorial</td>\n",
       "      <td>246</td>\n",
       "      <td>278</td>\n",
       "    </tr>\n",
       "  </tbody>\n",
       "</table>\n",
       "</div>"
      ],
      "text/plain": [
       "                event_name  experiment_id  user_id\n",
       "1         MainScreenAppear            246     2450\n",
       "2       OffersScreenAppear            246     1542\n",
       "0         CartScreenAppear            246     1266\n",
       "3  PaymentScreenSuccessful            246     1200\n",
       "4                 Tutorial            246      278"
      ]
     },
     "metadata": {},
     "output_type": "display_data"
    },
    {
     "data": {
      "text/html": [
       "<div>\n",
       "<style scoped>\n",
       "    .dataframe tbody tr th:only-of-type {\n",
       "        vertical-align: middle;\n",
       "    }\n",
       "\n",
       "    .dataframe tbody tr th {\n",
       "        vertical-align: top;\n",
       "    }\n",
       "\n",
       "    .dataframe thead th {\n",
       "        text-align: right;\n",
       "    }\n",
       "</style>\n",
       "<table border=\"1\" class=\"dataframe\">\n",
       "  <thead>\n",
       "    <tr style=\"text-align: right;\">\n",
       "      <th></th>\n",
       "      <th>event_name</th>\n",
       "      <th>experiment_id</th>\n",
       "      <th>user_id</th>\n",
       "    </tr>\n",
       "  </thead>\n",
       "  <tbody>\n",
       "    <tr>\n",
       "      <td>1</td>\n",
       "      <td>MainScreenAppear</td>\n",
       "      <td>247</td>\n",
       "      <td>2476</td>\n",
       "    </tr>\n",
       "    <tr>\n",
       "      <td>2</td>\n",
       "      <td>OffersScreenAppear</td>\n",
       "      <td>247</td>\n",
       "      <td>1520</td>\n",
       "    </tr>\n",
       "    <tr>\n",
       "      <td>0</td>\n",
       "      <td>CartScreenAppear</td>\n",
       "      <td>247</td>\n",
       "      <td>1238</td>\n",
       "    </tr>\n",
       "    <tr>\n",
       "      <td>3</td>\n",
       "      <td>PaymentScreenSuccessful</td>\n",
       "      <td>247</td>\n",
       "      <td>1158</td>\n",
       "    </tr>\n",
       "    <tr>\n",
       "      <td>4</td>\n",
       "      <td>Tutorial</td>\n",
       "      <td>247</td>\n",
       "      <td>283</td>\n",
       "    </tr>\n",
       "  </tbody>\n",
       "</table>\n",
       "</div>"
      ],
      "text/plain": [
       "                event_name  experiment_id  user_id\n",
       "1         MainScreenAppear            247     2476\n",
       "2       OffersScreenAppear            247     1520\n",
       "0         CartScreenAppear            247     1238\n",
       "3  PaymentScreenSuccessful            247     1158\n",
       "4                 Tutorial            247      283"
      ]
     },
     "metadata": {},
     "output_type": "display_data"
    },
    {
     "data": {
      "text/html": [
       "<div>\n",
       "<style scoped>\n",
       "    .dataframe tbody tr th:only-of-type {\n",
       "        vertical-align: middle;\n",
       "    }\n",
       "\n",
       "    .dataframe tbody tr th {\n",
       "        vertical-align: top;\n",
       "    }\n",
       "\n",
       "    .dataframe thead th {\n",
       "        text-align: right;\n",
       "    }\n",
       "</style>\n",
       "<table border=\"1\" class=\"dataframe\">\n",
       "  <thead>\n",
       "    <tr style=\"text-align: right;\">\n",
       "      <th></th>\n",
       "      <th>event_name</th>\n",
       "      <th>experiment_id</th>\n",
       "      <th>user_id</th>\n",
       "    </tr>\n",
       "  </thead>\n",
       "  <tbody>\n",
       "    <tr>\n",
       "      <td>1</td>\n",
       "      <td>MainScreenAppear</td>\n",
       "      <td>248</td>\n",
       "      <td>2493</td>\n",
       "    </tr>\n",
       "    <tr>\n",
       "      <td>2</td>\n",
       "      <td>OffersScreenAppear</td>\n",
       "      <td>248</td>\n",
       "      <td>1531</td>\n",
       "    </tr>\n",
       "    <tr>\n",
       "      <td>0</td>\n",
       "      <td>CartScreenAppear</td>\n",
       "      <td>248</td>\n",
       "      <td>1230</td>\n",
       "    </tr>\n",
       "    <tr>\n",
       "      <td>3</td>\n",
       "      <td>PaymentScreenSuccessful</td>\n",
       "      <td>248</td>\n",
       "      <td>1181</td>\n",
       "    </tr>\n",
       "    <tr>\n",
       "      <td>4</td>\n",
       "      <td>Tutorial</td>\n",
       "      <td>248</td>\n",
       "      <td>279</td>\n",
       "    </tr>\n",
       "  </tbody>\n",
       "</table>\n",
       "</div>"
      ],
      "text/plain": [
       "                event_name  experiment_id  user_id\n",
       "1         MainScreenAppear            248     2493\n",
       "2       OffersScreenAppear            248     1531\n",
       "0         CartScreenAppear            248     1230\n",
       "3  PaymentScreenSuccessful            248     1181\n",
       "4                 Tutorial            248      279"
      ]
     },
     "metadata": {},
     "output_type": "display_data"
    }
   ],
   "source": [
    "funnel_by_groups = []\n",
    "for i in df_filtered.experiment_id.unique():\n",
    "    group=df_filtered[df_filtered.experiment_id == i].groupby(['event_name', 'experiment_id'])['user_id'].nunique().reset_index()\\\n",
    "    .sort_values(by='user_id', ascending=False)\n",
    "    display(group)\n",
    "    funnel_by_groups.append(group)"
   ]
  },
  {
   "cell_type": "code",
   "execution_count": 35,
   "metadata": {},
   "outputs": [],
   "source": [
    "funnel_by_groups = pd.concat(funnel_by_groups)\n"
   ]
  },
  {
   "cell_type": "code",
   "execution_count": 36,
   "metadata": {},
   "outputs": [
    {
     "data": {
      "text/html": [
       "<div>\n",
       "<style scoped>\n",
       "    .dataframe tbody tr th:only-of-type {\n",
       "        vertical-align: middle;\n",
       "    }\n",
       "\n",
       "    .dataframe tbody tr th {\n",
       "        vertical-align: top;\n",
       "    }\n",
       "\n",
       "    .dataframe thead th {\n",
       "        text-align: right;\n",
       "    }\n",
       "</style>\n",
       "<table border=\"1\" class=\"dataframe\">\n",
       "  <thead>\n",
       "    <tr style=\"text-align: right;\">\n",
       "      <th></th>\n",
       "      <th>event_name</th>\n",
       "      <th>experiment_id</th>\n",
       "      <th>user_id</th>\n",
       "    </tr>\n",
       "  </thead>\n",
       "  <tbody>\n",
       "    <tr>\n",
       "      <td>1</td>\n",
       "      <td>MainScreenAppear</td>\n",
       "      <td>246</td>\n",
       "      <td>2450</td>\n",
       "    </tr>\n",
       "    <tr>\n",
       "      <td>2</td>\n",
       "      <td>OffersScreenAppear</td>\n",
       "      <td>246</td>\n",
       "      <td>1542</td>\n",
       "    </tr>\n",
       "    <tr>\n",
       "      <td>0</td>\n",
       "      <td>CartScreenAppear</td>\n",
       "      <td>246</td>\n",
       "      <td>1266</td>\n",
       "    </tr>\n",
       "    <tr>\n",
       "      <td>3</td>\n",
       "      <td>PaymentScreenSuccessful</td>\n",
       "      <td>246</td>\n",
       "      <td>1200</td>\n",
       "    </tr>\n",
       "    <tr>\n",
       "      <td>4</td>\n",
       "      <td>Tutorial</td>\n",
       "      <td>246</td>\n",
       "      <td>278</td>\n",
       "    </tr>\n",
       "    <tr>\n",
       "      <td>1</td>\n",
       "      <td>MainScreenAppear</td>\n",
       "      <td>247</td>\n",
       "      <td>2476</td>\n",
       "    </tr>\n",
       "    <tr>\n",
       "      <td>2</td>\n",
       "      <td>OffersScreenAppear</td>\n",
       "      <td>247</td>\n",
       "      <td>1520</td>\n",
       "    </tr>\n",
       "    <tr>\n",
       "      <td>0</td>\n",
       "      <td>CartScreenAppear</td>\n",
       "      <td>247</td>\n",
       "      <td>1238</td>\n",
       "    </tr>\n",
       "    <tr>\n",
       "      <td>3</td>\n",
       "      <td>PaymentScreenSuccessful</td>\n",
       "      <td>247</td>\n",
       "      <td>1158</td>\n",
       "    </tr>\n",
       "    <tr>\n",
       "      <td>4</td>\n",
       "      <td>Tutorial</td>\n",
       "      <td>247</td>\n",
       "      <td>283</td>\n",
       "    </tr>\n",
       "    <tr>\n",
       "      <td>1</td>\n",
       "      <td>MainScreenAppear</td>\n",
       "      <td>248</td>\n",
       "      <td>2493</td>\n",
       "    </tr>\n",
       "    <tr>\n",
       "      <td>2</td>\n",
       "      <td>OffersScreenAppear</td>\n",
       "      <td>248</td>\n",
       "      <td>1531</td>\n",
       "    </tr>\n",
       "    <tr>\n",
       "      <td>0</td>\n",
       "      <td>CartScreenAppear</td>\n",
       "      <td>248</td>\n",
       "      <td>1230</td>\n",
       "    </tr>\n",
       "    <tr>\n",
       "      <td>3</td>\n",
       "      <td>PaymentScreenSuccessful</td>\n",
       "      <td>248</td>\n",
       "      <td>1181</td>\n",
       "    </tr>\n",
       "    <tr>\n",
       "      <td>4</td>\n",
       "      <td>Tutorial</td>\n",
       "      <td>248</td>\n",
       "      <td>279</td>\n",
       "    </tr>\n",
       "  </tbody>\n",
       "</table>\n",
       "</div>"
      ],
      "text/plain": [
       "                event_name  experiment_id  user_id\n",
       "1         MainScreenAppear            246     2450\n",
       "2       OffersScreenAppear            246     1542\n",
       "0         CartScreenAppear            246     1266\n",
       "3  PaymentScreenSuccessful            246     1200\n",
       "4                 Tutorial            246      278\n",
       "1         MainScreenAppear            247     2476\n",
       "2       OffersScreenAppear            247     1520\n",
       "0         CartScreenAppear            247     1238\n",
       "3  PaymentScreenSuccessful            247     1158\n",
       "4                 Tutorial            247      283\n",
       "1         MainScreenAppear            248     2493\n",
       "2       OffersScreenAppear            248     1531\n",
       "0         CartScreenAppear            248     1230\n",
       "3  PaymentScreenSuccessful            248     1181\n",
       "4                 Tutorial            248      279"
      ]
     },
     "execution_count": 36,
     "metadata": {},
     "output_type": "execute_result"
    }
   ],
   "source": [
    "funnel_by_groups"
   ]
  },
  {
   "cell_type": "code",
   "execution_count": 37,
   "metadata": {},
   "outputs": [],
   "source": [
    "funnel_by_groups = funnel_by_groups.query('event_name != \"Tutorial\"')"
   ]
  },
  {
   "cell_type": "code",
   "execution_count": 38,
   "metadata": {},
   "outputs": [],
   "source": [
    "#fig = px.funnel(funnel_by_groups, x='user_id', y='event_name', color='experiment_id')\n",
    "#fig.show()"
   ]
  },
  {
   "cell_type": "markdown",
   "metadata": {},
   "source": [
    "We can see the funnel here. It also includes tutorial which is **not** a part of this funned, since it's a **separate** action."
   ]
  },
  {
   "cell_type": "markdown",
   "metadata": {},
   "source": [
    "### At what stage do you lose the most users?"
   ]
  },
  {
   "cell_type": "markdown",
   "metadata": {},
   "source": [
    "Right awat by looking at the funnel we can say that most users are left behind right after **Main Screen Appear** behavior and before offers."
   ]
  },
  {
   "cell_type": "markdown",
   "metadata": {},
   "source": [
    "### What share of users make the entire journey from their first event to payment?\n",
    "To asnwer this question we will use the same calculations from above. "
   ]
  },
  {
   "cell_type": "code",
   "execution_count": 39,
   "metadata": {},
   "outputs": [
    {
     "data": {
      "text/plain": [
       "event_name\n",
       "MainScreenAppear           0.984736\n",
       "OffersScreenAppear         0.609636\n",
       "CartScreenAppear           0.495620\n",
       "PaymentScreenSuccessful    0.469737\n",
       "Tutorial                   0.111495\n",
       "Name: user_id, dtype: float64"
      ]
     },
     "execution_count": 39,
     "metadata": {},
     "output_type": "execute_result"
    }
   ],
   "source": [
    "df_filtered.groupby('event_name')['user_id'].nunique().sort_values(ascending=False)/df_filtered.user_id.nunique()"
   ]
  },
  {
   "cell_type": "markdown",
   "metadata": {},
   "source": [
    "We can see that **~46%** of users got to the Payment stage."
   ]
  },
  {
   "cell_type": "markdown",
   "metadata": {},
   "source": [
    "## Conclusion.\n",
    "In this step we've studied the event funnel:\n",
    "* We figured the frequency of events.\n",
    "* We figured how many users have returned and repeated the same behavior more than once. ~84% for payment is a very good number.  \n",
    "* Right awat by looking at the funnel we can say that most users are left behind right after **Main Screen Appear** behavior and before offers.\n",
    "* We can see that **~46%** of users got to the Payment stage.\n",
    "\n",
    "We figured that there are 2 sequences:\n",
    "* Main Screen Appear >>> Offers Screen Appear >>> CartScreenAppear >>> Payment Screen Successful\n",
    "* Tutorial\n"
   ]
  },
  {
   "cell_type": "markdown",
   "metadata": {},
   "source": [
    "<div class=\"alert alert-success\">\n",
    "<b>Reviewer's comment v2: </b> Good!\n",
    "</div>"
   ]
  },
  {
   "cell_type": "markdown",
   "metadata": {},
   "source": [
    "____\n",
    "____\n",
    "____"
   ]
  },
  {
   "cell_type": "markdown",
   "metadata": {},
   "source": [
    "# Step 5. Study the results of the experiment"
   ]
  },
  {
   "cell_type": "markdown",
   "metadata": {},
   "source": [
    "### How many users are there in each group?"
   ]
  },
  {
   "cell_type": "code",
   "execution_count": 40,
   "metadata": {},
   "outputs": [
    {
     "data": {
      "text/plain": [
       "experiment_id\n",
       "246    2484\n",
       "247    2513\n",
       "248    2537\n",
       "Name: user_id, dtype: int64"
      ]
     },
     "execution_count": 40,
     "metadata": {},
     "output_type": "execute_result"
    }
   ],
   "source": [
    "df_filtered.groupby('experiment_id')['user_id'].nunique()"
   ]
  },
  {
   "cell_type": "markdown",
   "metadata": {},
   "source": [
    "**2484, 2517 and 2537** in groups A, A and B."
   ]
  },
  {
   "cell_type": "markdown",
   "metadata": {},
   "source": [
    "### See if there is a statistically significant difference between samples 246 and 247."
   ]
  },
  {
   "cell_type": "markdown",
   "metadata": {},
   "source": [
    "We will answer this 2 questions below."
   ]
  },
  {
   "cell_type": "markdown",
   "metadata": {},
   "source": [
    "### Select the most popular event. In each of the control groups, find the number of users who performed this action."
   ]
  },
  {
   "cell_type": "markdown",
   "metadata": {},
   "source": [
    "We've already done that in the funnel question above and came to a conclusion that **MainScreenAppear** is the most popular event. Below is the amount of users in each of the groups."
   ]
  },
  {
   "cell_type": "code",
   "execution_count": 41,
   "metadata": {},
   "outputs": [
    {
     "data": {
      "text/html": [
       "<div>\n",
       "<style scoped>\n",
       "    .dataframe tbody tr th:only-of-type {\n",
       "        vertical-align: middle;\n",
       "    }\n",
       "\n",
       "    .dataframe tbody tr th {\n",
       "        vertical-align: top;\n",
       "    }\n",
       "\n",
       "    .dataframe thead th {\n",
       "        text-align: right;\n",
       "    }\n",
       "</style>\n",
       "<table border=\"1\" class=\"dataframe\">\n",
       "  <thead>\n",
       "    <tr style=\"text-align: right;\">\n",
       "      <th></th>\n",
       "      <th>event_name</th>\n",
       "      <th>experiment_id</th>\n",
       "      <th>user_id</th>\n",
       "    </tr>\n",
       "  </thead>\n",
       "  <tbody>\n",
       "    <tr>\n",
       "      <td>1</td>\n",
       "      <td>MainScreenAppear</td>\n",
       "      <td>246</td>\n",
       "      <td>2450</td>\n",
       "    </tr>\n",
       "    <tr>\n",
       "      <td>1</td>\n",
       "      <td>MainScreenAppear</td>\n",
       "      <td>247</td>\n",
       "      <td>2476</td>\n",
       "    </tr>\n",
       "    <tr>\n",
       "      <td>1</td>\n",
       "      <td>MainScreenAppear</td>\n",
       "      <td>248</td>\n",
       "      <td>2493</td>\n",
       "    </tr>\n",
       "  </tbody>\n",
       "</table>\n",
       "</div>"
      ],
      "text/plain": [
       "         event_name  experiment_id  user_id\n",
       "1  MainScreenAppear            246     2450\n",
       "1  MainScreenAppear            247     2476\n",
       "1  MainScreenAppear            248     2493"
      ]
     },
     "execution_count": 41,
     "metadata": {},
     "output_type": "execute_result"
    }
   ],
   "source": [
    "funnel_by_groups[funnel_by_groups['event_name'] == 'MainScreenAppear']"
   ]
  },
  {
   "cell_type": "markdown",
   "metadata": {},
   "source": [
    "###  Check whether the difference between the groups is statistically significant."
   ]
  },
  {
   "cell_type": "markdown",
   "metadata": {},
   "source": [
    "To do this, we need to use the test of proportions or z-score. We have an example from theory:"
   ]
  },
  {
   "cell_type": "markdown",
   "metadata": {},
   "source": [
    "<div class=\"alert alert-danger\">\n",
    "<b>Reviewer's comment:</b> Please, don't use hardcoded constants.\n",
    "</div>"
   ]
  },
  {
   "cell_type": "markdown",
   "metadata": {},
   "source": [
    "    \n",
    "<div class=\"alert alert-info\"> <b>Student's comment:</b> I'm not sure what did you mean by that... Below was just an example from theory that I've suited to my needs afterwards. Anyway I've commented it out but still I'd be glad if you could elaborate on what \"Hardoced constants\" mean:) Thank you in advance!</div>"
   ]
  },
  {
   "cell_type": "markdown",
   "metadata": {},
   "source": [
    "<div class=\"alert alert-warning\">\n",
    "<b>Reviewer's comment v2: </b> Sure. You use successes and trials values from previous calculations, but you just type some numbers. Instead of it, you should get them as variables linked from previous code. Please, update your code.\n",
    "</div>"
   ]
  },
  {
   "cell_type": "markdown",
   "metadata": {},
   "source": [
    "    \n",
    "<div class=\"alert alert-info\"> <b>Student's comment v3:</b> But I used random numbers only in this example from theory... In code below I didn't use them at all that's why in the first place I didn't understand what you mean...  \n",
    "Maybe I'm not understanding you right, can you please specify where are those?</div>"
   ]
  },
  {
   "cell_type": "markdown",
   "metadata": {},
   "source": [
    "<div class=\"alert alert-warning\">\n",
    "<b>Reviewer's comment v3: </b> I thought that you used real numbers from some funnel stage :) Okay, thank you for the clarification.\n",
    "</div>"
   ]
  },
  {
   "cell_type": "code",
   "execution_count": 42,
   "metadata": {},
   "outputs": [],
   "source": [
    "\n",
    "##alpha = .05 # significance level\n",
    "\n",
    "##successes = np.array([78, 120])\n",
    "##trials = np.array([830, 909])\n",
    "\n",
    "# success proportion in the first group:\n",
    "##p1 = successes[0]/trials[0]\n",
    "\n",
    "# success proportion in the second group:\n",
    "##p2 = successes[1]/trials[1]\n",
    "\n",
    "# success proportion in the combined dataset:\n",
    "##p_combined = (successes[0] + successes[1]) / (trials[0] + trials[1])\n",
    "\n",
    "# the difference between the datasets' proportions\n",
    "##difference = p1 - p2\n",
    "# calculating the statistic in standard deviations of the standard normal distribution\n",
    "##z_value = difference / mth.sqrt(p_combined * (1 - p_combined) * (1/trials[0] + 1/trials[1]))\n",
    "\n",
    "# setting up the standard normal distribution (mean 0, standard deviation 1)\n",
    "##distr = st.norm(0, 1)\n",
    "# calculating the statistic in standard deviations of the standard normal distribution\n",
    "##z_value = difference / mth.sqrt(p_combined * (1 - p_combined) * (1/trials[0] + 1/trials[1]))\n",
    "\n",
    "# setting up the standard normal distribution (mean 0, standard deviation 1)\n",
    "##distr = st.norm(0, 1) \n",
    "\n",
    "##p_value = (1 - distr.cdf(abs(z_value))) * 2\n",
    "\n",
    "##print('p-value: ', p_value)\n",
    "\n",
    "##if (p_value < alpha):\n",
    "##    print(\"Rejecting the null hypothesis: there is a significant difference between the proportions\")\n",
    "##else:\n",
    "##    print(\"Failed to reject the null hypothesis: there is no reason to consider the proportions different\")"
   ]
  },
  {
   "cell_type": "markdown",
   "metadata": {},
   "source": [
    "**Trials** would be the amount of unique users in the control group.  \n",
    "**Successes** is the amount of users from the same control group that saw the certain event."
   ]
  },
  {
   "cell_type": "markdown",
   "metadata": {},
   "source": [
    "Let's make a pivot table with amount of users per group per event."
   ]
  },
  {
   "cell_type": "code",
   "execution_count": 43,
   "metadata": {},
   "outputs": [
    {
     "data": {
      "text/html": [
       "<div>\n",
       "<style scoped>\n",
       "    .dataframe tbody tr th:only-of-type {\n",
       "        vertical-align: middle;\n",
       "    }\n",
       "\n",
       "    .dataframe tbody tr th {\n",
       "        vertical-align: top;\n",
       "    }\n",
       "\n",
       "    .dataframe thead th {\n",
       "        text-align: right;\n",
       "    }\n",
       "</style>\n",
       "<table border=\"1\" class=\"dataframe\">\n",
       "  <thead>\n",
       "    <tr style=\"text-align: right;\">\n",
       "      <th>experiment_id</th>\n",
       "      <th>event_name</th>\n",
       "      <th>246</th>\n",
       "      <th>247</th>\n",
       "      <th>248</th>\n",
       "    </tr>\n",
       "  </thead>\n",
       "  <tbody>\n",
       "    <tr>\n",
       "      <td>0</td>\n",
       "      <td>CartScreenAppear</td>\n",
       "      <td>1266</td>\n",
       "      <td>1238</td>\n",
       "      <td>1230</td>\n",
       "    </tr>\n",
       "    <tr>\n",
       "      <td>1</td>\n",
       "      <td>MainScreenAppear</td>\n",
       "      <td>2450</td>\n",
       "      <td>2476</td>\n",
       "      <td>2493</td>\n",
       "    </tr>\n",
       "    <tr>\n",
       "      <td>2</td>\n",
       "      <td>OffersScreenAppear</td>\n",
       "      <td>1542</td>\n",
       "      <td>1520</td>\n",
       "      <td>1531</td>\n",
       "    </tr>\n",
       "    <tr>\n",
       "      <td>3</td>\n",
       "      <td>PaymentScreenSuccessful</td>\n",
       "      <td>1200</td>\n",
       "      <td>1158</td>\n",
       "      <td>1181</td>\n",
       "    </tr>\n",
       "    <tr>\n",
       "      <td>4</td>\n",
       "      <td>Tutorial</td>\n",
       "      <td>278</td>\n",
       "      <td>283</td>\n",
       "      <td>279</td>\n",
       "    </tr>\n",
       "  </tbody>\n",
       "</table>\n",
       "</div>"
      ],
      "text/plain": [
       "experiment_id               event_name   246   247   248\n",
       "0                     CartScreenAppear  1266  1238  1230\n",
       "1                     MainScreenAppear  2450  2476  2493\n",
       "2                   OffersScreenAppear  1542  1520  1531\n",
       "3              PaymentScreenSuccessful  1200  1158  1181\n",
       "4                             Tutorial   278   283   279"
      ]
     },
     "execution_count": 43,
     "metadata": {},
     "output_type": "execute_result"
    }
   ],
   "source": [
    "pivot = df_filtered.pivot_table(index='event_name', values='user_id', columns='experiment_id', aggfunc={'user_id':'nunique'}).reset_index()\n",
    "pivot"
   ]
  },
  {
   "cell_type": "markdown",
   "metadata": {},
   "source": [
    "Now let's get 'MainScreenAppear' from the group 247."
   ]
  },
  {
   "cell_type": "code",
   "execution_count": 44,
   "metadata": {},
   "outputs": [
    {
     "data": {
      "text/plain": [
       "2476"
      ]
     },
     "execution_count": 44,
     "metadata": {},
     "output_type": "execute_result"
    }
   ],
   "source": [
    "pivot[pivot.event_name == 'MainScreenAppear'][247][1]"
   ]
  },
  {
   "cell_type": "markdown",
   "metadata": {},
   "source": [
    "Voila! Now we better automatize it"
   ]
  },
  {
   "cell_type": "code",
   "execution_count": 45,
   "metadata": {},
   "outputs": [],
   "source": [
    "def check_hypothesis(group1, group2, event, alpha):\n",
    "    sucesses1 = pivot[pivot.event_name == event][group1].iloc[0]\n",
    "    sucesses2 = pivot[pivot.event_name == event][group2].iloc[0]\n",
    "    print(\"Successes for group\", group1, \"are\", sucesses1, \"for event\", event,\"\\n\",\n",
    "         \"and successes for group\", group2, \"are\", sucesses2, \"for event\", event)"
   ]
  },
  {
   "cell_type": "code",
   "execution_count": 46,
   "metadata": {},
   "outputs": [
    {
     "name": "stdout",
     "output_type": "stream",
     "text": [
      "Successes for group 246 are 2450 for event MainScreenAppear \n",
      " and successes for group 247 are 2476 for event MainScreenAppear\n"
     ]
    }
   ],
   "source": [
    "check_hypothesis(246, 247, 'MainScreenAppear', 0.05)"
   ]
  },
  {
   "cell_type": "markdown",
   "metadata": {},
   "source": [
    "Great, it works! Now let's add trials."
   ]
  },
  {
   "cell_type": "code",
   "execution_count": 47,
   "metadata": {},
   "outputs": [],
   "source": [
    "def check_hypothesis(group1, group2, event, alpha):\n",
    "    sucesses1 = pivot[pivot.event_name == event][group1].iloc[0]\n",
    "    sucesses2 = pivot[pivot.event_name == event][group2].iloc[0]\n",
    "   \n",
    "    \n",
    "    # Trials are all users in group\n",
    "    trials1 = df_filtered[df_filtered.experiment_id == group1]['user_id'].nunique()\n",
    "    trials2 = df_filtered[df_filtered.experiment_id == group2]['user_id'].nunique()\n",
    "    print(\"Successes for group\", group1, \"are\", sucesses1, \"for event\", event,\"\\n\",\n",
    "         \"and successes for group\", group2, \"are\", sucesses2, \"for event\", event)\n",
    "    print(\"Trials for group\", group1, \"are\", trials1, \"for event\", event,\"\\n\",\n",
    "         \"and trials for group\", group2, \"are\", trials2, \"for event\", event)"
   ]
  },
  {
   "cell_type": "code",
   "execution_count": 48,
   "metadata": {},
   "outputs": [
    {
     "name": "stdout",
     "output_type": "stream",
     "text": [
      "Successes for group 246 are 1200 for event PaymentScreenSuccessful \n",
      " and successes for group 247 are 1158 for event PaymentScreenSuccessful\n",
      "Trials for group 246 are 2484 for event PaymentScreenSuccessful \n",
      " and trials for group 247 are 2513 for event PaymentScreenSuccessful\n"
     ]
    }
   ],
   "source": [
    "check_hypothesis(246, 247, 'PaymentScreenSuccessful', 0.05)"
   ]
  },
  {
   "cell_type": "markdown",
   "metadata": {},
   "source": [
    "Now we can add the whole function."
   ]
  },
  {
   "cell_type": "code",
   "execution_count": 49,
   "metadata": {},
   "outputs": [],
   "source": [
    "def check_hypothesis(group1, group2, event, alpha_test):\n",
    "    \n",
    "    alpha = alpha_test # significance level\n",
    "    \n",
    "    # Successes are amount of users in group per certain event\n",
    "    successes1 = pivot[pivot.event_name == event][group1].iloc[0]\n",
    "    successes2 = pivot[pivot.event_name == event][group2].iloc[0]\n",
    "   \n",
    "    \n",
    "    # Trials are all users in group\n",
    "    trials1 = df_filtered[df_filtered.experiment_id == group1]['user_id'].nunique()\n",
    "    trials2 = df_filtered[df_filtered.experiment_id == group2]['user_id'].nunique()\n",
    "    \n",
    "    \n",
    "    # success proportion in the first group:\n",
    "    p1 = successes1/trials1\n",
    "\n",
    "    # success proportion in the second group:\n",
    "    p2 = successes2/trials2\n",
    "\n",
    "    # success proportion in the combined dataset:\n",
    "    p_combined = (successes1 + successes2) / (trials1 + trials2)\n",
    "\n",
    "    # the difference between the datasets' proportions\n",
    "    difference = p1 - p2\n",
    "    # calculating the statistic in standard deviations of the standard normal distribution\n",
    "    z_value = difference / mth.sqrt(p_combined * (1 - p_combined) * (1/trials1 + 1/trials2))\n",
    "\n",
    "    # setting up the standard normal distribution (mean 0, standard deviation 1)\n",
    "    distr = st.norm(0, 1)\n",
    "    # calculating the statistic in standard deviations of the standard normal distribution\n",
    "    z_value = difference / mth.sqrt(p_combined * (1 - p_combined) * (1/trials1 + 1/trials2))\n",
    "\n",
    "    # setting up the standard normal distribution (mean 0, standard deviation 1)\n",
    "    distr = st.norm(0, 1) \n",
    "\n",
    "    p_value = (1 - distr.cdf(abs(z_value))) * 2\n",
    "\n",
    "    print('p-value: ', p_value)\n",
    "\n",
    "    if (p_value < alpha):\n",
    "        print(\"Reject H0 for\",event, 'and groups',group1,group2, \"- there is a significant difference between the proportions.\")\n",
    "    else:\n",
    "        print(\"Fail to Reject H0 for\", event,'and groups',group1,group2,\"- there is no reason to consider the proportions different.\")\n",
    "\n"
   ]
  },
  {
   "cell_type": "code",
   "execution_count": 50,
   "metadata": {},
   "outputs": [
    {
     "name": "stdout",
     "output_type": "stream",
     "text": [
      "p-value:  0.22883372237997213\n",
      "Fail to Reject H0 for CartScreenAppear and groups 246 247 - there is no reason to consider the proportions different.\n"
     ]
    }
   ],
   "source": [
    "check_hypothesis(246, 247, 'CartScreenAppear', 0.05)"
   ]
  },
  {
   "cell_type": "markdown",
   "metadata": {},
   "source": [
    "<div class=\"alert alert-success\">\n",
    "<b>Reviewer's comment v2: </b> Good, functions and test result are right!\n",
    "</div>"
   ]
  },
  {
   "cell_type": "markdown",
   "metadata": {},
   "source": [
    "Great! Now we got a function that works.  \n",
    "Let's get back to the question and compare test groups 246 and 247."
   ]
  },
  {
   "cell_type": "code",
   "execution_count": 51,
   "metadata": {},
   "outputs": [
    {
     "data": {
      "text/html": [
       "<div>\n",
       "<style scoped>\n",
       "    .dataframe tbody tr th:only-of-type {\n",
       "        vertical-align: middle;\n",
       "    }\n",
       "\n",
       "    .dataframe tbody tr th {\n",
       "        vertical-align: top;\n",
       "    }\n",
       "\n",
       "    .dataframe thead th {\n",
       "        text-align: right;\n",
       "    }\n",
       "</style>\n",
       "<table border=\"1\" class=\"dataframe\">\n",
       "  <thead>\n",
       "    <tr style=\"text-align: right;\">\n",
       "      <th>experiment_id</th>\n",
       "      <th>event_name</th>\n",
       "      <th>246</th>\n",
       "      <th>247</th>\n",
       "      <th>248</th>\n",
       "    </tr>\n",
       "  </thead>\n",
       "  <tbody>\n",
       "    <tr>\n",
       "      <td>0</td>\n",
       "      <td>CartScreenAppear</td>\n",
       "      <td>1266</td>\n",
       "      <td>1238</td>\n",
       "      <td>1230</td>\n",
       "    </tr>\n",
       "    <tr>\n",
       "      <td>1</td>\n",
       "      <td>MainScreenAppear</td>\n",
       "      <td>2450</td>\n",
       "      <td>2476</td>\n",
       "      <td>2493</td>\n",
       "    </tr>\n",
       "    <tr>\n",
       "      <td>2</td>\n",
       "      <td>OffersScreenAppear</td>\n",
       "      <td>1542</td>\n",
       "      <td>1520</td>\n",
       "      <td>1531</td>\n",
       "    </tr>\n",
       "    <tr>\n",
       "      <td>3</td>\n",
       "      <td>PaymentScreenSuccessful</td>\n",
       "      <td>1200</td>\n",
       "      <td>1158</td>\n",
       "      <td>1181</td>\n",
       "    </tr>\n",
       "    <tr>\n",
       "      <td>4</td>\n",
       "      <td>Tutorial</td>\n",
       "      <td>278</td>\n",
       "      <td>283</td>\n",
       "      <td>279</td>\n",
       "    </tr>\n",
       "  </tbody>\n",
       "</table>\n",
       "</div>"
      ],
      "text/plain": [
       "experiment_id               event_name   246   247   248\n",
       "0                     CartScreenAppear  1266  1238  1230\n",
       "1                     MainScreenAppear  2450  2476  2493\n",
       "2                   OffersScreenAppear  1542  1520  1531\n",
       "3              PaymentScreenSuccessful  1200  1158  1181\n",
       "4                             Tutorial   278   283   279"
      ]
     },
     "execution_count": 51,
     "metadata": {},
     "output_type": "execute_result"
    }
   ],
   "source": [
    "pivot"
   ]
  },
  {
   "cell_type": "code",
   "execution_count": 52,
   "metadata": {},
   "outputs": [
    {
     "name": "stdout",
     "output_type": "stream",
     "text": [
      "p-value:  0.22883372237997213\n",
      "Fail to Reject H0 for CartScreenAppear and groups 246 247 - there is no reason to consider the proportions different.\n",
      "p-value:  0.7570597232046099\n",
      "Fail to Reject H0 for MainScreenAppear and groups 246 247 - there is no reason to consider the proportions different.\n",
      "p-value:  0.2480954578522181\n",
      "Fail to Reject H0 for OffersScreenAppear and groups 246 247 - there is no reason to consider the proportions different.\n",
      "p-value:  0.11456679313141849\n",
      "Fail to Reject H0 for PaymentScreenSuccessful and groups 246 247 - there is no reason to consider the proportions different.\n",
      "p-value:  0.9376996189257114\n",
      "Fail to Reject H0 for Tutorial and groups 246 247 - there is no reason to consider the proportions different.\n"
     ]
    }
   ],
   "source": [
    "for i in pivot.event_name.unique():\n",
    "    check_hypothesis(246, 247, i, 0.05)"
   ]
  },
  {
   "cell_type": "markdown",
   "metadata": {},
   "source": [
    "### Finally we are getting an answer to our question.  "
   ]
  },
  {
   "cell_type": "markdown",
   "metadata": {},
   "source": [
    "Difference between test groups **246 and 247** is statistically **insignificant**.  \n",
    "We can confirm that all the groups were split properly."
   ]
  },
  {
   "cell_type": "markdown",
   "metadata": {},
   "source": [
    "### Do the same thing for the group with altered fonts. Compare the results with those of each of the control groups for each event in isolation. Compare the results with the combined results for the control groups. What conclusions can you draw from the experiment?"
   ]
  },
  {
   "cell_type": "markdown",
   "metadata": {},
   "source": [
    "Now let's compare **246 and 248** and **247 and 248**."
   ]
  },
  {
   "cell_type": "code",
   "execution_count": 53,
   "metadata": {},
   "outputs": [
    {
     "name": "stdout",
     "output_type": "stream",
     "text": [
      "p-value:  0.07842923237520116\n",
      "Fail to Reject H0 for CartScreenAppear and groups 246 248 - there is no reason to consider the proportions different.\n",
      "p-value:  0.2949721933554552\n",
      "Fail to Reject H0 for MainScreenAppear and groups 246 248 - there is no reason to consider the proportions different.\n",
      "p-value:  0.20836205402738917\n",
      "Fail to Reject H0 for OffersScreenAppear and groups 246 248 - there is no reason to consider the proportions different.\n",
      "p-value:  0.2122553275697796\n",
      "Fail to Reject H0 for PaymentScreenSuccessful and groups 246 248 - there is no reason to consider the proportions different.\n",
      "p-value:  0.8264294010087645\n",
      "Fail to Reject H0 for Tutorial and groups 246 248 - there is no reason to consider the proportions different.\n"
     ]
    }
   ],
   "source": [
    "for i in pivot.event_name.unique():\n",
    "    check_hypothesis(246, 248, i, 0.0025)"
   ]
  },
  {
   "cell_type": "code",
   "execution_count": 54,
   "metadata": {},
   "outputs": [
    {
     "name": "stdout",
     "output_type": "stream",
     "text": [
      "p-value:  0.5786197879539783\n",
      "Fail to Reject H0 for CartScreenAppear and groups 247 248 - there is no reason to consider the proportions different.\n",
      "p-value:  0.4587053616621515\n",
      "Fail to Reject H0 for MainScreenAppear and groups 247 248 - there is no reason to consider the proportions different.\n",
      "p-value:  0.9197817830592261\n",
      "Fail to Reject H0 for OffersScreenAppear and groups 247 248 - there is no reason to consider the proportions different.\n",
      "p-value:  0.7373415053803964\n",
      "Fail to Reject H0 for PaymentScreenSuccessful and groups 247 248 - there is no reason to consider the proportions different.\n",
      "p-value:  0.765323922474501\n",
      "Fail to Reject H0 for Tutorial and groups 247 248 - there is no reason to consider the proportions different.\n"
     ]
    }
   ],
   "source": [
    "for i in pivot.event_name.unique():\n",
    "    check_hypothesis(247, 248, i, 0.0025)"
   ]
  },
  {
   "cell_type": "markdown",
   "metadata": {},
   "source": [
    "**We can see that there is no reason to consider the proportions different both between groups 246 - 248 and 247 - 248**   \n",
    "**And both for alpha as 0.05 and 0.0025**  \n",
    "Now let's do the same for combined groups."
   ]
  },
  {
   "cell_type": "code",
   "execution_count": 55,
   "metadata": {},
   "outputs": [],
   "source": [
    "df_filtered_new = df_filtered "
   ]
  },
  {
   "cell_type": "code",
   "execution_count": 56,
   "metadata": {},
   "outputs": [],
   "source": [
    "df_filtered_new['experiment_id'] = df_filtered_new['experiment_id'].replace(246, 247)"
   ]
  },
  {
   "cell_type": "code",
   "execution_count": 57,
   "metadata": {},
   "outputs": [
    {
     "data": {
      "text/plain": [
       "247    156324\n",
       "248     84563\n",
       "Name: experiment_id, dtype: int64"
      ]
     },
     "execution_count": 57,
     "metadata": {},
     "output_type": "execute_result"
    }
   ],
   "source": [
    "df_filtered_new['experiment_id'].value_counts()"
   ]
  },
  {
   "cell_type": "markdown",
   "metadata": {},
   "source": [
    "Now we got combined groups. Let's modify our previous calculations."
   ]
  },
  {
   "cell_type": "code",
   "execution_count": 58,
   "metadata": {},
   "outputs": [
    {
     "data": {
      "text/html": [
       "<div>\n",
       "<style scoped>\n",
       "    .dataframe tbody tr th:only-of-type {\n",
       "        vertical-align: middle;\n",
       "    }\n",
       "\n",
       "    .dataframe tbody tr th {\n",
       "        vertical-align: top;\n",
       "    }\n",
       "\n",
       "    .dataframe thead th {\n",
       "        text-align: right;\n",
       "    }\n",
       "</style>\n",
       "<table border=\"1\" class=\"dataframe\">\n",
       "  <thead>\n",
       "    <tr style=\"text-align: right;\">\n",
       "      <th>experiment_id</th>\n",
       "      <th>event_name</th>\n",
       "      <th>247</th>\n",
       "      <th>248</th>\n",
       "    </tr>\n",
       "  </thead>\n",
       "  <tbody>\n",
       "    <tr>\n",
       "      <td>0</td>\n",
       "      <td>CartScreenAppear</td>\n",
       "      <td>2504</td>\n",
       "      <td>1230</td>\n",
       "    </tr>\n",
       "    <tr>\n",
       "      <td>1</td>\n",
       "      <td>MainScreenAppear</td>\n",
       "      <td>4926</td>\n",
       "      <td>2493</td>\n",
       "    </tr>\n",
       "    <tr>\n",
       "      <td>2</td>\n",
       "      <td>OffersScreenAppear</td>\n",
       "      <td>3062</td>\n",
       "      <td>1531</td>\n",
       "    </tr>\n",
       "    <tr>\n",
       "      <td>3</td>\n",
       "      <td>PaymentScreenSuccessful</td>\n",
       "      <td>2358</td>\n",
       "      <td>1181</td>\n",
       "    </tr>\n",
       "    <tr>\n",
       "      <td>4</td>\n",
       "      <td>Tutorial</td>\n",
       "      <td>561</td>\n",
       "      <td>279</td>\n",
       "    </tr>\n",
       "  </tbody>\n",
       "</table>\n",
       "</div>"
      ],
      "text/plain": [
       "experiment_id               event_name   247   248\n",
       "0                     CartScreenAppear  2504  1230\n",
       "1                     MainScreenAppear  4926  2493\n",
       "2                   OffersScreenAppear  3062  1531\n",
       "3              PaymentScreenSuccessful  2358  1181\n",
       "4                             Tutorial   561   279"
      ]
     },
     "execution_count": 58,
     "metadata": {},
     "output_type": "execute_result"
    }
   ],
   "source": [
    "pivot_new = df_filtered_new.pivot_table(index='event_name', values='user_id', columns='experiment_id', aggfunc={'user_id':'nunique'}).reset_index()\n",
    "pivot_new"
   ]
  },
  {
   "cell_type": "code",
   "execution_count": 59,
   "metadata": {},
   "outputs": [],
   "source": [
    "def check_hypothesis_new(group1, group2, event, alpha_test):\n",
    "    \n",
    "    alpha = alpha_test # significance level\n",
    "    \n",
    "    # Successes are amount of users in group per certain event\n",
    "    successes1 = pivot_new[pivot_new.event_name == event][group1].iloc[0]\n",
    "    successes2 = pivot_new[pivot_new.event_name == event][group2].iloc[0]\n",
    "   \n",
    "    \n",
    "    # Trials are all users in group\n",
    "    trials1 = df_filtered_new[df_filtered_new.experiment_id == group1]['user_id'].nunique()\n",
    "    trials2 = df_filtered_new[df_filtered_new.experiment_id == group2]['user_id'].nunique()\n",
    "    \n",
    "    \n",
    "    # success proportion in the first group:\n",
    "    p1 = successes1/trials1\n",
    "\n",
    "    # success proportion in the second group:\n",
    "    p2 = successes2/trials2\n",
    "\n",
    "    # success proportion in the combined dataset:\n",
    "    p_combined = (successes1 + successes2) / (trials1 + trials2)\n",
    "\n",
    "    # the difference between the datasets' proportions\n",
    "    difference = p1 - p2\n",
    "    # calculating the statistic in standard deviations of the standard normal distribution\n",
    "    z_value = difference / mth.sqrt(p_combined * (1 - p_combined) * (1/trials1 + 1/trials2))\n",
    "\n",
    "    # setting up the standard normal distribution (mean 0, standard deviation 1)\n",
    "    distr = st.norm(0, 1)\n",
    "    # calculating the statistic in standard deviations of the standard normal distribution\n",
    "    z_value = difference / mth.sqrt(p_combined * (1 - p_combined) * (1/trials1 + 1/trials2))\n",
    "\n",
    "    # setting up the standard normal distribution (mean 0, standard deviation 1)\n",
    "    distr = st.norm(0, 1) \n",
    "\n",
    "    p_value = (1 - distr.cdf(abs(z_value))) * 2\n",
    "\n",
    "    print('p-value: ', p_value)\n",
    "\n",
    "    if (p_value < alpha):\n",
    "        print(\"Reject H0 for\",event, 'and groups',group1,group2, \"- there is a significant difference between the proportions.\")\n",
    "    else:\n",
    "        print(\"Fail to Reject H0 for\", event,'and groups',group1,group2,\"- there is no reason to consider the proportions different.\")\n",
    "\n"
   ]
  },
  {
   "cell_type": "code",
   "execution_count": 60,
   "metadata": {},
   "outputs": [
    {
     "name": "stdout",
     "output_type": "stream",
     "text": [
      "p-value:  0.18175875284404386\n",
      "Fail to Reject H0 for CartScreenAppear and groups 247 248 - there is no reason to consider the proportions different.\n",
      "p-value:  0.29424526837179577\n",
      "Fail to Reject H0 for MainScreenAppear and groups 247 248 - there is no reason to consider the proportions different.\n",
      "p-value:  0.43425549655188256\n",
      "Fail to Reject H0 for OffersScreenAppear and groups 247 248 - there is no reason to consider the proportions different.\n",
      "p-value:  0.6004294282308704\n",
      "Fail to Reject H0 for PaymentScreenSuccessful and groups 247 248 - there is no reason to consider the proportions different.\n",
      "p-value:  0.764862472531507\n",
      "Fail to Reject H0 for Tutorial and groups 247 248 - there is no reason to consider the proportions different.\n"
     ]
    }
   ],
   "source": [
    "for i in pivot_new.event_name.unique():\n",
    "    check_hypothesis_new(247, 248, i, 0.0025)"
   ]
  },
  {
   "cell_type": "markdown",
   "metadata": {},
   "source": [
    "We did it and there's no reason to consider the proportions different. Could it be because of a false positive result?  \n",
    "Let's use **The Bonferroni procedure** to correct our alpha."
   ]
  },
  {
   "cell_type": "markdown",
   "metadata": {},
   "source": [
    "**We can see that there is no reason to consider the proportions different both between cpmbined groups 246+247 and group 248**   \n",
    "**Both for alpha as 0.05 and 0.0025**  "
   ]
  },
  {
   "cell_type": "markdown",
   "metadata": {},
   "source": [
    "<div class=\"alert alert-success\">\n",
    "<b>Reviewer's comment v2: </b> Excellent! All tests are correct!\n",
    "</div>"
   ]
  },
  {
   "cell_type": "markdown",
   "metadata": {},
   "source": [
    "### What significance level have you set to test the statistical hypotheses mentioned above? Calculate how many statistical hypothesis tests you carried out."
   ]
  },
  {
   "cell_type": "markdown",
   "metadata": {},
   "source": [
    "The most common and most approximate correction of the required significance level. The significance level in each of m comparisons is m times less than the significance level required for a single comparison. In a nutshell, the significance level ɑ is divided by the number of hypotheses.  \n",
    "\n",
    "**alpha_old / m = alpha_new**\n",
    "\n",
    "m - number of hypothesis test.  \n",
    "In our project we had **20** hypothesis test on the same samples.  \n",
    "Therefore m = 20  \n",
    "\n",
    "In testing I've used alpha as **0.05**\n",
    "  \n",
    "New alpha value:  "
   ]
  },
  {
   "cell_type": "code",
   "execution_count": 61,
   "metadata": {},
   "outputs": [
    {
     "data": {
      "text/plain": [
       "0.0025"
      ]
     },
     "execution_count": 61,
     "metadata": {},
     "output_type": "execute_result"
    }
   ],
   "source": [
    "0.05 / 20 "
   ]
  },
  {
   "cell_type": "markdown",
   "metadata": {},
   "source": [
    "Let's replace it and look at the new results.  \n",
    "After replacing it results haven't changed much."
   ]
  },
  {
   "cell_type": "markdown",
   "metadata": {},
   "source": [
    "<div class=\"alert alert-warning\">\n",
    "<b>Reviewer's comment: </b> Yes, you are right. Great that you are already familiar with the Bonferroni correction. It can save you from the false negative error, but on the other hand, this correction is too strict. It's almost impossible to reject H0 hypotheses with it. Thus, we usually use other corrections for real tasks.  You can read about them here: <br>\n",
    "<a>http://jpktd.blogspot.com/2013/04/multiple-testing-p-value-corrections-in.html</a>    \n",
    "</div>"
   ]
  },
  {
   "cell_type": "markdown",
   "metadata": {},
   "source": [
    "<div class=\"alert alert-warning\">\n",
    "<b>Reviewer's comment: </b> Here is an additional video for you:\n",
    "</div>"
   ]
  },
  {
   "cell_type": "code",
   "execution_count": 62,
   "metadata": {},
   "outputs": [
    {
     "data": {
      "image/jpeg": "[encoded data removed]",
      "text/html": [
       "\n",
       "        <iframe\n",
       "            width=\"900\"\n",
       "            height=\"500\"\n",
       "            src=\"https://www.youtube.com/embed/K8LQSvtjcEo\"\n",
       "            frameborder=\"0\"\n",
       "            allowfullscreen\n",
       "        ></iframe>\n",
       "        "
      ],
      "text/plain": [
       "<IPython.lib.display.YouTubeVideo at 0x7f7559a6b790>"
      ]
     },
     "execution_count": 62,
     "metadata": {},
     "output_type": "execute_result"
    }
   ],
   "source": [
    "# StatQuest \"False Discovery Rates\", eng\n",
    "\n",
    "from IPython.display import YouTubeVideo\n",
    "YouTubeVideo('K8LQSvtjcEo', width=900, height=500)"
   ]
  },
  {
   "cell_type": "markdown",
   "metadata": {},
   "source": [
    "## Concluison"
   ]
  },
  {
   "cell_type": "markdown",
   "metadata": {},
   "source": [
    "In **step 5** we've studied the results of the experiment and checked wether there were any statistically significant diffrences between the groups.  \n",
    "We figured out that:  \n",
    "\n",
    "* There are **2484, 2517 and 2537** users in groups A, A and B.\n",
    "* Difference between test groups **246 and 247** is statistically **insignificant**. We can confirm that all the groups were split properly.\n",
    "* **We can see that there is no reason to consider the proportions different both between groups 246 - 248 and 247 - 248**. **And both for alpha as 0.05 and 0.0025**  \n",
    "* **We can see that there is no reason to consider the proportions different both between cpmbined groups 246+247 and group 248**   \n",
    "**Both for alpha as 0.05 and 0.0025**  "
   ]
  },
  {
   "cell_type": "markdown",
   "metadata": {},
   "source": [
    "# Conclusion"
   ]
  },
  {
   "cell_type": "markdown",
   "metadata": {},
   "source": [
    "In this integrated project we've made a thorough work on investigating food startup user behavior. We prepared the data.\n",
    "Cheked if it was eligible.\n",
    " Filtered it from unneded dates.\n",
    " Made sure we had users from all 3 experimental groups:\n",
    " \n",
    "* There are **5** events.\n",
    "* The amount of unique users in original data is: **7551** and in filtered - **7538**\n",
    "* The average number of events per user is **32**.\n",
    "* Data covers about 2 weeks. First : 2019-07-25 Last  : 2019-08-08\n",
    "* By looking at this graph we can definitely say that data represents the **period of 1 week** - from 01-08-2019 till 07-08-2019.\n",
    "* We can see that we have **2484** and **2517** users in A and A groups respectively and **2537** users in B group.\n",
    " \n",
    "Studied the event funnel:\n",
    "* We figured the frequency of events.\n",
    "* We figured how many users have returned and repeated the same behavior more than once. ~84% for payment is a very good number.  \n",
    "* Right awat by looking at the funnel we can say that most users are left behind right after **Main Screen Appear** behavior and before offers.\n",
    "* We can see that **~46%** of users got to the Payment stage.\n",
    "\n",
    "We figured that there are 2 sequences:\n",
    "* Main Screen Appear >>> Offers Screen Appear >>> CartScreenAppear >>> Payment Screen Successful\n",
    "* Tutorial\n",
    "\n",
    "In **step 5** we've studied the results of the experiment and checked wether there were any statistically significant diffrences between the groups.  \n",
    "We figured out that:  \n",
    "\n",
    "* There are **2484, 2517 and 2537** users in groups A, A and B.\n",
    "* Difference between test groups **246 and 247** is statistically **insignificant**. We can confirm that all the groups were split properly.\n",
    "* **We can see that there is no reason to consider the proportions different both between groups 246 - 248 and 247 - 248**. **And both for alpha as 0.05 and 0.0025**  \n",
    "* **We can see that there is no reason to consider the proportions different both between cpmbined groups 246+247 and group 248**   \n",
    "**Both for alpha as 0.05 and 0.0025**  \n",
    "\n",
    "We've used **The Bonferroni procedure** to correct our alpha and test samples with the new alpha value."
   ]
  },
  {
   "cell_type": "markdown",
   "metadata": {},
   "source": [
    "<div class=\"alert alert-success\">\n",
    "<b>Reviewer's comment v2: </b> Thank you for your researh!\n",
    "</div>"
   ]
  },
  {
   "cell_type": "code",
   "execution_count": null,
   "metadata": {},
   "outputs": [],
   "source": []
  }
 ],
 "metadata": {
  "kernelspec": {
   "display_name": "Python 3",
   "language": "python",
   "name": "python3"
  },
  "language_info": {
   "codemirror_mode": {
    "name": "ipython",
    "version": 3
   },
   "file_extension": ".py",
   "mimetype": "text/x-python",
   "name": "python",
   "nbconvert_exporter": "python",
   "pygments_lexer": "ipython3",
   "version": "3.7.6"
  }
 },
 "nbformat": 4,
 "nbformat_minor": 4
}
